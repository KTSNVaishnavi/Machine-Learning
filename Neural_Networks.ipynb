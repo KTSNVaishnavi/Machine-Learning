{
  "nbformat": 4,
  "nbformat_minor": 0,
  "metadata": {
    "colab": {
      "provenance": [],
      "authorship_tag": "ABX9TyP+hj/lr78T96Jbx5EjjJD4",
      "include_colab_link": true
    },
    "kernelspec": {
      "name": "python3",
      "display_name": "Python 3"
    },
    "language_info": {
      "name": "python"
    }
  },
  "cells": [
    {
      "cell_type": "markdown",
      "metadata": {
        "id": "view-in-github",
        "colab_type": "text"
      },
      "source": [
        "<a href=\"https://colab.research.google.com/github/KTSNVaishnavi/Machine-Learning/blob/main/Neural_Networks.ipynb\" target=\"_parent\"><img src=\"https://colab.research.google.com/assets/colab-badge.svg\" alt=\"Open In Colab\"/></a>"
      ]
    },
    {
      "cell_type": "code",
      "execution_count": 20,
      "metadata": {
        "colab": {
          "base_uri": "https://localhost:8080/"
        },
        "id": "B8JGNyLINqEb",
        "outputId": "5eb97ce1-e832-4105-e636-693b59d5ab28"
      },
      "outputs": [
        {
          "output_type": "stream",
          "name": "stdout",
          "text": [
            "Drive already mounted at /content/gdrive; to attempt to forcibly remount, call drive.mount(\"/content/gdrive\", force_remount=True).\n"
          ]
        }
      ],
      "source": [
        "from google.colab import drive\n",
        "drive.mount('/content/gdrive')"
      ]
    },
    {
      "cell_type": "code",
      "source": [
        "!pip install collinearity"
      ],
      "metadata": {
        "colab": {
          "base_uri": "https://localhost:8080/"
        },
        "id": "ohBS_P_kptv-",
        "outputId": "b87709d8-a838-4590-df56-097aad4d119f"
      },
      "execution_count": 21,
      "outputs": [
        {
          "output_type": "stream",
          "name": "stdout",
          "text": [
            "Looking in indexes: https://pypi.org/simple, https://us-python.pkg.dev/colab-wheels/public/simple/\n",
            "Requirement already satisfied: collinearity in /usr/local/lib/python3.7/dist-packages (0.6.1)\n",
            "Requirement already satisfied: numpy in /usr/local/lib/python3.7/dist-packages (from collinearity) (1.21.6)\n",
            "Requirement already satisfied: scikit-learn in /usr/local/lib/python3.7/dist-packages (from collinearity) (1.0.2)\n",
            "Requirement already satisfied: threadpoolctl>=2.0.0 in /usr/local/lib/python3.7/dist-packages (from scikit-learn->collinearity) (3.1.0)\n",
            "Requirement already satisfied: joblib>=0.11 in /usr/local/lib/python3.7/dist-packages (from scikit-learn->collinearity) (1.2.0)\n",
            "Requirement already satisfied: scipy>=1.1.0 in /usr/local/lib/python3.7/dist-packages (from scikit-learn->collinearity) (1.7.3)\n"
          ]
        }
      ]
    },
    {
      "cell_type": "code",
      "source": [
        "import pandas as pd\n",
        "import numpy as np\n",
        "#For detecting the low variance\n",
        "from sklearn.feature_selection import VarianceThreshold\n",
        "#For detecting the outliers\n",
        "from scipy import stats\n",
        "#For detecting the collinearity \n",
        "from collinearity import SelectNonCollinear\n",
        "#For scaling the data, and encoding\n",
        "from sklearn.preprocessing import StandardScaler,OneHotEncoder\n",
        "from sklearn.impute import SimpleImputer\n",
        "from sklearn.linear_model import LogisticRegressionCV\n",
        "#For class imbalance\n",
        "from imblearn.over_sampling import SMOTE \n",
        "from sklearn.model_selection import train_test_split\n",
        "from sklearn.metrics import classification_report,confusion_matrix\n",
        "from sklearn.metrics import mean_absolute_error,mean_squared_error"
      ],
      "metadata": {
        "id": "J8wAMKQqN-4g"
      },
      "execution_count": 22,
      "outputs": []
    },
    {
      "cell_type": "code",
      "source": [
        "#Reading the data\n",
        "data=pd.read_csv('/content/gdrive/MyDrive/MachineLearning/Iris.csv')"
      ],
      "metadata": {
        "id": "NEDouzRIPfcx"
      },
      "execution_count": 23,
      "outputs": []
    },
    {
      "cell_type": "code",
      "source": [
        "data.shape"
      ],
      "metadata": {
        "colab": {
          "base_uri": "https://localhost:8080/"
        },
        "id": "Xd248HkZPukL",
        "outputId": "635ffb39-d711-4a40-8e05-91e7815b359f"
      },
      "execution_count": 24,
      "outputs": [
        {
          "output_type": "execute_result",
          "data": {
            "text/plain": [
              "(150, 6)"
            ]
          },
          "metadata": {},
          "execution_count": 24
        }
      ]
    },
    {
      "cell_type": "code",
      "source": [
        "data.dtypes"
      ],
      "metadata": {
        "colab": {
          "base_uri": "https://localhost:8080/"
        },
        "id": "vkI_GBpwP0GT",
        "outputId": "9c4b6ba7-3cfa-4f15-a0ce-92076eb70c88"
      },
      "execution_count": 25,
      "outputs": [
        {
          "output_type": "execute_result",
          "data": {
            "text/plain": [
              "Id                 int64\n",
              "SepalLengthCm    float64\n",
              "SepalWidthCm     float64\n",
              "PetalLengthCm    float64\n",
              "PetalWidthCm     float64\n",
              "Species           object\n",
              "dtype: object"
            ]
          },
          "metadata": {},
          "execution_count": 25
        }
      ]
    },
    {
      "cell_type": "code",
      "source": [
        "data.head()"
      ],
      "metadata": {
        "colab": {
          "base_uri": "https://localhost:8080/",
          "height": 206
        },
        "id": "Jn4te8jLP1eL",
        "outputId": "74a125a5-a1ff-4502-b080-3b3319d3055c"
      },
      "execution_count": 26,
      "outputs": [
        {
          "output_type": "execute_result",
          "data": {
            "text/plain": [
              "   Id  SepalLengthCm  SepalWidthCm  PetalLengthCm  PetalWidthCm      Species\n",
              "0   1            5.1           3.5            1.4           0.2  Iris-setosa\n",
              "1   2            4.9           3.0            1.4           0.2  Iris-setosa\n",
              "2   3            4.7           3.2            1.3           0.2  Iris-setosa\n",
              "3   4            4.6           3.1            1.5           0.2  Iris-setosa\n",
              "4   5            5.0           3.6            1.4           0.2  Iris-setosa"
            ],
            "text/html": [
              "\n",
              "  <div id=\"df-75dc1eaa-3eee-4497-b65c-72e35c5f0602\">\n",
              "    <div class=\"colab-df-container\">\n",
              "      <div>\n",
              "<style scoped>\n",
              "    .dataframe tbody tr th:only-of-type {\n",
              "        vertical-align: middle;\n",
              "    }\n",
              "\n",
              "    .dataframe tbody tr th {\n",
              "        vertical-align: top;\n",
              "    }\n",
              "\n",
              "    .dataframe thead th {\n",
              "        text-align: right;\n",
              "    }\n",
              "</style>\n",
              "<table border=\"1\" class=\"dataframe\">\n",
              "  <thead>\n",
              "    <tr style=\"text-align: right;\">\n",
              "      <th></th>\n",
              "      <th>Id</th>\n",
              "      <th>SepalLengthCm</th>\n",
              "      <th>SepalWidthCm</th>\n",
              "      <th>PetalLengthCm</th>\n",
              "      <th>PetalWidthCm</th>\n",
              "      <th>Species</th>\n",
              "    </tr>\n",
              "  </thead>\n",
              "  <tbody>\n",
              "    <tr>\n",
              "      <th>0</th>\n",
              "      <td>1</td>\n",
              "      <td>5.1</td>\n",
              "      <td>3.5</td>\n",
              "      <td>1.4</td>\n",
              "      <td>0.2</td>\n",
              "      <td>Iris-setosa</td>\n",
              "    </tr>\n",
              "    <tr>\n",
              "      <th>1</th>\n",
              "      <td>2</td>\n",
              "      <td>4.9</td>\n",
              "      <td>3.0</td>\n",
              "      <td>1.4</td>\n",
              "      <td>0.2</td>\n",
              "      <td>Iris-setosa</td>\n",
              "    </tr>\n",
              "    <tr>\n",
              "      <th>2</th>\n",
              "      <td>3</td>\n",
              "      <td>4.7</td>\n",
              "      <td>3.2</td>\n",
              "      <td>1.3</td>\n",
              "      <td>0.2</td>\n",
              "      <td>Iris-setosa</td>\n",
              "    </tr>\n",
              "    <tr>\n",
              "      <th>3</th>\n",
              "      <td>4</td>\n",
              "      <td>4.6</td>\n",
              "      <td>3.1</td>\n",
              "      <td>1.5</td>\n",
              "      <td>0.2</td>\n",
              "      <td>Iris-setosa</td>\n",
              "    </tr>\n",
              "    <tr>\n",
              "      <th>4</th>\n",
              "      <td>5</td>\n",
              "      <td>5.0</td>\n",
              "      <td>3.6</td>\n",
              "      <td>1.4</td>\n",
              "      <td>0.2</td>\n",
              "      <td>Iris-setosa</td>\n",
              "    </tr>\n",
              "  </tbody>\n",
              "</table>\n",
              "</div>\n",
              "      <button class=\"colab-df-convert\" onclick=\"convertToInteractive('df-75dc1eaa-3eee-4497-b65c-72e35c5f0602')\"\n",
              "              title=\"Convert this dataframe to an interactive table.\"\n",
              "              style=\"display:none;\">\n",
              "        \n",
              "  <svg xmlns=\"http://www.w3.org/2000/svg\" height=\"24px\"viewBox=\"0 0 24 24\"\n",
              "       width=\"24px\">\n",
              "    <path d=\"M0 0h24v24H0V0z\" fill=\"none\"/>\n",
              "    <path d=\"M18.56 5.44l.94 2.06.94-2.06 2.06-.94-2.06-.94-.94-2.06-.94 2.06-2.06.94zm-11 1L8.5 8.5l.94-2.06 2.06-.94-2.06-.94L8.5 2.5l-.94 2.06-2.06.94zm10 10l.94 2.06.94-2.06 2.06-.94-2.06-.94-.94-2.06-.94 2.06-2.06.94z\"/><path d=\"M17.41 7.96l-1.37-1.37c-.4-.4-.92-.59-1.43-.59-.52 0-1.04.2-1.43.59L10.3 9.45l-7.72 7.72c-.78.78-.78 2.05 0 2.83L4 21.41c.39.39.9.59 1.41.59.51 0 1.02-.2 1.41-.59l7.78-7.78 2.81-2.81c.8-.78.8-2.07 0-2.86zM5.41 20L4 18.59l7.72-7.72 1.47 1.35L5.41 20z\"/>\n",
              "  </svg>\n",
              "      </button>\n",
              "      \n",
              "  <style>\n",
              "    .colab-df-container {\n",
              "      display:flex;\n",
              "      flex-wrap:wrap;\n",
              "      gap: 12px;\n",
              "    }\n",
              "\n",
              "    .colab-df-convert {\n",
              "      background-color: #E8F0FE;\n",
              "      border: none;\n",
              "      border-radius: 50%;\n",
              "      cursor: pointer;\n",
              "      display: none;\n",
              "      fill: #1967D2;\n",
              "      height: 32px;\n",
              "      padding: 0 0 0 0;\n",
              "      width: 32px;\n",
              "    }\n",
              "\n",
              "    .colab-df-convert:hover {\n",
              "      background-color: #E2EBFA;\n",
              "      box-shadow: 0px 1px 2px rgba(60, 64, 67, 0.3), 0px 1px 3px 1px rgba(60, 64, 67, 0.15);\n",
              "      fill: #174EA6;\n",
              "    }\n",
              "\n",
              "    [theme=dark] .colab-df-convert {\n",
              "      background-color: #3B4455;\n",
              "      fill: #D2E3FC;\n",
              "    }\n",
              "\n",
              "    [theme=dark] .colab-df-convert:hover {\n",
              "      background-color: #434B5C;\n",
              "      box-shadow: 0px 1px 3px 1px rgba(0, 0, 0, 0.15);\n",
              "      filter: drop-shadow(0px 1px 2px rgba(0, 0, 0, 0.3));\n",
              "      fill: #FFFFFF;\n",
              "    }\n",
              "  </style>\n",
              "\n",
              "      <script>\n",
              "        const buttonEl =\n",
              "          document.querySelector('#df-75dc1eaa-3eee-4497-b65c-72e35c5f0602 button.colab-df-convert');\n",
              "        buttonEl.style.display =\n",
              "          google.colab.kernel.accessAllowed ? 'block' : 'none';\n",
              "\n",
              "        async function convertToInteractive(key) {\n",
              "          const element = document.querySelector('#df-75dc1eaa-3eee-4497-b65c-72e35c5f0602');\n",
              "          const dataTable =\n",
              "            await google.colab.kernel.invokeFunction('convertToInteractive',\n",
              "                                                     [key], {});\n",
              "          if (!dataTable) return;\n",
              "\n",
              "          const docLinkHtml = 'Like what you see? Visit the ' +\n",
              "            '<a target=\"_blank\" href=https://colab.research.google.com/notebooks/data_table.ipynb>data table notebook</a>'\n",
              "            + ' to learn more about interactive tables.';\n",
              "          element.innerHTML = '';\n",
              "          dataTable['output_type'] = 'display_data';\n",
              "          await google.colab.output.renderOutput(dataTable, element);\n",
              "          const docLink = document.createElement('div');\n",
              "          docLink.innerHTML = docLinkHtml;\n",
              "          element.appendChild(docLink);\n",
              "        }\n",
              "      </script>\n",
              "    </div>\n",
              "  </div>\n",
              "  "
            ]
          },
          "metadata": {},
          "execution_count": 26
        }
      ]
    },
    {
      "cell_type": "code",
      "source": [
        "data.tail()"
      ],
      "metadata": {
        "colab": {
          "base_uri": "https://localhost:8080/",
          "height": 206
        },
        "id": "5LKiLxR1P3Ib",
        "outputId": "9f0eb06c-f501-4756-dd6a-cdef78dc9be5"
      },
      "execution_count": 27,
      "outputs": [
        {
          "output_type": "execute_result",
          "data": {
            "text/plain": [
              "      Id  SepalLengthCm  SepalWidthCm  PetalLengthCm  PetalWidthCm  \\\n",
              "145  146            6.7           3.0            5.2           2.3   \n",
              "146  147            6.3           2.5            5.0           1.9   \n",
              "147  148            6.5           3.0            5.2           2.0   \n",
              "148  149            6.2           3.4            5.4           2.3   \n",
              "149  150            5.9           3.0            5.1           1.8   \n",
              "\n",
              "            Species  \n",
              "145  Iris-virginica  \n",
              "146  Iris-virginica  \n",
              "147  Iris-virginica  \n",
              "148  Iris-virginica  \n",
              "149  Iris-virginica  "
            ],
            "text/html": [
              "\n",
              "  <div id=\"df-92a3ec47-7d62-4519-bf3b-8a73c682a2a8\">\n",
              "    <div class=\"colab-df-container\">\n",
              "      <div>\n",
              "<style scoped>\n",
              "    .dataframe tbody tr th:only-of-type {\n",
              "        vertical-align: middle;\n",
              "    }\n",
              "\n",
              "    .dataframe tbody tr th {\n",
              "        vertical-align: top;\n",
              "    }\n",
              "\n",
              "    .dataframe thead th {\n",
              "        text-align: right;\n",
              "    }\n",
              "</style>\n",
              "<table border=\"1\" class=\"dataframe\">\n",
              "  <thead>\n",
              "    <tr style=\"text-align: right;\">\n",
              "      <th></th>\n",
              "      <th>Id</th>\n",
              "      <th>SepalLengthCm</th>\n",
              "      <th>SepalWidthCm</th>\n",
              "      <th>PetalLengthCm</th>\n",
              "      <th>PetalWidthCm</th>\n",
              "      <th>Species</th>\n",
              "    </tr>\n",
              "  </thead>\n",
              "  <tbody>\n",
              "    <tr>\n",
              "      <th>145</th>\n",
              "      <td>146</td>\n",
              "      <td>6.7</td>\n",
              "      <td>3.0</td>\n",
              "      <td>5.2</td>\n",
              "      <td>2.3</td>\n",
              "      <td>Iris-virginica</td>\n",
              "    </tr>\n",
              "    <tr>\n",
              "      <th>146</th>\n",
              "      <td>147</td>\n",
              "      <td>6.3</td>\n",
              "      <td>2.5</td>\n",
              "      <td>5.0</td>\n",
              "      <td>1.9</td>\n",
              "      <td>Iris-virginica</td>\n",
              "    </tr>\n",
              "    <tr>\n",
              "      <th>147</th>\n",
              "      <td>148</td>\n",
              "      <td>6.5</td>\n",
              "      <td>3.0</td>\n",
              "      <td>5.2</td>\n",
              "      <td>2.0</td>\n",
              "      <td>Iris-virginica</td>\n",
              "    </tr>\n",
              "    <tr>\n",
              "      <th>148</th>\n",
              "      <td>149</td>\n",
              "      <td>6.2</td>\n",
              "      <td>3.4</td>\n",
              "      <td>5.4</td>\n",
              "      <td>2.3</td>\n",
              "      <td>Iris-virginica</td>\n",
              "    </tr>\n",
              "    <tr>\n",
              "      <th>149</th>\n",
              "      <td>150</td>\n",
              "      <td>5.9</td>\n",
              "      <td>3.0</td>\n",
              "      <td>5.1</td>\n",
              "      <td>1.8</td>\n",
              "      <td>Iris-virginica</td>\n",
              "    </tr>\n",
              "  </tbody>\n",
              "</table>\n",
              "</div>\n",
              "      <button class=\"colab-df-convert\" onclick=\"convertToInteractive('df-92a3ec47-7d62-4519-bf3b-8a73c682a2a8')\"\n",
              "              title=\"Convert this dataframe to an interactive table.\"\n",
              "              style=\"display:none;\">\n",
              "        \n",
              "  <svg xmlns=\"http://www.w3.org/2000/svg\" height=\"24px\"viewBox=\"0 0 24 24\"\n",
              "       width=\"24px\">\n",
              "    <path d=\"M0 0h24v24H0V0z\" fill=\"none\"/>\n",
              "    <path d=\"M18.56 5.44l.94 2.06.94-2.06 2.06-.94-2.06-.94-.94-2.06-.94 2.06-2.06.94zm-11 1L8.5 8.5l.94-2.06 2.06-.94-2.06-.94L8.5 2.5l-.94 2.06-2.06.94zm10 10l.94 2.06.94-2.06 2.06-.94-2.06-.94-.94-2.06-.94 2.06-2.06.94z\"/><path d=\"M17.41 7.96l-1.37-1.37c-.4-.4-.92-.59-1.43-.59-.52 0-1.04.2-1.43.59L10.3 9.45l-7.72 7.72c-.78.78-.78 2.05 0 2.83L4 21.41c.39.39.9.59 1.41.59.51 0 1.02-.2 1.41-.59l7.78-7.78 2.81-2.81c.8-.78.8-2.07 0-2.86zM5.41 20L4 18.59l7.72-7.72 1.47 1.35L5.41 20z\"/>\n",
              "  </svg>\n",
              "      </button>\n",
              "      \n",
              "  <style>\n",
              "    .colab-df-container {\n",
              "      display:flex;\n",
              "      flex-wrap:wrap;\n",
              "      gap: 12px;\n",
              "    }\n",
              "\n",
              "    .colab-df-convert {\n",
              "      background-color: #E8F0FE;\n",
              "      border: none;\n",
              "      border-radius: 50%;\n",
              "      cursor: pointer;\n",
              "      display: none;\n",
              "      fill: #1967D2;\n",
              "      height: 32px;\n",
              "      padding: 0 0 0 0;\n",
              "      width: 32px;\n",
              "    }\n",
              "\n",
              "    .colab-df-convert:hover {\n",
              "      background-color: #E2EBFA;\n",
              "      box-shadow: 0px 1px 2px rgba(60, 64, 67, 0.3), 0px 1px 3px 1px rgba(60, 64, 67, 0.15);\n",
              "      fill: #174EA6;\n",
              "    }\n",
              "\n",
              "    [theme=dark] .colab-df-convert {\n",
              "      background-color: #3B4455;\n",
              "      fill: #D2E3FC;\n",
              "    }\n",
              "\n",
              "    [theme=dark] .colab-df-convert:hover {\n",
              "      background-color: #434B5C;\n",
              "      box-shadow: 0px 1px 3px 1px rgba(0, 0, 0, 0.15);\n",
              "      filter: drop-shadow(0px 1px 2px rgba(0, 0, 0, 0.3));\n",
              "      fill: #FFFFFF;\n",
              "    }\n",
              "  </style>\n",
              "\n",
              "      <script>\n",
              "        const buttonEl =\n",
              "          document.querySelector('#df-92a3ec47-7d62-4519-bf3b-8a73c682a2a8 button.colab-df-convert');\n",
              "        buttonEl.style.display =\n",
              "          google.colab.kernel.accessAllowed ? 'block' : 'none';\n",
              "\n",
              "        async function convertToInteractive(key) {\n",
              "          const element = document.querySelector('#df-92a3ec47-7d62-4519-bf3b-8a73c682a2a8');\n",
              "          const dataTable =\n",
              "            await google.colab.kernel.invokeFunction('convertToInteractive',\n",
              "                                                     [key], {});\n",
              "          if (!dataTable) return;\n",
              "\n",
              "          const docLinkHtml = 'Like what you see? Visit the ' +\n",
              "            '<a target=\"_blank\" href=https://colab.research.google.com/notebooks/data_table.ipynb>data table notebook</a>'\n",
              "            + ' to learn more about interactive tables.';\n",
              "          element.innerHTML = '';\n",
              "          dataTable['output_type'] = 'display_data';\n",
              "          await google.colab.output.renderOutput(dataTable, element);\n",
              "          const docLink = document.createElement('div');\n",
              "          docLink.innerHTML = docLinkHtml;\n",
              "          element.appendChild(docLink);\n",
              "        }\n",
              "      </script>\n",
              "    </div>\n",
              "  </div>\n",
              "  "
            ]
          },
          "metadata": {},
          "execution_count": 27
        }
      ]
    },
    {
      "cell_type": "code",
      "source": [
        "data.describe(include='all')"
      ],
      "metadata": {
        "colab": {
          "base_uri": "https://localhost:8080/",
          "height": 394
        },
        "id": "5PrrIgBzQFqq",
        "outputId": "b9cee931-89c5-4881-e5a8-6c867851dc97"
      },
      "execution_count": 28,
      "outputs": [
        {
          "output_type": "execute_result",
          "data": {
            "text/plain": [
              "                Id  SepalLengthCm  SepalWidthCm  PetalLengthCm  PetalWidthCm  \\\n",
              "count   150.000000     150.000000    150.000000     150.000000    150.000000   \n",
              "unique         NaN            NaN           NaN            NaN           NaN   \n",
              "top            NaN            NaN           NaN            NaN           NaN   \n",
              "freq           NaN            NaN           NaN            NaN           NaN   \n",
              "mean     75.500000       5.843333      3.054000       3.758667      1.198667   \n",
              "std      43.445368       0.828066      0.433594       1.764420      0.763161   \n",
              "min       1.000000       4.300000      2.000000       1.000000      0.100000   \n",
              "25%      38.250000       5.100000      2.800000       1.600000      0.300000   \n",
              "50%      75.500000       5.800000      3.000000       4.350000      1.300000   \n",
              "75%     112.750000       6.400000      3.300000       5.100000      1.800000   \n",
              "max     150.000000       7.900000      4.400000       6.900000      2.500000   \n",
              "\n",
              "            Species  \n",
              "count           150  \n",
              "unique            3  \n",
              "top     Iris-setosa  \n",
              "freq             50  \n",
              "mean            NaN  \n",
              "std             NaN  \n",
              "min             NaN  \n",
              "25%             NaN  \n",
              "50%             NaN  \n",
              "75%             NaN  \n",
              "max             NaN  "
            ],
            "text/html": [
              "\n",
              "  <div id=\"df-d28d8354-2753-49e5-bd83-398c079c3a29\">\n",
              "    <div class=\"colab-df-container\">\n",
              "      <div>\n",
              "<style scoped>\n",
              "    .dataframe tbody tr th:only-of-type {\n",
              "        vertical-align: middle;\n",
              "    }\n",
              "\n",
              "    .dataframe tbody tr th {\n",
              "        vertical-align: top;\n",
              "    }\n",
              "\n",
              "    .dataframe thead th {\n",
              "        text-align: right;\n",
              "    }\n",
              "</style>\n",
              "<table border=\"1\" class=\"dataframe\">\n",
              "  <thead>\n",
              "    <tr style=\"text-align: right;\">\n",
              "      <th></th>\n",
              "      <th>Id</th>\n",
              "      <th>SepalLengthCm</th>\n",
              "      <th>SepalWidthCm</th>\n",
              "      <th>PetalLengthCm</th>\n",
              "      <th>PetalWidthCm</th>\n",
              "      <th>Species</th>\n",
              "    </tr>\n",
              "  </thead>\n",
              "  <tbody>\n",
              "    <tr>\n",
              "      <th>count</th>\n",
              "      <td>150.000000</td>\n",
              "      <td>150.000000</td>\n",
              "      <td>150.000000</td>\n",
              "      <td>150.000000</td>\n",
              "      <td>150.000000</td>\n",
              "      <td>150</td>\n",
              "    </tr>\n",
              "    <tr>\n",
              "      <th>unique</th>\n",
              "      <td>NaN</td>\n",
              "      <td>NaN</td>\n",
              "      <td>NaN</td>\n",
              "      <td>NaN</td>\n",
              "      <td>NaN</td>\n",
              "      <td>3</td>\n",
              "    </tr>\n",
              "    <tr>\n",
              "      <th>top</th>\n",
              "      <td>NaN</td>\n",
              "      <td>NaN</td>\n",
              "      <td>NaN</td>\n",
              "      <td>NaN</td>\n",
              "      <td>NaN</td>\n",
              "      <td>Iris-setosa</td>\n",
              "    </tr>\n",
              "    <tr>\n",
              "      <th>freq</th>\n",
              "      <td>NaN</td>\n",
              "      <td>NaN</td>\n",
              "      <td>NaN</td>\n",
              "      <td>NaN</td>\n",
              "      <td>NaN</td>\n",
              "      <td>50</td>\n",
              "    </tr>\n",
              "    <tr>\n",
              "      <th>mean</th>\n",
              "      <td>75.500000</td>\n",
              "      <td>5.843333</td>\n",
              "      <td>3.054000</td>\n",
              "      <td>3.758667</td>\n",
              "      <td>1.198667</td>\n",
              "      <td>NaN</td>\n",
              "    </tr>\n",
              "    <tr>\n",
              "      <th>std</th>\n",
              "      <td>43.445368</td>\n",
              "      <td>0.828066</td>\n",
              "      <td>0.433594</td>\n",
              "      <td>1.764420</td>\n",
              "      <td>0.763161</td>\n",
              "      <td>NaN</td>\n",
              "    </tr>\n",
              "    <tr>\n",
              "      <th>min</th>\n",
              "      <td>1.000000</td>\n",
              "      <td>4.300000</td>\n",
              "      <td>2.000000</td>\n",
              "      <td>1.000000</td>\n",
              "      <td>0.100000</td>\n",
              "      <td>NaN</td>\n",
              "    </tr>\n",
              "    <tr>\n",
              "      <th>25%</th>\n",
              "      <td>38.250000</td>\n",
              "      <td>5.100000</td>\n",
              "      <td>2.800000</td>\n",
              "      <td>1.600000</td>\n",
              "      <td>0.300000</td>\n",
              "      <td>NaN</td>\n",
              "    </tr>\n",
              "    <tr>\n",
              "      <th>50%</th>\n",
              "      <td>75.500000</td>\n",
              "      <td>5.800000</td>\n",
              "      <td>3.000000</td>\n",
              "      <td>4.350000</td>\n",
              "      <td>1.300000</td>\n",
              "      <td>NaN</td>\n",
              "    </tr>\n",
              "    <tr>\n",
              "      <th>75%</th>\n",
              "      <td>112.750000</td>\n",
              "      <td>6.400000</td>\n",
              "      <td>3.300000</td>\n",
              "      <td>5.100000</td>\n",
              "      <td>1.800000</td>\n",
              "      <td>NaN</td>\n",
              "    </tr>\n",
              "    <tr>\n",
              "      <th>max</th>\n",
              "      <td>150.000000</td>\n",
              "      <td>7.900000</td>\n",
              "      <td>4.400000</td>\n",
              "      <td>6.900000</td>\n",
              "      <td>2.500000</td>\n",
              "      <td>NaN</td>\n",
              "    </tr>\n",
              "  </tbody>\n",
              "</table>\n",
              "</div>\n",
              "      <button class=\"colab-df-convert\" onclick=\"convertToInteractive('df-d28d8354-2753-49e5-bd83-398c079c3a29')\"\n",
              "              title=\"Convert this dataframe to an interactive table.\"\n",
              "              style=\"display:none;\">\n",
              "        \n",
              "  <svg xmlns=\"http://www.w3.org/2000/svg\" height=\"24px\"viewBox=\"0 0 24 24\"\n",
              "       width=\"24px\">\n",
              "    <path d=\"M0 0h24v24H0V0z\" fill=\"none\"/>\n",
              "    <path d=\"M18.56 5.44l.94 2.06.94-2.06 2.06-.94-2.06-.94-.94-2.06-.94 2.06-2.06.94zm-11 1L8.5 8.5l.94-2.06 2.06-.94-2.06-.94L8.5 2.5l-.94 2.06-2.06.94zm10 10l.94 2.06.94-2.06 2.06-.94-2.06-.94-.94-2.06-.94 2.06-2.06.94z\"/><path d=\"M17.41 7.96l-1.37-1.37c-.4-.4-.92-.59-1.43-.59-.52 0-1.04.2-1.43.59L10.3 9.45l-7.72 7.72c-.78.78-.78 2.05 0 2.83L4 21.41c.39.39.9.59 1.41.59.51 0 1.02-.2 1.41-.59l7.78-7.78 2.81-2.81c.8-.78.8-2.07 0-2.86zM5.41 20L4 18.59l7.72-7.72 1.47 1.35L5.41 20z\"/>\n",
              "  </svg>\n",
              "      </button>\n",
              "      \n",
              "  <style>\n",
              "    .colab-df-container {\n",
              "      display:flex;\n",
              "      flex-wrap:wrap;\n",
              "      gap: 12px;\n",
              "    }\n",
              "\n",
              "    .colab-df-convert {\n",
              "      background-color: #E8F0FE;\n",
              "      border: none;\n",
              "      border-radius: 50%;\n",
              "      cursor: pointer;\n",
              "      display: none;\n",
              "      fill: #1967D2;\n",
              "      height: 32px;\n",
              "      padding: 0 0 0 0;\n",
              "      width: 32px;\n",
              "    }\n",
              "\n",
              "    .colab-df-convert:hover {\n",
              "      background-color: #E2EBFA;\n",
              "      box-shadow: 0px 1px 2px rgba(60, 64, 67, 0.3), 0px 1px 3px 1px rgba(60, 64, 67, 0.15);\n",
              "      fill: #174EA6;\n",
              "    }\n",
              "\n",
              "    [theme=dark] .colab-df-convert {\n",
              "      background-color: #3B4455;\n",
              "      fill: #D2E3FC;\n",
              "    }\n",
              "\n",
              "    [theme=dark] .colab-df-convert:hover {\n",
              "      background-color: #434B5C;\n",
              "      box-shadow: 0px 1px 3px 1px rgba(0, 0, 0, 0.15);\n",
              "      filter: drop-shadow(0px 1px 2px rgba(0, 0, 0, 0.3));\n",
              "      fill: #FFFFFF;\n",
              "    }\n",
              "  </style>\n",
              "\n",
              "      <script>\n",
              "        const buttonEl =\n",
              "          document.querySelector('#df-d28d8354-2753-49e5-bd83-398c079c3a29 button.colab-df-convert');\n",
              "        buttonEl.style.display =\n",
              "          google.colab.kernel.accessAllowed ? 'block' : 'none';\n",
              "\n",
              "        async function convertToInteractive(key) {\n",
              "          const element = document.querySelector('#df-d28d8354-2753-49e5-bd83-398c079c3a29');\n",
              "          const dataTable =\n",
              "            await google.colab.kernel.invokeFunction('convertToInteractive',\n",
              "                                                     [key], {});\n",
              "          if (!dataTable) return;\n",
              "\n",
              "          const docLinkHtml = 'Like what you see? Visit the ' +\n",
              "            '<a target=\"_blank\" href=https://colab.research.google.com/notebooks/data_table.ipynb>data table notebook</a>'\n",
              "            + ' to learn more about interactive tables.';\n",
              "          element.innerHTML = '';\n",
              "          dataTable['output_type'] = 'display_data';\n",
              "          await google.colab.output.renderOutput(dataTable, element);\n",
              "          const docLink = document.createElement('div');\n",
              "          docLink.innerHTML = docLinkHtml;\n",
              "          element.appendChild(docLink);\n",
              "        }\n",
              "      </script>\n",
              "    </div>\n",
              "  </div>\n",
              "  "
            ]
          },
          "metadata": {},
          "execution_count": 28
        }
      ]
    },
    {
      "cell_type": "code",
      "source": [
        "#Checking for na values\n",
        "data.isnull().sum()"
      ],
      "metadata": {
        "colab": {
          "base_uri": "https://localhost:8080/"
        },
        "id": "WinywLyzPgGC",
        "outputId": "1e8e68c9-5dc4-406e-8550-f0353457f843"
      },
      "execution_count": 29,
      "outputs": [
        {
          "output_type": "execute_result",
          "data": {
            "text/plain": [
              "Id               0\n",
              "SepalLengthCm    0\n",
              "SepalWidthCm     0\n",
              "PetalLengthCm    0\n",
              "PetalWidthCm     0\n",
              "Species          0\n",
              "dtype: int64"
            ]
          },
          "metadata": {},
          "execution_count": 29
        }
      ]
    },
    {
      "cell_type": "code",
      "source": [
        "#Checking the outliers\n",
        "num=data.select_dtypes('float64').columns\n",
        "z = np.abs(stats.zscore(data[num]))\n",
        "print(z)"
      ],
      "metadata": {
        "colab": {
          "base_uri": "https://localhost:8080/"
        },
        "id": "c5dro0nTvdt7",
        "outputId": "f0ad3082-59f5-445b-f7f1-81511f722939"
      },
      "execution_count": 30,
      "outputs": [
        {
          "output_type": "stream",
          "name": "stdout",
          "text": [
            "     SepalLengthCm  SepalWidthCm  PetalLengthCm  PetalWidthCm\n",
            "0         0.900681      1.032057       1.341272      1.312977\n",
            "1         1.143017      0.124958       1.341272      1.312977\n",
            "2         1.385353      0.337848       1.398138      1.312977\n",
            "3         1.506521      0.106445       1.284407      1.312977\n",
            "4         1.021849      1.263460       1.341272      1.312977\n",
            "..             ...           ...            ...           ...\n",
            "145       1.038005      0.124958       0.819624      1.447956\n",
            "146       0.553333      1.281972       0.705893      0.922064\n",
            "147       0.795669      0.124958       0.819624      1.053537\n",
            "148       0.432165      0.800654       0.933356      1.447956\n",
            "149       0.068662      0.124958       0.762759      0.790591\n",
            "\n",
            "[150 rows x 4 columns]\n"
          ]
        }
      ]
    },
    {
      "cell_type": "code",
      "source": [
        "# Position of the outlier\n",
        "print(np.where(z > 3.5))\n",
        "print(np.where(z < -3.5))"
      ],
      "metadata": {
        "colab": {
          "base_uri": "https://localhost:8080/"
        },
        "id": "zOpvec--vh7S",
        "outputId": "155ef0e9-0207-4263-b825-dd58009f1f48"
      },
      "execution_count": 31,
      "outputs": [
        {
          "output_type": "stream",
          "name": "stdout",
          "text": [
            "(array([], dtype=int64), array([], dtype=int64))\n",
            "(array([], dtype=int64), array([], dtype=int64))\n"
          ]
        }
      ]
    },
    {
      "cell_type": "code",
      "source": [
        "#There is no outlier\n",
        "# num=data.select_dtypes(['float64','int64'])\n",
        "data= data[(z < 3.5).all(axis=1)]\n",
        "data.shape"
      ],
      "metadata": {
        "id": "5Kc0Z7mHvxWx",
        "colab": {
          "base_uri": "https://localhost:8080/"
        },
        "outputId": "23d6e6e5-0dce-444f-ead7-80c92ed7fe11"
      },
      "execution_count": 32,
      "outputs": [
        {
          "output_type": "execute_result",
          "data": {
            "text/plain": [
              "(150, 6)"
            ]
          },
          "metadata": {},
          "execution_count": 32
        }
      ]
    },
    {
      "cell_type": "code",
      "source": [
        "#Finding the collinear columns\n",
        "cor_matrix = data.corr().abs()\n",
        "print(cor_matrix)"
      ],
      "metadata": {
        "colab": {
          "base_uri": "https://localhost:8080/"
        },
        "id": "i4GVJUO8fYVZ",
        "outputId": "714353da-bfa5-47c1-f4b4-58943881764f"
      },
      "execution_count": 33,
      "outputs": [
        {
          "output_type": "stream",
          "name": "stdout",
          "text": [
            "                     Id  SepalLengthCm  SepalWidthCm  PetalLengthCm  \\\n",
            "Id             1.000000       0.716676      0.397729       0.882747   \n",
            "SepalLengthCm  0.716676       1.000000      0.109369       0.871754   \n",
            "SepalWidthCm   0.397729       0.109369      1.000000       0.420516   \n",
            "PetalLengthCm  0.882747       0.871754      0.420516       1.000000   \n",
            "PetalWidthCm   0.899759       0.817954      0.356544       0.962757   \n",
            "\n",
            "               PetalWidthCm  \n",
            "Id                 0.899759  \n",
            "SepalLengthCm      0.817954  \n",
            "SepalWidthCm       0.356544  \n",
            "PetalLengthCm      0.962757  \n",
            "PetalWidthCm       1.000000  \n"
          ]
        }
      ]
    },
    {
      "cell_type": "code",
      "source": [
        "#Building an upper triangular matrix to see the correaltion of the columns more clearly \n",
        "upper_tri = cor_matrix.where(np.triu(np.ones(cor_matrix.shape),k=1).astype('bool'))\n",
        "print(upper_tri)"
      ],
      "metadata": {
        "colab": {
          "base_uri": "https://localhost:8080/"
        },
        "id": "Uhw2f-dRslNq",
        "outputId": "56919cc9-0546-43bf-b3f6-8dba1cca9010"
      },
      "execution_count": 34,
      "outputs": [
        {
          "output_type": "stream",
          "name": "stdout",
          "text": [
            "               Id  SepalLengthCm  SepalWidthCm  PetalLengthCm  PetalWidthCm\n",
            "Id            NaN       0.716676      0.397729       0.882747      0.899759\n",
            "SepalLengthCm NaN            NaN      0.109369       0.871754      0.817954\n",
            "SepalWidthCm  NaN            NaN           NaN       0.420516      0.356544\n",
            "PetalLengthCm NaN            NaN           NaN            NaN      0.962757\n",
            "PetalWidthCm  NaN            NaN           NaN            NaN           NaN\n"
          ]
        }
      ]
    },
    {
      "cell_type": "code",
      "source": [
        "#View the columns with high collinearity\n",
        "to_drop = [column for column in upper_tri.columns if any(upper_tri[column] > 0.95)]\n",
        "print(); print(to_drop)"
      ],
      "metadata": {
        "colab": {
          "base_uri": "https://localhost:8080/"
        },
        "id": "FgerHX2osqCf",
        "outputId": "069ad5b3-32a7-4917-f44e-2a7267ed3632"
      },
      "execution_count": 35,
      "outputs": [
        {
          "output_type": "stream",
          "name": "stdout",
          "text": [
            "\n",
            "['PetalWidthCm']\n"
          ]
        }
      ]
    },
    {
      "cell_type": "code",
      "source": [
        "data = data.drop(data[to_drop], axis=1)\n",
        "print(); print(data.head())"
      ],
      "metadata": {
        "colab": {
          "base_uri": "https://localhost:8080/"
        },
        "id": "xSnqtA1Ys2N_",
        "outputId": "56a75004-897e-4bc2-c15a-7b4b38e0fe81"
      },
      "execution_count": 36,
      "outputs": [
        {
          "output_type": "stream",
          "name": "stdout",
          "text": [
            "\n",
            "   Id  SepalLengthCm  SepalWidthCm  PetalLengthCm      Species\n",
            "0   1            5.1           3.5            1.4  Iris-setosa\n",
            "1   2            4.9           3.0            1.4  Iris-setosa\n",
            "2   3            4.7           3.2            1.3  Iris-setosa\n",
            "3   4            4.6           3.1            1.5  Iris-setosa\n",
            "4   5            5.0           3.6            1.4  Iris-setosa\n"
          ]
        }
      ]
    },
    {
      "cell_type": "code",
      "source": [
        "#Separating the num cols and cat cols\n",
        "#Dropping the unnecessary columns\n",
        "waste=['Id']\n",
        "#In this dataset, all the independant variables have correct data types\n",
        "data=data.drop(waste,axis=1)\n",
        "cat='Species'\n",
        "data[cat]=data[cat].astype('category')"
      ],
      "metadata": {
        "id": "vWi4mIx4P63C"
      },
      "execution_count": 37,
      "outputs": []
    },
    {
      "cell_type": "code",
      "source": [
        "#Check the Shape\n",
        "data.columns"
      ],
      "metadata": {
        "colab": {
          "base_uri": "https://localhost:8080/"
        },
        "id": "iJG6tODvblJ-",
        "outputId": "674db51f-f0a0-4ab0-8a95-5fc09cc31318"
      },
      "execution_count": 38,
      "outputs": [
        {
          "output_type": "execute_result",
          "data": {
            "text/plain": [
              "Index(['SepalLengthCm', 'SepalWidthCm', 'PetalLengthCm', 'Species'], dtype='object')"
            ]
          },
          "metadata": {},
          "execution_count": 38
        }
      ]
    },
    {
      "cell_type": "code",
      "source": [
        "# #Removing any zero variance columns\n",
        "# # import ordinal encoder from sklearn\n",
        "# from sklearn.preprocessing import OrdinalEncoder\n",
        "# ord_enc = OrdinalEncoder()\n",
        "# # Transform the data\n",
        "# data[cat]=np.array(data[cat])\n",
        "# data[cat]=data[cat].values.reshape(-1,1)\n",
        "# data[cat] = ord_enc.fit_transform(data[cat])"
      ],
      "metadata": {
        "id": "1ywNoKEfe6vb"
      },
      "execution_count": 39,
      "outputs": []
    },
    {
      "cell_type": "code",
      "source": [
        "#Removing the low variance\n",
        "num=data.select_dtypes('float64').columns\n",
        "from sklearn.feature_selection import VarianceThreshold\n",
        "var_thr = VarianceThreshold(threshold = 0.25) #Removing both constant and quasi-constant\n",
        "var_thr.fit(data[num])\n",
        "\n",
        "var_thr.get_support()\n"
      ],
      "metadata": {
        "colab": {
          "base_uri": "https://localhost:8080/"
        },
        "id": "7aqHLEzWcF8h",
        "outputId": "5ca1b5b2-6b7a-4f46-a055-ed61d35e73f6"
      },
      "execution_count": 40,
      "outputs": [
        {
          "output_type": "execute_result",
          "data": {
            "text/plain": [
              "array([ True, False,  True])"
            ]
          },
          "metadata": {},
          "execution_count": 40
        }
      ]
    },
    {
      "cell_type": "code",
      "source": [
        "concol = [column for column in data[num].columns \n",
        "          if column not in data[num].columns[var_thr.get_support()]]\n",
        "\n",
        "for features in concol:\n",
        "    print(features)"
      ],
      "metadata": {
        "id": "GRqhZAQ0cFnW",
        "colab": {
          "base_uri": "https://localhost:8080/"
        },
        "outputId": "1542e48f-930b-467e-8904-f1bc005c8d36"
      },
      "execution_count": 41,
      "outputs": [
        {
          "output_type": "stream",
          "name": "stdout",
          "text": [
            "SepalWidthCm\n"
          ]
        }
      ]
    },
    {
      "cell_type": "code",
      "source": [
        "num=num.drop(concol)"
      ],
      "metadata": {
        "id": "4xZhrs8ieunD"
      },
      "execution_count": 42,
      "outputs": []
    },
    {
      "cell_type": "code",
      "source": [
        "data[num].shape"
      ],
      "metadata": {
        "colab": {
          "base_uri": "https://localhost:8080/"
        },
        "id": "ryJG0ulZqoDT",
        "outputId": "3cc1919a-eb86-48b7-f7c4-02a0cdcdbb71"
      },
      "execution_count": 43,
      "outputs": [
        {
          "output_type": "execute_result",
          "data": {
            "text/plain": [
              "(150, 2)"
            ]
          },
          "metadata": {},
          "execution_count": 43
        }
      ]
    },
    {
      "cell_type": "code",
      "source": [
        "data=pd.concat([data[num],data[cat]],axis=1)\n",
        "data.shape\n"
      ],
      "metadata": {
        "id": "DLRp6nY2Y08P",
        "colab": {
          "base_uri": "https://localhost:8080/"
        },
        "outputId": "f171db24-a0e4-4413-ac21-c0b80b0c80d7"
      },
      "execution_count": 44,
      "outputs": [
        {
          "output_type": "execute_result",
          "data": {
            "text/plain": [
              "(150, 3)"
            ]
          },
          "metadata": {},
          "execution_count": 44
        }
      ]
    },
    {
      "cell_type": "code",
      "source": [
        "#Checking the value counts of target\n",
        "data['Species'].value_counts()\n"
      ],
      "metadata": {
        "id": "eY5eEeQpxKv2",
        "colab": {
          "base_uri": "https://localhost:8080/"
        },
        "outputId": "f6aa4f88-e7d3-4dc9-a57e-b3ecaaec625e"
      },
      "execution_count": 45,
      "outputs": [
        {
          "output_type": "execute_result",
          "data": {
            "text/plain": [
              "Iris-setosa        50\n",
              "Iris-versicolor    50\n",
              "Iris-virginica     50\n",
              "Name: Species, dtype: int64"
            ]
          },
          "metadata": {},
          "execution_count": 45
        }
      ]
    },
    {
      "cell_type": "code",
      "source": [
        "#Train_test_split\n",
        "X_train,X_test,y_train,y_test=train_test_split(data.loc[:, data.columns!='Species'], data['Species'], test_size=0.3, random_state=100,stratify=data['Species'])"
      ],
      "metadata": {
        "id": "83vx9W2DQn9b"
      },
      "execution_count": 46,
      "outputs": []
    },
    {
      "cell_type": "code",
      "source": [
        "#Imputing the null values\n",
        "sim_imp=SimpleImputer(strategy='mean')\n",
        "X_train=pd.DataFrame(sim_imp.fit_transform(X_train),columns=X_train.columns)\n",
        "X_test=pd.DataFrame(sim_imp.transform(X_test),columns=X_train.columns)"
      ],
      "metadata": {
        "id": "J4xPfWKpRMsx"
      },
      "execution_count": 47,
      "outputs": []
    },
    {
      "cell_type": "code",
      "source": [
        "#Standardizing the data\n",
        "std=StandardScaler()\n",
        "X_train=pd.DataFrame(std.fit_transform(X_train),columns=X_train.columns)\n",
        "X_test=pd.DataFrame(std.transform(X_test),columns=X_test.columns)"
      ],
      "metadata": {
        "id": "cd42nNaPSTH1"
      },
      "execution_count": 48,
      "outputs": []
    },
    {
      "cell_type": "code",
      "source": [
        "# y_train=y_train.ravel()\n",
        "# y_test=y_test.ravel()"
      ],
      "metadata": {
        "id": "XiXl4lI-jy46"
      },
      "execution_count": 49,
      "outputs": []
    },
    {
      "cell_type": "code",
      "source": [
        "# y_train=pd.DataFrame(y_train.values,columns=(['Species']))\n",
        "# y_test=pd.DataFrame(y_test.values,columns=(['Species']))\n",
        "# y_train.dtypes\n",
        "# y_train=y_train.astype('category')\n",
        "# y_test=y_test.astype('category')\n"
      ],
      "metadata": {
        "id": "wfPIamL-gCfM"
      },
      "execution_count": 50,
      "outputs": []
    },
    {
      "cell_type": "code",
      "source": [
        "#Replacing the string to a no.\n",
        "y_test=pd.DataFrame(y_test.replace({'Iris-setosa':1,'Iris-versicolor':2,'Iris-virginica':3}))\n",
        "y_train=pd.DataFrame(y_train.replace({'Iris-setosa':1,'Iris-versicolor':2,'Iris-virginica':3}))"
      ],
      "metadata": {
        "id": "jAU-PMMF_ARY"
      },
      "execution_count": 51,
      "outputs": []
    },
    {
      "cell_type": "code",
      "source": [
        "# #Encoding the target variable\n",
        "# from sklearn.preprocessing import LabelEncoder\n",
        "# lab=LabelEncoder()\n",
        "# y_train=pd.DataFrame(lab.fit_transform(y_train))\n",
        "# y_test=pd.DataFrame(lab.transform(y_test))\n",
        "# y_train.astype('category')\n",
        "y_train"
      ],
      "metadata": {
        "id": "s7v398ptfyz1",
        "colab": {
          "base_uri": "https://localhost:8080/",
          "height": 424
        },
        "outputId": "d2e44633-f1e1-4b6d-e328-78ed2f08790e"
      },
      "execution_count": 52,
      "outputs": [
        {
          "output_type": "execute_result",
          "data": {
            "text/plain": [
              "     Species\n",
              "71         2\n",
              "90         2\n",
              "4          1\n",
              "17         1\n",
              "18         1\n",
              "..       ...\n",
              "26         1\n",
              "69         2\n",
              "103        3\n",
              "65         2\n",
              "106        3\n",
              "\n",
              "[105 rows x 1 columns]"
            ],
            "text/html": [
              "\n",
              "  <div id=\"df-cedad4cc-2779-438d-87f9-3b17372061f8\">\n",
              "    <div class=\"colab-df-container\">\n",
              "      <div>\n",
              "<style scoped>\n",
              "    .dataframe tbody tr th:only-of-type {\n",
              "        vertical-align: middle;\n",
              "    }\n",
              "\n",
              "    .dataframe tbody tr th {\n",
              "        vertical-align: top;\n",
              "    }\n",
              "\n",
              "    .dataframe thead th {\n",
              "        text-align: right;\n",
              "    }\n",
              "</style>\n",
              "<table border=\"1\" class=\"dataframe\">\n",
              "  <thead>\n",
              "    <tr style=\"text-align: right;\">\n",
              "      <th></th>\n",
              "      <th>Species</th>\n",
              "    </tr>\n",
              "  </thead>\n",
              "  <tbody>\n",
              "    <tr>\n",
              "      <th>71</th>\n",
              "      <td>2</td>\n",
              "    </tr>\n",
              "    <tr>\n",
              "      <th>90</th>\n",
              "      <td>2</td>\n",
              "    </tr>\n",
              "    <tr>\n",
              "      <th>4</th>\n",
              "      <td>1</td>\n",
              "    </tr>\n",
              "    <tr>\n",
              "      <th>17</th>\n",
              "      <td>1</td>\n",
              "    </tr>\n",
              "    <tr>\n",
              "      <th>18</th>\n",
              "      <td>1</td>\n",
              "    </tr>\n",
              "    <tr>\n",
              "      <th>...</th>\n",
              "      <td>...</td>\n",
              "    </tr>\n",
              "    <tr>\n",
              "      <th>26</th>\n",
              "      <td>1</td>\n",
              "    </tr>\n",
              "    <tr>\n",
              "      <th>69</th>\n",
              "      <td>2</td>\n",
              "    </tr>\n",
              "    <tr>\n",
              "      <th>103</th>\n",
              "      <td>3</td>\n",
              "    </tr>\n",
              "    <tr>\n",
              "      <th>65</th>\n",
              "      <td>2</td>\n",
              "    </tr>\n",
              "    <tr>\n",
              "      <th>106</th>\n",
              "      <td>3</td>\n",
              "    </tr>\n",
              "  </tbody>\n",
              "</table>\n",
              "<p>105 rows × 1 columns</p>\n",
              "</div>\n",
              "      <button class=\"colab-df-convert\" onclick=\"convertToInteractive('df-cedad4cc-2779-438d-87f9-3b17372061f8')\"\n",
              "              title=\"Convert this dataframe to an interactive table.\"\n",
              "              style=\"display:none;\">\n",
              "        \n",
              "  <svg xmlns=\"http://www.w3.org/2000/svg\" height=\"24px\"viewBox=\"0 0 24 24\"\n",
              "       width=\"24px\">\n",
              "    <path d=\"M0 0h24v24H0V0z\" fill=\"none\"/>\n",
              "    <path d=\"M18.56 5.44l.94 2.06.94-2.06 2.06-.94-2.06-.94-.94-2.06-.94 2.06-2.06.94zm-11 1L8.5 8.5l.94-2.06 2.06-.94-2.06-.94L8.5 2.5l-.94 2.06-2.06.94zm10 10l.94 2.06.94-2.06 2.06-.94-2.06-.94-.94-2.06-.94 2.06-2.06.94z\"/><path d=\"M17.41 7.96l-1.37-1.37c-.4-.4-.92-.59-1.43-.59-.52 0-1.04.2-1.43.59L10.3 9.45l-7.72 7.72c-.78.78-.78 2.05 0 2.83L4 21.41c.39.39.9.59 1.41.59.51 0 1.02-.2 1.41-.59l7.78-7.78 2.81-2.81c.8-.78.8-2.07 0-2.86zM5.41 20L4 18.59l7.72-7.72 1.47 1.35L5.41 20z\"/>\n",
              "  </svg>\n",
              "      </button>\n",
              "      \n",
              "  <style>\n",
              "    .colab-df-container {\n",
              "      display:flex;\n",
              "      flex-wrap:wrap;\n",
              "      gap: 12px;\n",
              "    }\n",
              "\n",
              "    .colab-df-convert {\n",
              "      background-color: #E8F0FE;\n",
              "      border: none;\n",
              "      border-radius: 50%;\n",
              "      cursor: pointer;\n",
              "      display: none;\n",
              "      fill: #1967D2;\n",
              "      height: 32px;\n",
              "      padding: 0 0 0 0;\n",
              "      width: 32px;\n",
              "    }\n",
              "\n",
              "    .colab-df-convert:hover {\n",
              "      background-color: #E2EBFA;\n",
              "      box-shadow: 0px 1px 2px rgba(60, 64, 67, 0.3), 0px 1px 3px 1px rgba(60, 64, 67, 0.15);\n",
              "      fill: #174EA6;\n",
              "    }\n",
              "\n",
              "    [theme=dark] .colab-df-convert {\n",
              "      background-color: #3B4455;\n",
              "      fill: #D2E3FC;\n",
              "    }\n",
              "\n",
              "    [theme=dark] .colab-df-convert:hover {\n",
              "      background-color: #434B5C;\n",
              "      box-shadow: 0px 1px 3px 1px rgba(0, 0, 0, 0.15);\n",
              "      filter: drop-shadow(0px 1px 2px rgba(0, 0, 0, 0.3));\n",
              "      fill: #FFFFFF;\n",
              "    }\n",
              "  </style>\n",
              "\n",
              "      <script>\n",
              "        const buttonEl =\n",
              "          document.querySelector('#df-cedad4cc-2779-438d-87f9-3b17372061f8 button.colab-df-convert');\n",
              "        buttonEl.style.display =\n",
              "          google.colab.kernel.accessAllowed ? 'block' : 'none';\n",
              "\n",
              "        async function convertToInteractive(key) {\n",
              "          const element = document.querySelector('#df-cedad4cc-2779-438d-87f9-3b17372061f8');\n",
              "          const dataTable =\n",
              "            await google.colab.kernel.invokeFunction('convertToInteractive',\n",
              "                                                     [key], {});\n",
              "          if (!dataTable) return;\n",
              "\n",
              "          const docLinkHtml = 'Like what you see? Visit the ' +\n",
              "            '<a target=\"_blank\" href=https://colab.research.google.com/notebooks/data_table.ipynb>data table notebook</a>'\n",
              "            + ' to learn more about interactive tables.';\n",
              "          element.innerHTML = '';\n",
              "          dataTable['output_type'] = 'display_data';\n",
              "          await google.colab.output.renderOutput(dataTable, element);\n",
              "          const docLink = document.createElement('div');\n",
              "          docLink.innerHTML = docLinkHtml;\n",
              "          element.appendChild(docLink);\n",
              "        }\n",
              "      </script>\n",
              "    </div>\n",
              "  </div>\n",
              "  "
            ]
          },
          "metadata": {},
          "execution_count": 52
        }
      ]
    },
    {
      "cell_type": "code",
      "source": [
        "#Model building\n",
        "model=LogisticRegressionCV(cv=3,solver='newton-cg',class_weight='balanced',max_iter=200,multi_class='multinomial')\n",
        "log=model.fit(X_train,y_train)"
      ],
      "metadata": {
        "id": "DN8rLBHdSlCR",
        "colab": {
          "base_uri": "https://localhost:8080/"
        },
        "outputId": "77b5012e-c990-4b54-aa0f-852de45c9403"
      },
      "execution_count": 53,
      "outputs": [
        {
          "output_type": "stream",
          "name": "stderr",
          "text": [
            "/usr/local/lib/python3.7/dist-packages/sklearn/utils/validation.py:993: DataConversionWarning: A column-vector y was passed when a 1d array was expected. Please change the shape of y to (n_samples, ), for example using ravel().\n",
            "  y = column_or_1d(y, warn=True)\n"
          ]
        }
      ]
    },
    {
      "cell_type": "code",
      "source": [
        "#Metrics\n",
        "train_pred=log.predict(X_train)\n",
        "test_pred=log.predict(X_test)"
      ],
      "metadata": {
        "id": "VUPWz6dQSw4x"
      },
      "execution_count": 54,
      "outputs": []
    },
    {
      "cell_type": "code",
      "source": [
        "print(confusion_matrix(train_pred,y_train))\n",
        "print(confusion_matrix(test_pred,y_test))\n",
        "print(classification_report(train_pred,y_train))\n",
        "print(classification_report(test_pred,y_test))"
      ],
      "metadata": {
        "id": "nilbz_RiTA1o",
        "colab": {
          "base_uri": "https://localhost:8080/"
        },
        "outputId": "c092cb06-9b2d-4968-c375-5f2fde8cb6b3"
      },
      "execution_count": 55,
      "outputs": [
        {
          "output_type": "stream",
          "name": "stdout",
          "text": [
            "[[35  0  0]\n",
            " [ 0 34  1]\n",
            " [ 0  1 34]]\n",
            "[[15  0  0]\n",
            " [ 0 15  3]\n",
            " [ 0  0 12]]\n",
            "              precision    recall  f1-score   support\n",
            "\n",
            "           1       1.00      1.00      1.00        35\n",
            "           2       0.97      0.97      0.97        35\n",
            "           3       0.97      0.97      0.97        35\n",
            "\n",
            "    accuracy                           0.98       105\n",
            "   macro avg       0.98      0.98      0.98       105\n",
            "weighted avg       0.98      0.98      0.98       105\n",
            "\n",
            "              precision    recall  f1-score   support\n",
            "\n",
            "           1       1.00      1.00      1.00        15\n",
            "           2       1.00      0.83      0.91        18\n",
            "           3       0.80      1.00      0.89        12\n",
            "\n",
            "    accuracy                           0.93        45\n",
            "   macro avg       0.93      0.94      0.93        45\n",
            "weighted avg       0.95      0.93      0.93        45\n",
            "\n"
          ]
        }
      ]
    },
    {
      "cell_type": "code",
      "source": [
        "#Building the neural network\n",
        "import tensorflow as tf\n",
        "from tensorflow.keras.models import Sequential \n",
        "from tensorflow.keras.layers import Dense\n",
        "from keras.utils.np_utils import to_categorical"
      ],
      "metadata": {
        "id": "9C9XSS9rTU5n"
      },
      "execution_count": 56,
      "outputs": []
    },
    {
      "cell_type": "code",
      "source": [
        "model=Sequential()\n",
        "model.add(Dense(5,input_dim=2, activation='relu'))        \n",
        "model.add(Dense(3, activation='softmax'))                                                    "
      ],
      "metadata": {
        "id": "JDU-5BFQT0eW"
      },
      "execution_count": 57,
      "outputs": []
    },
    {
      "cell_type": "code",
      "source": [
        "from tensorflow.keras.optimizers import SGD \n",
        "customized_optimizer=SGD(learning_rate=0.015)"
      ],
      "metadata": {
        "id": "mufzjGTFWWQ4"
      },
      "execution_count": 58,
      "outputs": []
    },
    {
      "cell_type": "code",
      "source": [
        "model.compile(loss='categorical_crossentropy',optimizer=customized_optimizer,metrics=['accuracy'])"
      ],
      "metadata": {
        "id": "kjZehVwAWeSk"
      },
      "execution_count": 59,
      "outputs": []
    },
    {
      "cell_type": "code",
      "source": [
        "type(y_train)"
      ],
      "metadata": {
        "colab": {
          "base_uri": "https://localhost:8080/"
        },
        "id": "_EApvMTEsHbw",
        "outputId": "37bce395-9e6f-438f-e33c-2bb05a6fab87"
      },
      "execution_count": 60,
      "outputs": [
        {
          "output_type": "execute_result",
          "data": {
            "text/plain": [
              "pandas.core.frame.DataFrame"
            ]
          },
          "metadata": {},
          "execution_count": 60
        }
      ]
    },
    {
      "cell_type": "code",
      "source": [
        "y_train=y_train.astype('category')\n",
        "y_test=y_test.astype('category')"
      ],
      "metadata": {
        "id": "wWHdL_FPC_xA"
      },
      "execution_count": 61,
      "outputs": []
    },
    {
      "cell_type": "code",
      "source": [
        "#Convert the target to categorical \n",
        "y_train=pd.get_dummies(y_train)\n",
        "y_test=pd.get_dummies(y_test)\n",
        "y_train"
      ],
      "metadata": {
        "id": "kgfx8epwIZw2",
        "colab": {
          "base_uri": "https://localhost:8080/",
          "height": 424
        },
        "outputId": "317c310c-e0d8-4ebc-ff2a-6b778137b063"
      },
      "execution_count": 62,
      "outputs": [
        {
          "output_type": "execute_result",
          "data": {
            "text/plain": [
              "     Species_1  Species_2  Species_3\n",
              "71           0          1          0\n",
              "90           0          1          0\n",
              "4            1          0          0\n",
              "17           1          0          0\n",
              "18           1          0          0\n",
              "..         ...        ...        ...\n",
              "26           1          0          0\n",
              "69           0          1          0\n",
              "103          0          0          1\n",
              "65           0          1          0\n",
              "106          0          0          1\n",
              "\n",
              "[105 rows x 3 columns]"
            ],
            "text/html": [
              "\n",
              "  <div id=\"df-6d7935d9-3d27-42d0-a449-3e532079d1c0\">\n",
              "    <div class=\"colab-df-container\">\n",
              "      <div>\n",
              "<style scoped>\n",
              "    .dataframe tbody tr th:only-of-type {\n",
              "        vertical-align: middle;\n",
              "    }\n",
              "\n",
              "    .dataframe tbody tr th {\n",
              "        vertical-align: top;\n",
              "    }\n",
              "\n",
              "    .dataframe thead th {\n",
              "        text-align: right;\n",
              "    }\n",
              "</style>\n",
              "<table border=\"1\" class=\"dataframe\">\n",
              "  <thead>\n",
              "    <tr style=\"text-align: right;\">\n",
              "      <th></th>\n",
              "      <th>Species_1</th>\n",
              "      <th>Species_2</th>\n",
              "      <th>Species_3</th>\n",
              "    </tr>\n",
              "  </thead>\n",
              "  <tbody>\n",
              "    <tr>\n",
              "      <th>71</th>\n",
              "      <td>0</td>\n",
              "      <td>1</td>\n",
              "      <td>0</td>\n",
              "    </tr>\n",
              "    <tr>\n",
              "      <th>90</th>\n",
              "      <td>0</td>\n",
              "      <td>1</td>\n",
              "      <td>0</td>\n",
              "    </tr>\n",
              "    <tr>\n",
              "      <th>4</th>\n",
              "      <td>1</td>\n",
              "      <td>0</td>\n",
              "      <td>0</td>\n",
              "    </tr>\n",
              "    <tr>\n",
              "      <th>17</th>\n",
              "      <td>1</td>\n",
              "      <td>0</td>\n",
              "      <td>0</td>\n",
              "    </tr>\n",
              "    <tr>\n",
              "      <th>18</th>\n",
              "      <td>1</td>\n",
              "      <td>0</td>\n",
              "      <td>0</td>\n",
              "    </tr>\n",
              "    <tr>\n",
              "      <th>...</th>\n",
              "      <td>...</td>\n",
              "      <td>...</td>\n",
              "      <td>...</td>\n",
              "    </tr>\n",
              "    <tr>\n",
              "      <th>26</th>\n",
              "      <td>1</td>\n",
              "      <td>0</td>\n",
              "      <td>0</td>\n",
              "    </tr>\n",
              "    <tr>\n",
              "      <th>69</th>\n",
              "      <td>0</td>\n",
              "      <td>1</td>\n",
              "      <td>0</td>\n",
              "    </tr>\n",
              "    <tr>\n",
              "      <th>103</th>\n",
              "      <td>0</td>\n",
              "      <td>0</td>\n",
              "      <td>1</td>\n",
              "    </tr>\n",
              "    <tr>\n",
              "      <th>65</th>\n",
              "      <td>0</td>\n",
              "      <td>1</td>\n",
              "      <td>0</td>\n",
              "    </tr>\n",
              "    <tr>\n",
              "      <th>106</th>\n",
              "      <td>0</td>\n",
              "      <td>0</td>\n",
              "      <td>1</td>\n",
              "    </tr>\n",
              "  </tbody>\n",
              "</table>\n",
              "<p>105 rows × 3 columns</p>\n",
              "</div>\n",
              "      <button class=\"colab-df-convert\" onclick=\"convertToInteractive('df-6d7935d9-3d27-42d0-a449-3e532079d1c0')\"\n",
              "              title=\"Convert this dataframe to an interactive table.\"\n",
              "              style=\"display:none;\">\n",
              "        \n",
              "  <svg xmlns=\"http://www.w3.org/2000/svg\" height=\"24px\"viewBox=\"0 0 24 24\"\n",
              "       width=\"24px\">\n",
              "    <path d=\"M0 0h24v24H0V0z\" fill=\"none\"/>\n",
              "    <path d=\"M18.56 5.44l.94 2.06.94-2.06 2.06-.94-2.06-.94-.94-2.06-.94 2.06-2.06.94zm-11 1L8.5 8.5l.94-2.06 2.06-.94-2.06-.94L8.5 2.5l-.94 2.06-2.06.94zm10 10l.94 2.06.94-2.06 2.06-.94-2.06-.94-.94-2.06-.94 2.06-2.06.94z\"/><path d=\"M17.41 7.96l-1.37-1.37c-.4-.4-.92-.59-1.43-.59-.52 0-1.04.2-1.43.59L10.3 9.45l-7.72 7.72c-.78.78-.78 2.05 0 2.83L4 21.41c.39.39.9.59 1.41.59.51 0 1.02-.2 1.41-.59l7.78-7.78 2.81-2.81c.8-.78.8-2.07 0-2.86zM5.41 20L4 18.59l7.72-7.72 1.47 1.35L5.41 20z\"/>\n",
              "  </svg>\n",
              "      </button>\n",
              "      \n",
              "  <style>\n",
              "    .colab-df-container {\n",
              "      display:flex;\n",
              "      flex-wrap:wrap;\n",
              "      gap: 12px;\n",
              "    }\n",
              "\n",
              "    .colab-df-convert {\n",
              "      background-color: #E8F0FE;\n",
              "      border: none;\n",
              "      border-radius: 50%;\n",
              "      cursor: pointer;\n",
              "      display: none;\n",
              "      fill: #1967D2;\n",
              "      height: 32px;\n",
              "      padding: 0 0 0 0;\n",
              "      width: 32px;\n",
              "    }\n",
              "\n",
              "    .colab-df-convert:hover {\n",
              "      background-color: #E2EBFA;\n",
              "      box-shadow: 0px 1px 2px rgba(60, 64, 67, 0.3), 0px 1px 3px 1px rgba(60, 64, 67, 0.15);\n",
              "      fill: #174EA6;\n",
              "    }\n",
              "\n",
              "    [theme=dark] .colab-df-convert {\n",
              "      background-color: #3B4455;\n",
              "      fill: #D2E3FC;\n",
              "    }\n",
              "\n",
              "    [theme=dark] .colab-df-convert:hover {\n",
              "      background-color: #434B5C;\n",
              "      box-shadow: 0px 1px 3px 1px rgba(0, 0, 0, 0.15);\n",
              "      filter: drop-shadow(0px 1px 2px rgba(0, 0, 0, 0.3));\n",
              "      fill: #FFFFFF;\n",
              "    }\n",
              "  </style>\n",
              "\n",
              "      <script>\n",
              "        const buttonEl =\n",
              "          document.querySelector('#df-6d7935d9-3d27-42d0-a449-3e532079d1c0 button.colab-df-convert');\n",
              "        buttonEl.style.display =\n",
              "          google.colab.kernel.accessAllowed ? 'block' : 'none';\n",
              "\n",
              "        async function convertToInteractive(key) {\n",
              "          const element = document.querySelector('#df-6d7935d9-3d27-42d0-a449-3e532079d1c0');\n",
              "          const dataTable =\n",
              "            await google.colab.kernel.invokeFunction('convertToInteractive',\n",
              "                                                     [key], {});\n",
              "          if (!dataTable) return;\n",
              "\n",
              "          const docLinkHtml = 'Like what you see? Visit the ' +\n",
              "            '<a target=\"_blank\" href=https://colab.research.google.com/notebooks/data_table.ipynb>data table notebook</a>'\n",
              "            + ' to learn more about interactive tables.';\n",
              "          element.innerHTML = '';\n",
              "          dataTable['output_type'] = 'display_data';\n",
              "          await google.colab.output.renderOutput(dataTable, element);\n",
              "          const docLink = document.createElement('div');\n",
              "          docLink.innerHTML = docLinkHtml;\n",
              "          element.appendChild(docLink);\n",
              "        }\n",
              "      </script>\n",
              "    </div>\n",
              "  </div>\n",
              "  "
            ]
          },
          "metadata": {},
          "execution_count": 62
        }
      ]
    },
    {
      "cell_type": "code",
      "source": [
        "## Convert to numeric\n",
        "y_train=y_train.values\n",
        "y_test=y_test.values\n",
        "X_train = X_train.values\n",
        "X_test = X_test.values\n",
        "y_train.shape\n"
      ],
      "metadata": {
        "id": "XyaZq8rDXBpE",
        "colab": {
          "base_uri": "https://localhost:8080/"
        },
        "outputId": "07f7f628-d994-4f24-f212-c0a613d03cb8"
      },
      "execution_count": 63,
      "outputs": [
        {
          "output_type": "execute_result",
          "data": {
            "text/plain": [
              "(105, 3)"
            ]
          },
          "metadata": {},
          "execution_count": 63
        }
      ]
    },
    {
      "cell_type": "code",
      "source": [
        "ann = model.fit(X_train, y_train,\n",
        "                    batch_size=64,\n",
        "                    validation_split=0.2,\n",
        "                    epochs= 100)"
      ],
      "metadata": {
        "id": "kGNcO7vGWpfU",
        "colab": {
          "base_uri": "https://localhost:8080/"
        },
        "outputId": "e3dad98b-ea78-49ca-ad22-bdba351ed981"
      },
      "execution_count": 64,
      "outputs": [
        {
          "output_type": "stream",
          "name": "stdout",
          "text": [
            "Epoch 1/100\n",
            "2/2 [==============================] - 1s 289ms/step - loss: 1.7236 - accuracy: 0.1429 - val_loss: 1.7897 - val_accuracy: 0.0952\n",
            "Epoch 2/100\n",
            "2/2 [==============================] - 0s 38ms/step - loss: 1.6899 - accuracy: 0.1429 - val_loss: 1.7568 - val_accuracy: 0.0952\n",
            "Epoch 3/100\n",
            "2/2 [==============================] - 0s 32ms/step - loss: 1.6615 - accuracy: 0.1429 - val_loss: 1.7225 - val_accuracy: 0.0952\n",
            "Epoch 4/100\n",
            "2/2 [==============================] - 0s 31ms/step - loss: 1.6337 - accuracy: 0.1548 - val_loss: 1.6939 - val_accuracy: 0.0952\n",
            "Epoch 5/100\n",
            "2/2 [==============================] - 0s 34ms/step - loss: 1.6082 - accuracy: 0.1548 - val_loss: 1.6599 - val_accuracy: 0.0476\n",
            "Epoch 6/100\n",
            "2/2 [==============================] - 0s 28ms/step - loss: 1.5804 - accuracy: 0.1548 - val_loss: 1.6303 - val_accuracy: 0.0476\n",
            "Epoch 7/100\n",
            "2/2 [==============================] - 0s 26ms/step - loss: 1.5554 - accuracy: 0.1667 - val_loss: 1.6026 - val_accuracy: 0.0476\n",
            "Epoch 8/100\n",
            "2/2 [==============================] - 0s 38ms/step - loss: 1.5322 - accuracy: 0.1667 - val_loss: 1.5770 - val_accuracy: 0.0952\n",
            "Epoch 9/100\n",
            "2/2 [==============================] - 0s 26ms/step - loss: 1.5115 - accuracy: 0.1667 - val_loss: 1.5571 - val_accuracy: 0.0952\n",
            "Epoch 10/100\n",
            "2/2 [==============================] - 0s 26ms/step - loss: 1.4932 - accuracy: 0.1786 - val_loss: 1.5331 - val_accuracy: 0.0952\n",
            "Epoch 11/100\n",
            "2/2 [==============================] - 0s 32ms/step - loss: 1.4729 - accuracy: 0.1786 - val_loss: 1.5099 - val_accuracy: 0.0952\n",
            "Epoch 12/100\n",
            "2/2 [==============================] - 0s 25ms/step - loss: 1.4539 - accuracy: 0.1786 - val_loss: 1.4903 - val_accuracy: 0.0952\n",
            "Epoch 13/100\n",
            "2/2 [==============================] - 0s 26ms/step - loss: 1.4370 - accuracy: 0.1786 - val_loss: 1.4712 - val_accuracy: 0.0952\n",
            "Epoch 14/100\n",
            "2/2 [==============================] - 0s 29ms/step - loss: 1.4205 - accuracy: 0.1786 - val_loss: 1.4526 - val_accuracy: 0.0952\n",
            "Epoch 15/100\n",
            "2/2 [==============================] - 0s 29ms/step - loss: 1.4040 - accuracy: 0.1786 - val_loss: 1.4318 - val_accuracy: 0.0952\n",
            "Epoch 16/100\n",
            "2/2 [==============================] - 0s 28ms/step - loss: 1.3868 - accuracy: 0.1786 - val_loss: 1.4142 - val_accuracy: 0.0952\n",
            "Epoch 17/100\n",
            "2/2 [==============================] - 0s 28ms/step - loss: 1.3712 - accuracy: 0.1786 - val_loss: 1.3943 - val_accuracy: 0.0952\n",
            "Epoch 18/100\n",
            "2/2 [==============================] - 0s 25ms/step - loss: 1.3547 - accuracy: 0.1786 - val_loss: 1.3775 - val_accuracy: 0.0952\n",
            "Epoch 19/100\n",
            "2/2 [==============================] - 0s 25ms/step - loss: 1.3398 - accuracy: 0.1786 - val_loss: 1.3581 - val_accuracy: 0.0952\n",
            "Epoch 20/100\n",
            "2/2 [==============================] - 0s 28ms/step - loss: 1.3236 - accuracy: 0.1786 - val_loss: 1.3427 - val_accuracy: 0.0952\n",
            "Epoch 21/100\n",
            "2/2 [==============================] - 0s 25ms/step - loss: 1.3108 - accuracy: 0.1786 - val_loss: 1.3290 - val_accuracy: 0.0952\n",
            "Epoch 22/100\n",
            "2/2 [==============================] - 0s 26ms/step - loss: 1.2985 - accuracy: 0.1905 - val_loss: 1.3146 - val_accuracy: 0.0952\n",
            "Epoch 23/100\n",
            "2/2 [==============================] - 0s 30ms/step - loss: 1.2856 - accuracy: 0.2143 - val_loss: 1.3001 - val_accuracy: 0.0952\n",
            "Epoch 24/100\n",
            "2/2 [==============================] - 0s 27ms/step - loss: 1.2733 - accuracy: 0.2143 - val_loss: 1.2874 - val_accuracy: 0.0952\n",
            "Epoch 25/100\n",
            "2/2 [==============================] - 0s 26ms/step - loss: 1.2620 - accuracy: 0.2262 - val_loss: 1.2744 - val_accuracy: 0.0952\n",
            "Epoch 26/100\n",
            "2/2 [==============================] - 0s 26ms/step - loss: 1.2502 - accuracy: 0.2262 - val_loss: 1.2600 - val_accuracy: 0.0952\n",
            "Epoch 27/100\n",
            "2/2 [==============================] - 0s 26ms/step - loss: 1.2381 - accuracy: 0.2262 - val_loss: 1.2481 - val_accuracy: 0.0952\n",
            "Epoch 28/100\n",
            "2/2 [==============================] - 0s 26ms/step - loss: 1.2278 - accuracy: 0.2381 - val_loss: 1.2368 - val_accuracy: 0.0952\n",
            "Epoch 29/100\n",
            "2/2 [==============================] - 0s 33ms/step - loss: 1.2176 - accuracy: 0.2381 - val_loss: 1.2252 - val_accuracy: 0.1905\n",
            "Epoch 30/100\n",
            "2/2 [==============================] - 0s 32ms/step - loss: 1.2072 - accuracy: 0.2500 - val_loss: 1.2137 - val_accuracy: 0.2381\n",
            "Epoch 31/100\n",
            "2/2 [==============================] - 0s 37ms/step - loss: 1.1973 - accuracy: 0.2619 - val_loss: 1.2031 - val_accuracy: 0.2381\n",
            "Epoch 32/100\n",
            "2/2 [==============================] - 0s 38ms/step - loss: 1.1875 - accuracy: 0.2738 - val_loss: 1.1906 - val_accuracy: 0.2381\n",
            "Epoch 33/100\n",
            "2/2 [==============================] - 0s 33ms/step - loss: 1.1772 - accuracy: 0.2738 - val_loss: 1.1810 - val_accuracy: 0.2381\n",
            "Epoch 34/100\n",
            "2/2 [==============================] - 0s 34ms/step - loss: 1.1687 - accuracy: 0.2857 - val_loss: 1.1726 - val_accuracy: 0.2381\n",
            "Epoch 35/100\n",
            "2/2 [==============================] - 0s 35ms/step - loss: 1.1600 - accuracy: 0.3095 - val_loss: 1.1614 - val_accuracy: 0.2381\n",
            "Epoch 36/100\n",
            "2/2 [==============================] - 0s 32ms/step - loss: 1.1505 - accuracy: 0.3095 - val_loss: 1.1509 - val_accuracy: 0.2381\n",
            "Epoch 37/100\n",
            "2/2 [==============================] - 0s 34ms/step - loss: 1.1413 - accuracy: 0.3214 - val_loss: 1.1421 - val_accuracy: 0.2381\n",
            "Epoch 38/100\n",
            "2/2 [==============================] - 0s 34ms/step - loss: 1.1328 - accuracy: 0.3214 - val_loss: 1.1317 - val_accuracy: 0.2381\n",
            "Epoch 39/100\n",
            "2/2 [==============================] - 0s 31ms/step - loss: 1.1238 - accuracy: 0.3214 - val_loss: 1.1218 - val_accuracy: 0.2381\n",
            "Epoch 40/100\n",
            "2/2 [==============================] - 0s 34ms/step - loss: 1.1152 - accuracy: 0.3214 - val_loss: 1.1127 - val_accuracy: 0.2381\n",
            "Epoch 41/100\n",
            "2/2 [==============================] - 0s 33ms/step - loss: 1.1073 - accuracy: 0.3214 - val_loss: 1.1045 - val_accuracy: 0.2381\n",
            "Epoch 42/100\n",
            "2/2 [==============================] - 0s 40ms/step - loss: 1.0996 - accuracy: 0.3214 - val_loss: 1.0955 - val_accuracy: 0.2381\n",
            "Epoch 43/100\n",
            "2/2 [==============================] - 0s 33ms/step - loss: 1.0916 - accuracy: 0.3214 - val_loss: 1.0868 - val_accuracy: 0.2381\n",
            "Epoch 44/100\n",
            "2/2 [==============================] - 0s 54ms/step - loss: 1.0836 - accuracy: 0.3214 - val_loss: 1.0783 - val_accuracy: 0.2381\n",
            "Epoch 45/100\n",
            "2/2 [==============================] - 0s 55ms/step - loss: 1.0760 - accuracy: 0.3214 - val_loss: 1.0706 - val_accuracy: 0.2381\n",
            "Epoch 46/100\n",
            "2/2 [==============================] - 0s 46ms/step - loss: 1.0686 - accuracy: 0.3214 - val_loss: 1.0609 - val_accuracy: 0.2381\n",
            "Epoch 47/100\n",
            "2/2 [==============================] - 0s 48ms/step - loss: 1.0601 - accuracy: 0.3214 - val_loss: 1.0527 - val_accuracy: 0.3333\n",
            "Epoch 48/100\n",
            "2/2 [==============================] - 0s 55ms/step - loss: 1.0527 - accuracy: 0.3810 - val_loss: 1.0443 - val_accuracy: 0.4762\n",
            "Epoch 49/100\n",
            "2/2 [==============================] - 0s 58ms/step - loss: 1.0452 - accuracy: 0.5000 - val_loss: 1.0360 - val_accuracy: 0.5238\n",
            "Epoch 50/100\n",
            "2/2 [==============================] - 0s 27ms/step - loss: 1.0380 - accuracy: 0.6190 - val_loss: 1.0284 - val_accuracy: 0.5238\n",
            "Epoch 51/100\n",
            "2/2 [==============================] - 0s 37ms/step - loss: 1.0309 - accuracy: 0.6310 - val_loss: 1.0203 - val_accuracy: 0.6190\n",
            "Epoch 52/100\n",
            "2/2 [==============================] - 0s 27ms/step - loss: 1.0238 - accuracy: 0.6548 - val_loss: 1.0129 - val_accuracy: 0.5714\n",
            "Epoch 53/100\n",
            "2/2 [==============================] - 0s 25ms/step - loss: 1.0174 - accuracy: 0.6548 - val_loss: 1.0065 - val_accuracy: 0.6190\n",
            "Epoch 54/100\n",
            "2/2 [==============================] - 0s 53ms/step - loss: 1.0112 - accuracy: 0.6548 - val_loss: 0.9997 - val_accuracy: 0.6190\n",
            "Epoch 55/100\n",
            "2/2 [==============================] - 0s 28ms/step - loss: 1.0047 - accuracy: 0.6667 - val_loss: 0.9934 - val_accuracy: 0.5714\n",
            "Epoch 56/100\n",
            "2/2 [==============================] - 0s 29ms/step - loss: 0.9987 - accuracy: 0.6905 - val_loss: 0.9874 - val_accuracy: 0.5714\n",
            "Epoch 57/100\n",
            "2/2 [==============================] - 0s 31ms/step - loss: 0.9930 - accuracy: 0.7024 - val_loss: 0.9804 - val_accuracy: 0.5714\n",
            "Epoch 58/100\n",
            "2/2 [==============================] - 0s 45ms/step - loss: 0.9864 - accuracy: 0.7024 - val_loss: 0.9732 - val_accuracy: 0.5714\n",
            "Epoch 59/100\n",
            "2/2 [==============================] - 0s 27ms/step - loss: 0.9800 - accuracy: 0.7024 - val_loss: 0.9673 - val_accuracy: 0.5714\n",
            "Epoch 60/100\n",
            "2/2 [==============================] - 0s 46ms/step - loss: 0.9742 - accuracy: 0.7024 - val_loss: 0.9608 - val_accuracy: 0.6190\n",
            "Epoch 61/100\n",
            "2/2 [==============================] - 0s 26ms/step - loss: 0.9683 - accuracy: 0.7024 - val_loss: 0.9549 - val_accuracy: 0.6190\n",
            "Epoch 62/100\n",
            "2/2 [==============================] - 0s 29ms/step - loss: 0.9626 - accuracy: 0.7381 - val_loss: 0.9486 - val_accuracy: 0.6190\n",
            "Epoch 63/100\n",
            "2/2 [==============================] - 0s 27ms/step - loss: 0.9569 - accuracy: 0.7262 - val_loss: 0.9429 - val_accuracy: 0.6190\n",
            "Epoch 64/100\n",
            "2/2 [==============================] - 0s 31ms/step - loss: 0.9515 - accuracy: 0.7500 - val_loss: 0.9363 - val_accuracy: 0.6190\n",
            "Epoch 65/100\n",
            "2/2 [==============================] - 0s 25ms/step - loss: 0.9456 - accuracy: 0.7619 - val_loss: 0.9308 - val_accuracy: 0.6190\n",
            "Epoch 66/100\n",
            "2/2 [==============================] - 0s 28ms/step - loss: 0.9403 - accuracy: 0.7619 - val_loss: 0.9256 - val_accuracy: 0.6190\n",
            "Epoch 67/100\n",
            "2/2 [==============================] - 0s 27ms/step - loss: 0.9351 - accuracy: 0.7738 - val_loss: 0.9199 - val_accuracy: 0.6667\n",
            "Epoch 68/100\n",
            "2/2 [==============================] - 0s 30ms/step - loss: 0.9297 - accuracy: 0.7738 - val_loss: 0.9143 - val_accuracy: 0.6667\n",
            "Epoch 69/100\n",
            "2/2 [==============================] - 0s 30ms/step - loss: 0.9244 - accuracy: 0.7857 - val_loss: 0.9086 - val_accuracy: 0.7143\n",
            "Epoch 70/100\n",
            "2/2 [==============================] - 0s 31ms/step - loss: 0.9191 - accuracy: 0.7857 - val_loss: 0.9036 - val_accuracy: 0.7143\n",
            "Epoch 71/100\n",
            "2/2 [==============================] - 0s 27ms/step - loss: 0.9141 - accuracy: 0.7738 - val_loss: 0.8986 - val_accuracy: 0.7143\n",
            "Epoch 72/100\n",
            "2/2 [==============================] - 0s 32ms/step - loss: 0.9093 - accuracy: 0.7738 - val_loss: 0.8932 - val_accuracy: 0.7143\n",
            "Epoch 73/100\n",
            "2/2 [==============================] - 0s 46ms/step - loss: 0.9045 - accuracy: 0.7857 - val_loss: 0.8888 - val_accuracy: 0.7143\n",
            "Epoch 74/100\n",
            "2/2 [==============================] - 0s 37ms/step - loss: 0.8997 - accuracy: 0.7738 - val_loss: 0.8832 - val_accuracy: 0.7143\n",
            "Epoch 75/100\n",
            "2/2 [==============================] - 0s 26ms/step - loss: 0.8945 - accuracy: 0.7857 - val_loss: 0.8778 - val_accuracy: 0.7143\n",
            "Epoch 76/100\n",
            "2/2 [==============================] - 0s 26ms/step - loss: 0.8897 - accuracy: 0.7857 - val_loss: 0.8734 - val_accuracy: 0.7143\n",
            "Epoch 77/100\n",
            "2/2 [==============================] - 0s 28ms/step - loss: 0.8850 - accuracy: 0.7857 - val_loss: 0.8684 - val_accuracy: 0.7143\n",
            "Epoch 78/100\n",
            "2/2 [==============================] - 0s 31ms/step - loss: 0.8801 - accuracy: 0.7857 - val_loss: 0.8628 - val_accuracy: 0.7619\n",
            "Epoch 79/100\n",
            "2/2 [==============================] - 0s 34ms/step - loss: 0.8751 - accuracy: 0.7976 - val_loss: 0.8582 - val_accuracy: 0.7619\n",
            "Epoch 80/100\n",
            "2/2 [==============================] - 0s 31ms/step - loss: 0.8705 - accuracy: 0.7976 - val_loss: 0.8536 - val_accuracy: 0.7619\n",
            "Epoch 81/100\n",
            "2/2 [==============================] - 0s 28ms/step - loss: 0.8658 - accuracy: 0.7976 - val_loss: 0.8482 - val_accuracy: 0.7619\n",
            "Epoch 82/100\n",
            "2/2 [==============================] - 0s 39ms/step - loss: 0.8608 - accuracy: 0.7976 - val_loss: 0.8422 - val_accuracy: 0.7619\n",
            "Epoch 83/100\n",
            "2/2 [==============================] - 0s 29ms/step - loss: 0.8555 - accuracy: 0.7976 - val_loss: 0.8365 - val_accuracy: 0.7619\n",
            "Epoch 84/100\n",
            "2/2 [==============================] - 0s 36ms/step - loss: 0.8504 - accuracy: 0.7976 - val_loss: 0.8317 - val_accuracy: 0.7619\n",
            "Epoch 85/100\n",
            "2/2 [==============================] - 0s 25ms/step - loss: 0.8457 - accuracy: 0.7976 - val_loss: 0.8267 - val_accuracy: 0.7619\n",
            "Epoch 86/100\n",
            "2/2 [==============================] - 0s 27ms/step - loss: 0.8409 - accuracy: 0.8214 - val_loss: 0.8219 - val_accuracy: 0.7619\n",
            "Epoch 87/100\n",
            "2/2 [==============================] - 0s 32ms/step - loss: 0.8364 - accuracy: 0.8214 - val_loss: 0.8171 - val_accuracy: 0.7619\n",
            "Epoch 88/100\n",
            "2/2 [==============================] - 0s 26ms/step - loss: 0.8318 - accuracy: 0.8214 - val_loss: 0.8125 - val_accuracy: 0.7619\n",
            "Epoch 89/100\n",
            "2/2 [==============================] - 0s 29ms/step - loss: 0.8273 - accuracy: 0.8214 - val_loss: 0.8079 - val_accuracy: 0.7619\n",
            "Epoch 90/100\n",
            "2/2 [==============================] - 0s 29ms/step - loss: 0.8229 - accuracy: 0.8214 - val_loss: 0.8036 - val_accuracy: 0.7619\n",
            "Epoch 91/100\n",
            "2/2 [==============================] - 0s 30ms/step - loss: 0.8186 - accuracy: 0.8214 - val_loss: 0.7993 - val_accuracy: 0.7619\n",
            "Epoch 92/100\n",
            "2/2 [==============================] - 0s 37ms/step - loss: 0.8140 - accuracy: 0.8214 - val_loss: 0.7941 - val_accuracy: 0.7619\n",
            "Epoch 93/100\n",
            "2/2 [==============================] - 0s 27ms/step - loss: 0.8094 - accuracy: 0.8214 - val_loss: 0.7900 - val_accuracy: 0.7619\n",
            "Epoch 94/100\n",
            "2/2 [==============================] - 0s 27ms/step - loss: 0.8050 - accuracy: 0.8214 - val_loss: 0.7853 - val_accuracy: 0.7619\n",
            "Epoch 95/100\n",
            "2/2 [==============================] - 0s 27ms/step - loss: 0.8006 - accuracy: 0.8214 - val_loss: 0.7811 - val_accuracy: 0.7619\n",
            "Epoch 96/100\n",
            "2/2 [==============================] - 0s 28ms/step - loss: 0.7964 - accuracy: 0.8214 - val_loss: 0.7772 - val_accuracy: 0.7619\n",
            "Epoch 97/100\n",
            "2/2 [==============================] - 0s 27ms/step - loss: 0.7922 - accuracy: 0.8214 - val_loss: 0.7723 - val_accuracy: 0.7619\n",
            "Epoch 98/100\n",
            "2/2 [==============================] - 0s 39ms/step - loss: 0.7876 - accuracy: 0.8214 - val_loss: 0.7675 - val_accuracy: 0.7619\n",
            "Epoch 99/100\n",
            "2/2 [==============================] - 0s 36ms/step - loss: 0.7830 - accuracy: 0.8214 - val_loss: 0.7624 - val_accuracy: 0.7619\n",
            "Epoch 100/100\n",
            "2/2 [==============================] - 0s 42ms/step - loss: 0.7784 - accuracy: 0.8214 - val_loss: 0.7582 - val_accuracy: 0.7619\n"
          ]
        }
      ]
    },
    {
      "cell_type": "code",
      "source": [
        "print(model.evaluate(X_train,y_train))\n",
        "print(model.evaluate(X_test,y_test))"
      ],
      "metadata": {
        "id": "Q6TeiLdHMtaS",
        "colab": {
          "base_uri": "https://localhost:8080/"
        },
        "outputId": "c4419f5a-c60c-4df7-8d5f-34aea0133776"
      },
      "execution_count": 65,
      "outputs": [
        {
          "output_type": "stream",
          "name": "stdout",
          "text": [
            "4/4 [==============================] - 0s 3ms/step - loss: 0.7714 - accuracy: 0.8095\n",
            "[0.7713578939437866, 0.8095238208770752]\n",
            "2/2 [==============================] - 0s 7ms/step - loss: 0.7843 - accuracy: 0.7556\n",
            "[0.7842761278152466, 0.7555555701255798]\n"
          ]
        }
      ]
    },
    {
      "cell_type": "code",
      "source": [
        "y_train_Pred = (model.predict(X_train)>0.5).astype(\"int32\")\n",
        "y_test_Pred = (model.predict(X_test)>0.5).astype(\"int32\")"
      ],
      "metadata": {
        "id": "-pMMMoiIWvaj",
        "colab": {
          "base_uri": "https://localhost:8080/"
        },
        "outputId": "1bd18f85-9885-4cff-e262-e262f523a1ce"
      },
      "execution_count": 66,
      "outputs": [
        {
          "output_type": "stream",
          "name": "stdout",
          "text": [
            "4/4 [==============================] - 0s 3ms/step\n",
            "2/2 [==============================] - 0s 7ms/step\n"
          ]
        }
      ]
    },
    {
      "cell_type": "code",
      "source": [
        "# Function for Classification Report\n",
        "from sklearn.metrics import accuracy_score,classification_report\n",
        "def classifcation_report_train_test(y_train, y_train_pred, y_test, y_test_pred):\n",
        "\n",
        "    print('''\n",
        "            =========================================\n",
        "               CLASSIFICATION REPORT FOR TRAIN DATA\n",
        "            =========================================\n",
        "            ''')\n",
        "    print(classification_report(y_train, y_train_pred, digits=4))\n",
        "\n",
        "    print('''\n",
        "            =========================================\n",
        "               CLASSIFICATION REPORT FOR TEST DATA\n",
        "            =========================================\n",
        "            ''')\n",
        "    print(classification_report(y_test, y_test_pred, digits=4))"
      ],
      "metadata": {
        "id": "qfKIU9U8o_Ch"
      },
      "execution_count": 67,
      "outputs": []
    },
    {
      "cell_type": "code",
      "source": [
        "classifcation_report_train_test(y_train, y_train_Pred, y_test, y_test_Pred)"
      ],
      "metadata": {
        "id": "DWYNcCpCMRKr",
        "colab": {
          "base_uri": "https://localhost:8080/"
        },
        "outputId": "33254924-c54a-41f7-a2fe-d1853eb367b6"
      },
      "execution_count": 68,
      "outputs": [
        {
          "output_type": "stream",
          "name": "stdout",
          "text": [
            "\n",
            "            =========================================\n",
            "               CLASSIFICATION REPORT FOR TRAIN DATA\n",
            "            =========================================\n",
            "            \n",
            "              precision    recall  f1-score   support\n",
            "\n",
            "           0     1.0000    0.9714    0.9855        35\n",
            "           1     0.0000    0.0000    0.0000        35\n",
            "           2     0.9231    0.3429    0.5000        35\n",
            "\n",
            "   micro avg     0.9787    0.4381    0.6053       105\n",
            "   macro avg     0.6410    0.4381    0.4952       105\n",
            "weighted avg     0.6410    0.4381    0.4952       105\n",
            " samples avg     0.4381    0.4381    0.4381       105\n",
            "\n",
            "\n",
            "            =========================================\n",
            "               CLASSIFICATION REPORT FOR TEST DATA\n",
            "            =========================================\n",
            "            \n",
            "              precision    recall  f1-score   support\n",
            "\n",
            "           0     1.0000    0.8667    0.9286        15\n",
            "           1     0.0000    0.0000    0.0000        15\n",
            "           2     0.8571    0.4000    0.5455        15\n",
            "\n",
            "   micro avg     0.9500    0.4222    0.5846        45\n",
            "   macro avg     0.6190    0.4222    0.4913        45\n",
            "weighted avg     0.6190    0.4222    0.4913        45\n",
            " samples avg     0.4222    0.4222    0.4222        45\n",
            "\n"
          ]
        },
        {
          "output_type": "stream",
          "name": "stderr",
          "text": [
            "/usr/local/lib/python3.7/dist-packages/sklearn/metrics/_classification.py:1318: UndefinedMetricWarning: Precision and F-score are ill-defined and being set to 0.0 in labels with no predicted samples. Use `zero_division` parameter to control this behavior.\n",
            "  _warn_prf(average, modifier, msg_start, len(result))\n",
            "/usr/local/lib/python3.7/dist-packages/sklearn/metrics/_classification.py:1318: UndefinedMetricWarning: Precision and F-score are ill-defined and being set to 0.0 in samples with no predicted labels. Use `zero_division` parameter to control this behavior.\n",
            "  _warn_prf(average, modifier, msg_start, len(result))\n",
            "/usr/local/lib/python3.7/dist-packages/sklearn/metrics/_classification.py:1318: UndefinedMetricWarning: Precision and F-score are ill-defined and being set to 0.0 in labels with no predicted samples. Use `zero_division` parameter to control this behavior.\n",
            "  _warn_prf(average, modifier, msg_start, len(result))\n",
            "/usr/local/lib/python3.7/dist-packages/sklearn/metrics/_classification.py:1318: UndefinedMetricWarning: Precision and F-score are ill-defined and being set to 0.0 in samples with no predicted labels. Use `zero_division` parameter to control this behavior.\n",
            "  _warn_prf(average, modifier, msg_start, len(result))\n"
          ]
        }
      ]
    },
    {
      "cell_type": "code",
      "source": [],
      "metadata": {
        "id": "FXtAoyt_MUrS"
      },
      "execution_count": 68,
      "outputs": []
    },
    {
      "cell_type": "code",
      "source": [],
      "metadata": {
        "id": "O5ijOeCTMfWP"
      },
      "execution_count": 68,
      "outputs": []
    }
  ]
}