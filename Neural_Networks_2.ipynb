{
  "nbformat": 4,
  "nbformat_minor": 0,
  "metadata": {
    "colab": {
      "provenance": [],
      "authorship_tag": "ABX9TyOjVwds0RF02LfH9P8EE2Cc",
      "include_colab_link": true
    },
    "kernelspec": {
      "name": "python3",
      "display_name": "Python 3"
    },
    "language_info": {
      "name": "python"
    }
  },
  "cells": [
    {
      "cell_type": "markdown",
      "metadata": {
        "id": "view-in-github",
        "colab_type": "text"
      },
      "source": [
        "<a href=\"https://colab.research.google.com/github/KTSNVaishnavi/Machine-Learning/blob/main/Neural_Networks_2.ipynb\" target=\"_parent\"><img src=\"https://colab.research.google.com/assets/colab-badge.svg\" alt=\"Open In Colab\"/></a>"
      ]
    },
    {
      "cell_type": "code",
      "execution_count": 348,
      "metadata": {
        "colab": {
          "base_uri": "https://localhost:8080/"
        },
        "id": "XYgfgX8ofv-d",
        "outputId": "cabdf4ff-57cf-4031-8618-2bcb8ce507b8"
      },
      "outputs": [
        {
          "output_type": "stream",
          "name": "stdout",
          "text": [
            "Drive already mounted at /content/gdrive; to attempt to forcibly remount, call drive.mount(\"/content/gdrive\", force_remount=True).\n"
          ]
        }
      ],
      "source": [
        "from google.colab import drive\n",
        "drive.mount('/content/gdrive')"
      ]
    },
    {
      "cell_type": "code",
      "source": [
        "!pip install collinearity"
      ],
      "metadata": {
        "colab": {
          "base_uri": "https://localhost:8080/"
        },
        "id": "CrwxIR_ztk_M",
        "outputId": "0a8a7f0d-1aa3-414b-db63-8ea5380f0f77"
      },
      "execution_count": 349,
      "outputs": [
        {
          "output_type": "stream",
          "name": "stdout",
          "text": [
            "Looking in indexes: https://pypi.org/simple, https://us-python.pkg.dev/colab-wheels/public/simple/\n",
            "Requirement already satisfied: collinearity in /usr/local/lib/python3.7/dist-packages (0.6.1)\n",
            "Requirement already satisfied: scikit-learn in /usr/local/lib/python3.7/dist-packages (from collinearity) (1.0.2)\n",
            "Requirement already satisfied: numpy in /usr/local/lib/python3.7/dist-packages (from collinearity) (1.21.6)\n",
            "Requirement already satisfied: joblib>=0.11 in /usr/local/lib/python3.7/dist-packages (from scikit-learn->collinearity) (1.2.0)\n",
            "Requirement already satisfied: scipy>=1.1.0 in /usr/local/lib/python3.7/dist-packages (from scikit-learn->collinearity) (1.7.3)\n",
            "Requirement already satisfied: threadpoolctl>=2.0.0 in /usr/local/lib/python3.7/dist-packages (from scikit-learn->collinearity) (3.1.0)\n"
          ]
        }
      ]
    },
    {
      "cell_type": "code",
      "source": [
        "import pandas as pd\n",
        "import numpy as np\n",
        "#For detecting the low variance\n",
        "from sklearn.feature_selection import VarianceThreshold\n",
        "#For detecting the outliers\n",
        "from scipy import stats\n",
        "#For detecting the collinearity \n",
        "from collinearity import SelectNonCollinear\n",
        "#For scaling the data, and encoding\n",
        "from sklearn.preprocessing import StandardScaler,OneHotEncoder\n",
        "from sklearn.impute import SimpleImputer\n",
        "from sklearn.linear_model import LogisticRegressionCV\n",
        "#For class imbalance\n",
        "from imblearn.over_sampling import SMOTE, ADASYN \n",
        "from sklearn.model_selection import train_test_split\n",
        "from sklearn.metrics import classification_report,confusion_matrix\n",
        "from sklearn.metrics import mean_absolute_error,mean_squared_error"
      ],
      "metadata": {
        "id": "jJv5bHZUfyow"
      },
      "execution_count": 350,
      "outputs": []
    },
    {
      "cell_type": "code",
      "source": [
        "#Reading the data\n",
        "data=pd.read_csv('/content/gdrive/MyDrive/MachineLearning/BackOrders.csv')"
      ],
      "metadata": {
        "id": "cjqORxB_f0ZW"
      },
      "execution_count": 351,
      "outputs": []
    },
    {
      "cell_type": "code",
      "source": [
        "data.shape"
      ],
      "metadata": {
        "colab": {
          "base_uri": "https://localhost:8080/"
        },
        "id": "koVWM9lmf7rl",
        "outputId": "ffb4feae-d222-411b-f734-a47426bbd26e"
      },
      "execution_count": 352,
      "outputs": [
        {
          "output_type": "execute_result",
          "data": {
            "text/plain": [
              "(61589, 23)"
            ]
          },
          "metadata": {},
          "execution_count": 352
        }
      ]
    },
    {
      "cell_type": "code",
      "source": [
        "data.dtypes"
      ],
      "metadata": {
        "colab": {
          "base_uri": "https://localhost:8080/"
        },
        "id": "Na6iCPIOf9e9",
        "outputId": "b3d8c449-6283-4d93-ce83-593f7f42b72c"
      },
      "execution_count": 353,
      "outputs": [
        {
          "output_type": "execute_result",
          "data": {
            "text/plain": [
              "sku                    int64\n",
              "national_inv           int64\n",
              "lead_time            float64\n",
              "in_transit_qty         int64\n",
              "forecast_3_month       int64\n",
              "forecast_6_month       int64\n",
              "forecast_9_month       int64\n",
              "sales_1_month          int64\n",
              "sales_3_month          int64\n",
              "sales_6_month          int64\n",
              "sales_9_month          int64\n",
              "min_bank               int64\n",
              "potential_issue       object\n",
              "pieces_past_due        int64\n",
              "perf_6_month_avg     float64\n",
              "perf_12_month_avg    float64\n",
              "local_bo_qty           int64\n",
              "deck_risk             object\n",
              "oe_constraint         object\n",
              "ppap_risk             object\n",
              "stop_auto_buy         object\n",
              "rev_stop              object\n",
              "went_on_backorder     object\n",
              "dtype: object"
            ]
          },
          "metadata": {},
          "execution_count": 353
        }
      ]
    },
    {
      "cell_type": "code",
      "source": [
        "data.head()"
      ],
      "metadata": {
        "colab": {
          "base_uri": "https://localhost:8080/",
          "height": 299
        },
        "id": "Ut4T6r6jf_Hk",
        "outputId": "7736fcd1-6976-4eec-822c-912bbd9f074d"
      },
      "execution_count": 354,
      "outputs": [
        {
          "output_type": "execute_result",
          "data": {
            "text/plain": [
              "       sku  national_inv  lead_time  in_transit_qty  forecast_3_month  \\\n",
              "0  1888279           117        NaN               0                 0   \n",
              "1  1870557             7        2.0               0                 0   \n",
              "2  1475481           258       15.0              10                10   \n",
              "3  1758220            46        2.0               0                 0   \n",
              "4  1360312             2        2.0               0                 4   \n",
              "\n",
              "   forecast_6_month  forecast_9_month  sales_1_month  sales_3_month  \\\n",
              "0                 0                 0              0              0   \n",
              "1                 0                 0              0              0   \n",
              "2                77               184             46            132   \n",
              "3                 0                 0              1              2   \n",
              "4                 6                10              2              2   \n",
              "\n",
              "   sales_6_month  ...  pieces_past_due  perf_6_month_avg perf_12_month_avg  \\\n",
              "0             15  ...                0            -99.00            -99.00   \n",
              "1              0  ...                0              0.50              0.28   \n",
              "2            256  ...                0              0.54              0.70   \n",
              "3              6  ...                0              0.75              0.90   \n",
              "4              5  ...                0              0.97              0.92   \n",
              "\n",
              "   local_bo_qty  deck_risk  oe_constraint  ppap_risk stop_auto_buy rev_stop  \\\n",
              "0             0         No             No        Yes           Yes       No   \n",
              "1             0        Yes             No         No           Yes       No   \n",
              "2             0         No             No         No           Yes       No   \n",
              "3             0        Yes             No         No           Yes       No   \n",
              "4             0         No             No         No           Yes       No   \n",
              "\n",
              "  went_on_backorder  \n",
              "0                No  \n",
              "1                No  \n",
              "2                No  \n",
              "3                No  \n",
              "4                No  \n",
              "\n",
              "[5 rows x 23 columns]"
            ],
            "text/html": [
              "\n",
              "  <div id=\"df-0ac165da-c084-4b2f-9787-fe1614988cc5\">\n",
              "    <div class=\"colab-df-container\">\n",
              "      <div>\n",
              "<style scoped>\n",
              "    .dataframe tbody tr th:only-of-type {\n",
              "        vertical-align: middle;\n",
              "    }\n",
              "\n",
              "    .dataframe tbody tr th {\n",
              "        vertical-align: top;\n",
              "    }\n",
              "\n",
              "    .dataframe thead th {\n",
              "        text-align: right;\n",
              "    }\n",
              "</style>\n",
              "<table border=\"1\" class=\"dataframe\">\n",
              "  <thead>\n",
              "    <tr style=\"text-align: right;\">\n",
              "      <th></th>\n",
              "      <th>sku</th>\n",
              "      <th>national_inv</th>\n",
              "      <th>lead_time</th>\n",
              "      <th>in_transit_qty</th>\n",
              "      <th>forecast_3_month</th>\n",
              "      <th>forecast_6_month</th>\n",
              "      <th>forecast_9_month</th>\n",
              "      <th>sales_1_month</th>\n",
              "      <th>sales_3_month</th>\n",
              "      <th>sales_6_month</th>\n",
              "      <th>...</th>\n",
              "      <th>pieces_past_due</th>\n",
              "      <th>perf_6_month_avg</th>\n",
              "      <th>perf_12_month_avg</th>\n",
              "      <th>local_bo_qty</th>\n",
              "      <th>deck_risk</th>\n",
              "      <th>oe_constraint</th>\n",
              "      <th>ppap_risk</th>\n",
              "      <th>stop_auto_buy</th>\n",
              "      <th>rev_stop</th>\n",
              "      <th>went_on_backorder</th>\n",
              "    </tr>\n",
              "  </thead>\n",
              "  <tbody>\n",
              "    <tr>\n",
              "      <th>0</th>\n",
              "      <td>1888279</td>\n",
              "      <td>117</td>\n",
              "      <td>NaN</td>\n",
              "      <td>0</td>\n",
              "      <td>0</td>\n",
              "      <td>0</td>\n",
              "      <td>0</td>\n",
              "      <td>0</td>\n",
              "      <td>0</td>\n",
              "      <td>15</td>\n",
              "      <td>...</td>\n",
              "      <td>0</td>\n",
              "      <td>-99.00</td>\n",
              "      <td>-99.00</td>\n",
              "      <td>0</td>\n",
              "      <td>No</td>\n",
              "      <td>No</td>\n",
              "      <td>Yes</td>\n",
              "      <td>Yes</td>\n",
              "      <td>No</td>\n",
              "      <td>No</td>\n",
              "    </tr>\n",
              "    <tr>\n",
              "      <th>1</th>\n",
              "      <td>1870557</td>\n",
              "      <td>7</td>\n",
              "      <td>2.0</td>\n",
              "      <td>0</td>\n",
              "      <td>0</td>\n",
              "      <td>0</td>\n",
              "      <td>0</td>\n",
              "      <td>0</td>\n",
              "      <td>0</td>\n",
              "      <td>0</td>\n",
              "      <td>...</td>\n",
              "      <td>0</td>\n",
              "      <td>0.50</td>\n",
              "      <td>0.28</td>\n",
              "      <td>0</td>\n",
              "      <td>Yes</td>\n",
              "      <td>No</td>\n",
              "      <td>No</td>\n",
              "      <td>Yes</td>\n",
              "      <td>No</td>\n",
              "      <td>No</td>\n",
              "    </tr>\n",
              "    <tr>\n",
              "      <th>2</th>\n",
              "      <td>1475481</td>\n",
              "      <td>258</td>\n",
              "      <td>15.0</td>\n",
              "      <td>10</td>\n",
              "      <td>10</td>\n",
              "      <td>77</td>\n",
              "      <td>184</td>\n",
              "      <td>46</td>\n",
              "      <td>132</td>\n",
              "      <td>256</td>\n",
              "      <td>...</td>\n",
              "      <td>0</td>\n",
              "      <td>0.54</td>\n",
              "      <td>0.70</td>\n",
              "      <td>0</td>\n",
              "      <td>No</td>\n",
              "      <td>No</td>\n",
              "      <td>No</td>\n",
              "      <td>Yes</td>\n",
              "      <td>No</td>\n",
              "      <td>No</td>\n",
              "    </tr>\n",
              "    <tr>\n",
              "      <th>3</th>\n",
              "      <td>1758220</td>\n",
              "      <td>46</td>\n",
              "      <td>2.0</td>\n",
              "      <td>0</td>\n",
              "      <td>0</td>\n",
              "      <td>0</td>\n",
              "      <td>0</td>\n",
              "      <td>1</td>\n",
              "      <td>2</td>\n",
              "      <td>6</td>\n",
              "      <td>...</td>\n",
              "      <td>0</td>\n",
              "      <td>0.75</td>\n",
              "      <td>0.90</td>\n",
              "      <td>0</td>\n",
              "      <td>Yes</td>\n",
              "      <td>No</td>\n",
              "      <td>No</td>\n",
              "      <td>Yes</td>\n",
              "      <td>No</td>\n",
              "      <td>No</td>\n",
              "    </tr>\n",
              "    <tr>\n",
              "      <th>4</th>\n",
              "      <td>1360312</td>\n",
              "      <td>2</td>\n",
              "      <td>2.0</td>\n",
              "      <td>0</td>\n",
              "      <td>4</td>\n",
              "      <td>6</td>\n",
              "      <td>10</td>\n",
              "      <td>2</td>\n",
              "      <td>2</td>\n",
              "      <td>5</td>\n",
              "      <td>...</td>\n",
              "      <td>0</td>\n",
              "      <td>0.97</td>\n",
              "      <td>0.92</td>\n",
              "      <td>0</td>\n",
              "      <td>No</td>\n",
              "      <td>No</td>\n",
              "      <td>No</td>\n",
              "      <td>Yes</td>\n",
              "      <td>No</td>\n",
              "      <td>No</td>\n",
              "    </tr>\n",
              "  </tbody>\n",
              "</table>\n",
              "<p>5 rows × 23 columns</p>\n",
              "</div>\n",
              "      <button class=\"colab-df-convert\" onclick=\"convertToInteractive('df-0ac165da-c084-4b2f-9787-fe1614988cc5')\"\n",
              "              title=\"Convert this dataframe to an interactive table.\"\n",
              "              style=\"display:none;\">\n",
              "        \n",
              "  <svg xmlns=\"http://www.w3.org/2000/svg\" height=\"24px\"viewBox=\"0 0 24 24\"\n",
              "       width=\"24px\">\n",
              "    <path d=\"M0 0h24v24H0V0z\" fill=\"none\"/>\n",
              "    <path d=\"M18.56 5.44l.94 2.06.94-2.06 2.06-.94-2.06-.94-.94-2.06-.94 2.06-2.06.94zm-11 1L8.5 8.5l.94-2.06 2.06-.94-2.06-.94L8.5 2.5l-.94 2.06-2.06.94zm10 10l.94 2.06.94-2.06 2.06-.94-2.06-.94-.94-2.06-.94 2.06-2.06.94z\"/><path d=\"M17.41 7.96l-1.37-1.37c-.4-.4-.92-.59-1.43-.59-.52 0-1.04.2-1.43.59L10.3 9.45l-7.72 7.72c-.78.78-.78 2.05 0 2.83L4 21.41c.39.39.9.59 1.41.59.51 0 1.02-.2 1.41-.59l7.78-7.78 2.81-2.81c.8-.78.8-2.07 0-2.86zM5.41 20L4 18.59l7.72-7.72 1.47 1.35L5.41 20z\"/>\n",
              "  </svg>\n",
              "      </button>\n",
              "      \n",
              "  <style>\n",
              "    .colab-df-container {\n",
              "      display:flex;\n",
              "      flex-wrap:wrap;\n",
              "      gap: 12px;\n",
              "    }\n",
              "\n",
              "    .colab-df-convert {\n",
              "      background-color: #E8F0FE;\n",
              "      border: none;\n",
              "      border-radius: 50%;\n",
              "      cursor: pointer;\n",
              "      display: none;\n",
              "      fill: #1967D2;\n",
              "      height: 32px;\n",
              "      padding: 0 0 0 0;\n",
              "      width: 32px;\n",
              "    }\n",
              "\n",
              "    .colab-df-convert:hover {\n",
              "      background-color: #E2EBFA;\n",
              "      box-shadow: 0px 1px 2px rgba(60, 64, 67, 0.3), 0px 1px 3px 1px rgba(60, 64, 67, 0.15);\n",
              "      fill: #174EA6;\n",
              "    }\n",
              "\n",
              "    [theme=dark] .colab-df-convert {\n",
              "      background-color: #3B4455;\n",
              "      fill: #D2E3FC;\n",
              "    }\n",
              "\n",
              "    [theme=dark] .colab-df-convert:hover {\n",
              "      background-color: #434B5C;\n",
              "      box-shadow: 0px 1px 3px 1px rgba(0, 0, 0, 0.15);\n",
              "      filter: drop-shadow(0px 1px 2px rgba(0, 0, 0, 0.3));\n",
              "      fill: #FFFFFF;\n",
              "    }\n",
              "  </style>\n",
              "\n",
              "      <script>\n",
              "        const buttonEl =\n",
              "          document.querySelector('#df-0ac165da-c084-4b2f-9787-fe1614988cc5 button.colab-df-convert');\n",
              "        buttonEl.style.display =\n",
              "          google.colab.kernel.accessAllowed ? 'block' : 'none';\n",
              "\n",
              "        async function convertToInteractive(key) {\n",
              "          const element = document.querySelector('#df-0ac165da-c084-4b2f-9787-fe1614988cc5');\n",
              "          const dataTable =\n",
              "            await google.colab.kernel.invokeFunction('convertToInteractive',\n",
              "                                                     [key], {});\n",
              "          if (!dataTable) return;\n",
              "\n",
              "          const docLinkHtml = 'Like what you see? Visit the ' +\n",
              "            '<a target=\"_blank\" href=https://colab.research.google.com/notebooks/data_table.ipynb>data table notebook</a>'\n",
              "            + ' to learn more about interactive tables.';\n",
              "          element.innerHTML = '';\n",
              "          dataTable['output_type'] = 'display_data';\n",
              "          await google.colab.output.renderOutput(dataTable, element);\n",
              "          const docLink = document.createElement('div');\n",
              "          docLink.innerHTML = docLinkHtml;\n",
              "          element.appendChild(docLink);\n",
              "        }\n",
              "      </script>\n",
              "    </div>\n",
              "  </div>\n",
              "  "
            ]
          },
          "metadata": {},
          "execution_count": 354
        }
      ]
    },
    {
      "cell_type": "code",
      "source": [
        "data.describe()"
      ],
      "metadata": {
        "colab": {
          "base_uri": "https://localhost:8080/",
          "height": 364
        },
        "id": "7UgsIL0JtNPY",
        "outputId": "6d538113-56d7-4697-f620-276d5558b99c"
      },
      "execution_count": 355,
      "outputs": [
        {
          "output_type": "execute_result",
          "data": {
            "text/plain": [
              "                sku   national_inv     lead_time  in_transit_qty  \\\n",
              "count  6.158900e+04   61589.000000  58186.000000    61589.000000   \n",
              "mean   2.037188e+06     287.721882      7.559619       30.192843   \n",
              "std    6.564178e+05    4233.906931      6.498952      792.869253   \n",
              "min    1.068628e+06   -2999.000000      0.000000        0.000000   \n",
              "25%    1.498574e+06       3.000000      4.000000        0.000000   \n",
              "50%    1.898033e+06      10.000000      8.000000        0.000000   \n",
              "75%    2.314826e+06      57.000000      8.000000        0.000000   \n",
              "max    3.284895e+06  673445.000000     52.000000   170976.000000   \n",
              "\n",
              "       forecast_3_month  forecast_6_month  forecast_9_month  sales_1_month  \\\n",
              "count      6.158900e+04      6.158900e+04      6.158900e+04   61589.000000   \n",
              "mean       1.692728e+02      3.150413e+02      4.535760e+02      44.742957   \n",
              "std        5.286742e+03      9.774362e+03      1.420201e+04    1373.805831   \n",
              "min        0.000000e+00      0.000000e+00      0.000000e+00       0.000000   \n",
              "25%        0.000000e+00      0.000000e+00      0.000000e+00       0.000000   \n",
              "50%        0.000000e+00      0.000000e+00      0.000000e+00       0.000000   \n",
              "75%        1.200000e+01      2.500000e+01      3.600000e+01       6.000000   \n",
              "max        1.126656e+06      2.094336e+06      3.062016e+06  295197.000000   \n",
              "\n",
              "       sales_3_month  sales_6_month  sales_9_month       min_bank  \\\n",
              "count   61589.000000   6.158900e+04   6.158900e+04   61589.000000   \n",
              "mean      150.732631   2.835465e+02   4.196427e+02      43.087256   \n",
              "std      5224.959649   8.872270e+03   1.269858e+04     959.614135   \n",
              "min         0.000000   0.000000e+00   0.000000e+00       0.000000   \n",
              "25%         0.000000   0.000000e+00   0.000000e+00       0.000000   \n",
              "50%         2.000000   4.000000e+00   6.000000e+00       0.000000   \n",
              "75%        17.000000   3.400000e+01   5.100000e+01       3.000000   \n",
              "max    934593.000000   1.799099e+06   2.631590e+06  192978.000000   \n",
              "\n",
              "       pieces_past_due  perf_6_month_avg  perf_12_month_avg  local_bo_qty  \n",
              "count     61589.000000      61589.000000       61589.000000  61589.000000  \n",
              "mean          1.605400         -6.264182          -5.863664      1.205361  \n",
              "std          42.309229         25.537906          24.844514     29.981155  \n",
              "min           0.000000        -99.000000         -99.000000      0.000000  \n",
              "25%           0.000000          0.620000           0.640000      0.000000  \n",
              "50%           0.000000          0.820000           0.800000      0.000000  \n",
              "75%           0.000000          0.960000           0.950000      0.000000  \n",
              "max        7392.000000          1.000000           1.000000   2999.000000  "
            ],
            "text/html": [
              "\n",
              "  <div id=\"df-64ee44ca-5b38-4f12-adbc-5fe3d1018a50\">\n",
              "    <div class=\"colab-df-container\">\n",
              "      <div>\n",
              "<style scoped>\n",
              "    .dataframe tbody tr th:only-of-type {\n",
              "        vertical-align: middle;\n",
              "    }\n",
              "\n",
              "    .dataframe tbody tr th {\n",
              "        vertical-align: top;\n",
              "    }\n",
              "\n",
              "    .dataframe thead th {\n",
              "        text-align: right;\n",
              "    }\n",
              "</style>\n",
              "<table border=\"1\" class=\"dataframe\">\n",
              "  <thead>\n",
              "    <tr style=\"text-align: right;\">\n",
              "      <th></th>\n",
              "      <th>sku</th>\n",
              "      <th>national_inv</th>\n",
              "      <th>lead_time</th>\n",
              "      <th>in_transit_qty</th>\n",
              "      <th>forecast_3_month</th>\n",
              "      <th>forecast_6_month</th>\n",
              "      <th>forecast_9_month</th>\n",
              "      <th>sales_1_month</th>\n",
              "      <th>sales_3_month</th>\n",
              "      <th>sales_6_month</th>\n",
              "      <th>sales_9_month</th>\n",
              "      <th>min_bank</th>\n",
              "      <th>pieces_past_due</th>\n",
              "      <th>perf_6_month_avg</th>\n",
              "      <th>perf_12_month_avg</th>\n",
              "      <th>local_bo_qty</th>\n",
              "    </tr>\n",
              "  </thead>\n",
              "  <tbody>\n",
              "    <tr>\n",
              "      <th>count</th>\n",
              "      <td>6.158900e+04</td>\n",
              "      <td>61589.000000</td>\n",
              "      <td>58186.000000</td>\n",
              "      <td>61589.000000</td>\n",
              "      <td>6.158900e+04</td>\n",
              "      <td>6.158900e+04</td>\n",
              "      <td>6.158900e+04</td>\n",
              "      <td>61589.000000</td>\n",
              "      <td>61589.000000</td>\n",
              "      <td>6.158900e+04</td>\n",
              "      <td>6.158900e+04</td>\n",
              "      <td>61589.000000</td>\n",
              "      <td>61589.000000</td>\n",
              "      <td>61589.000000</td>\n",
              "      <td>61589.000000</td>\n",
              "      <td>61589.000000</td>\n",
              "    </tr>\n",
              "    <tr>\n",
              "      <th>mean</th>\n",
              "      <td>2.037188e+06</td>\n",
              "      <td>287.721882</td>\n",
              "      <td>7.559619</td>\n",
              "      <td>30.192843</td>\n",
              "      <td>1.692728e+02</td>\n",
              "      <td>3.150413e+02</td>\n",
              "      <td>4.535760e+02</td>\n",
              "      <td>44.742957</td>\n",
              "      <td>150.732631</td>\n",
              "      <td>2.835465e+02</td>\n",
              "      <td>4.196427e+02</td>\n",
              "      <td>43.087256</td>\n",
              "      <td>1.605400</td>\n",
              "      <td>-6.264182</td>\n",
              "      <td>-5.863664</td>\n",
              "      <td>1.205361</td>\n",
              "    </tr>\n",
              "    <tr>\n",
              "      <th>std</th>\n",
              "      <td>6.564178e+05</td>\n",
              "      <td>4233.906931</td>\n",
              "      <td>6.498952</td>\n",
              "      <td>792.869253</td>\n",
              "      <td>5.286742e+03</td>\n",
              "      <td>9.774362e+03</td>\n",
              "      <td>1.420201e+04</td>\n",
              "      <td>1373.805831</td>\n",
              "      <td>5224.959649</td>\n",
              "      <td>8.872270e+03</td>\n",
              "      <td>1.269858e+04</td>\n",
              "      <td>959.614135</td>\n",
              "      <td>42.309229</td>\n",
              "      <td>25.537906</td>\n",
              "      <td>24.844514</td>\n",
              "      <td>29.981155</td>\n",
              "    </tr>\n",
              "    <tr>\n",
              "      <th>min</th>\n",
              "      <td>1.068628e+06</td>\n",
              "      <td>-2999.000000</td>\n",
              "      <td>0.000000</td>\n",
              "      <td>0.000000</td>\n",
              "      <td>0.000000e+00</td>\n",
              "      <td>0.000000e+00</td>\n",
              "      <td>0.000000e+00</td>\n",
              "      <td>0.000000</td>\n",
              "      <td>0.000000</td>\n",
              "      <td>0.000000e+00</td>\n",
              "      <td>0.000000e+00</td>\n",
              "      <td>0.000000</td>\n",
              "      <td>0.000000</td>\n",
              "      <td>-99.000000</td>\n",
              "      <td>-99.000000</td>\n",
              "      <td>0.000000</td>\n",
              "    </tr>\n",
              "    <tr>\n",
              "      <th>25%</th>\n",
              "      <td>1.498574e+06</td>\n",
              "      <td>3.000000</td>\n",
              "      <td>4.000000</td>\n",
              "      <td>0.000000</td>\n",
              "      <td>0.000000e+00</td>\n",
              "      <td>0.000000e+00</td>\n",
              "      <td>0.000000e+00</td>\n",
              "      <td>0.000000</td>\n",
              "      <td>0.000000</td>\n",
              "      <td>0.000000e+00</td>\n",
              "      <td>0.000000e+00</td>\n",
              "      <td>0.000000</td>\n",
              "      <td>0.000000</td>\n",
              "      <td>0.620000</td>\n",
              "      <td>0.640000</td>\n",
              "      <td>0.000000</td>\n",
              "    </tr>\n",
              "    <tr>\n",
              "      <th>50%</th>\n",
              "      <td>1.898033e+06</td>\n",
              "      <td>10.000000</td>\n",
              "      <td>8.000000</td>\n",
              "      <td>0.000000</td>\n",
              "      <td>0.000000e+00</td>\n",
              "      <td>0.000000e+00</td>\n",
              "      <td>0.000000e+00</td>\n",
              "      <td>0.000000</td>\n",
              "      <td>2.000000</td>\n",
              "      <td>4.000000e+00</td>\n",
              "      <td>6.000000e+00</td>\n",
              "      <td>0.000000</td>\n",
              "      <td>0.000000</td>\n",
              "      <td>0.820000</td>\n",
              "      <td>0.800000</td>\n",
              "      <td>0.000000</td>\n",
              "    </tr>\n",
              "    <tr>\n",
              "      <th>75%</th>\n",
              "      <td>2.314826e+06</td>\n",
              "      <td>57.000000</td>\n",
              "      <td>8.000000</td>\n",
              "      <td>0.000000</td>\n",
              "      <td>1.200000e+01</td>\n",
              "      <td>2.500000e+01</td>\n",
              "      <td>3.600000e+01</td>\n",
              "      <td>6.000000</td>\n",
              "      <td>17.000000</td>\n",
              "      <td>3.400000e+01</td>\n",
              "      <td>5.100000e+01</td>\n",
              "      <td>3.000000</td>\n",
              "      <td>0.000000</td>\n",
              "      <td>0.960000</td>\n",
              "      <td>0.950000</td>\n",
              "      <td>0.000000</td>\n",
              "    </tr>\n",
              "    <tr>\n",
              "      <th>max</th>\n",
              "      <td>3.284895e+06</td>\n",
              "      <td>673445.000000</td>\n",
              "      <td>52.000000</td>\n",
              "      <td>170976.000000</td>\n",
              "      <td>1.126656e+06</td>\n",
              "      <td>2.094336e+06</td>\n",
              "      <td>3.062016e+06</td>\n",
              "      <td>295197.000000</td>\n",
              "      <td>934593.000000</td>\n",
              "      <td>1.799099e+06</td>\n",
              "      <td>2.631590e+06</td>\n",
              "      <td>192978.000000</td>\n",
              "      <td>7392.000000</td>\n",
              "      <td>1.000000</td>\n",
              "      <td>1.000000</td>\n",
              "      <td>2999.000000</td>\n",
              "    </tr>\n",
              "  </tbody>\n",
              "</table>\n",
              "</div>\n",
              "      <button class=\"colab-df-convert\" onclick=\"convertToInteractive('df-64ee44ca-5b38-4f12-adbc-5fe3d1018a50')\"\n",
              "              title=\"Convert this dataframe to an interactive table.\"\n",
              "              style=\"display:none;\">\n",
              "        \n",
              "  <svg xmlns=\"http://www.w3.org/2000/svg\" height=\"24px\"viewBox=\"0 0 24 24\"\n",
              "       width=\"24px\">\n",
              "    <path d=\"M0 0h24v24H0V0z\" fill=\"none\"/>\n",
              "    <path d=\"M18.56 5.44l.94 2.06.94-2.06 2.06-.94-2.06-.94-.94-2.06-.94 2.06-2.06.94zm-11 1L8.5 8.5l.94-2.06 2.06-.94-2.06-.94L8.5 2.5l-.94 2.06-2.06.94zm10 10l.94 2.06.94-2.06 2.06-.94-2.06-.94-.94-2.06-.94 2.06-2.06.94z\"/><path d=\"M17.41 7.96l-1.37-1.37c-.4-.4-.92-.59-1.43-.59-.52 0-1.04.2-1.43.59L10.3 9.45l-7.72 7.72c-.78.78-.78 2.05 0 2.83L4 21.41c.39.39.9.59 1.41.59.51 0 1.02-.2 1.41-.59l7.78-7.78 2.81-2.81c.8-.78.8-2.07 0-2.86zM5.41 20L4 18.59l7.72-7.72 1.47 1.35L5.41 20z\"/>\n",
              "  </svg>\n",
              "      </button>\n",
              "      \n",
              "  <style>\n",
              "    .colab-df-container {\n",
              "      display:flex;\n",
              "      flex-wrap:wrap;\n",
              "      gap: 12px;\n",
              "    }\n",
              "\n",
              "    .colab-df-convert {\n",
              "      background-color: #E8F0FE;\n",
              "      border: none;\n",
              "      border-radius: 50%;\n",
              "      cursor: pointer;\n",
              "      display: none;\n",
              "      fill: #1967D2;\n",
              "      height: 32px;\n",
              "      padding: 0 0 0 0;\n",
              "      width: 32px;\n",
              "    }\n",
              "\n",
              "    .colab-df-convert:hover {\n",
              "      background-color: #E2EBFA;\n",
              "      box-shadow: 0px 1px 2px rgba(60, 64, 67, 0.3), 0px 1px 3px 1px rgba(60, 64, 67, 0.15);\n",
              "      fill: #174EA6;\n",
              "    }\n",
              "\n",
              "    [theme=dark] .colab-df-convert {\n",
              "      background-color: #3B4455;\n",
              "      fill: #D2E3FC;\n",
              "    }\n",
              "\n",
              "    [theme=dark] .colab-df-convert:hover {\n",
              "      background-color: #434B5C;\n",
              "      box-shadow: 0px 1px 3px 1px rgba(0, 0, 0, 0.15);\n",
              "      filter: drop-shadow(0px 1px 2px rgba(0, 0, 0, 0.3));\n",
              "      fill: #FFFFFF;\n",
              "    }\n",
              "  </style>\n",
              "\n",
              "      <script>\n",
              "        const buttonEl =\n",
              "          document.querySelector('#df-64ee44ca-5b38-4f12-adbc-5fe3d1018a50 button.colab-df-convert');\n",
              "        buttonEl.style.display =\n",
              "          google.colab.kernel.accessAllowed ? 'block' : 'none';\n",
              "\n",
              "        async function convertToInteractive(key) {\n",
              "          const element = document.querySelector('#df-64ee44ca-5b38-4f12-adbc-5fe3d1018a50');\n",
              "          const dataTable =\n",
              "            await google.colab.kernel.invokeFunction('convertToInteractive',\n",
              "                                                     [key], {});\n",
              "          if (!dataTable) return;\n",
              "\n",
              "          const docLinkHtml = 'Like what you see? Visit the ' +\n",
              "            '<a target=\"_blank\" href=https://colab.research.google.com/notebooks/data_table.ipynb>data table notebook</a>'\n",
              "            + ' to learn more about interactive tables.';\n",
              "          element.innerHTML = '';\n",
              "          dataTable['output_type'] = 'display_data';\n",
              "          await google.colab.output.renderOutput(dataTable, element);\n",
              "          const docLink = document.createElement('div');\n",
              "          docLink.innerHTML = docLinkHtml;\n",
              "          element.appendChild(docLink);\n",
              "        }\n",
              "      </script>\n",
              "    </div>\n",
              "  </div>\n",
              "  "
            ]
          },
          "metadata": {},
          "execution_count": 355
        }
      ]
    },
    {
      "cell_type": "code",
      "source": [
        "#Checking the unique values in each variable for identifying the waste columns\n",
        "data.nunique()"
      ],
      "metadata": {
        "colab": {
          "base_uri": "https://localhost:8080/"
        },
        "id": "FQOCs59ztDQ3",
        "outputId": "4d4d0482-024b-46c6-cda4-9ac07636da9c"
      },
      "execution_count": 356,
      "outputs": [
        {
          "output_type": "execute_result",
          "data": {
            "text/plain": [
              "sku                  61589\n",
              "national_inv          2916\n",
              "lead_time               28\n",
              "in_transit_qty         908\n",
              "forecast_3_month      1623\n",
              "forecast_6_month      2195\n",
              "forecast_9_month      2664\n",
              "sales_1_month         1092\n",
              "sales_3_month         1928\n",
              "sales_6_month         2679\n",
              "sales_9_month         3220\n",
              "min_bank              1098\n",
              "potential_issue          2\n",
              "pieces_past_due        190\n",
              "perf_6_month_avg       102\n",
              "perf_12_month_avg      102\n",
              "local_bo_qty           201\n",
              "deck_risk                2\n",
              "oe_constraint            2\n",
              "ppap_risk                2\n",
              "stop_auto_buy            2\n",
              "rev_stop                 2\n",
              "went_on_backorder        2\n",
              "dtype: int64"
            ]
          },
          "metadata": {},
          "execution_count": 356
        }
      ]
    },
    {
      "cell_type": "code",
      "source": [
        "data=data.drop('sku',axis=1)"
      ],
      "metadata": {
        "id": "CX4u8RlzthCu"
      },
      "execution_count": 357,
      "outputs": []
    },
    {
      "cell_type": "code",
      "source": [
        "data.isnull().sum()"
      ],
      "metadata": {
        "colab": {
          "base_uri": "https://localhost:8080/"
        },
        "id": "SNAwmVdb0Fjp",
        "outputId": "900c26a8-01e8-48dd-d96a-813ad19f4008"
      },
      "execution_count": 358,
      "outputs": [
        {
          "output_type": "execute_result",
          "data": {
            "text/plain": [
              "national_inv            0\n",
              "lead_time            3403\n",
              "in_transit_qty          0\n",
              "forecast_3_month        0\n",
              "forecast_6_month        0\n",
              "forecast_9_month        0\n",
              "sales_1_month           0\n",
              "sales_3_month           0\n",
              "sales_6_month           0\n",
              "sales_9_month           0\n",
              "min_bank                0\n",
              "potential_issue         0\n",
              "pieces_past_due         0\n",
              "perf_6_month_avg        0\n",
              "perf_12_month_avg       0\n",
              "local_bo_qty            0\n",
              "deck_risk               0\n",
              "oe_constraint           0\n",
              "ppap_risk               0\n",
              "stop_auto_buy           0\n",
              "rev_stop                0\n",
              "went_on_backorder       0\n",
              "dtype: int64"
            ]
          },
          "metadata": {},
          "execution_count": 358
        }
      ]
    },
    {
      "cell_type": "code",
      "source": [
        "#Dropping the lead_time as it has only 5% of null values\n",
        "data=data.drop('lead_time',axis=1)"
      ],
      "metadata": {
        "id": "zw2BlxYn0JYn"
      },
      "execution_count": 359,
      "outputs": []
    },
    {
      "cell_type": "code",
      "source": [
        "#Checking the outliers\n",
        "num=data.select_dtypes(['float64','int64']).columns\n",
        "z = np.abs(stats.zscore(data[num]))\n",
        "print(z)"
      ],
      "metadata": {
        "colab": {
          "base_uri": "https://localhost:8080/"
        },
        "id": "8-AOdo9Qt15S",
        "outputId": "cc265dd6-d5d8-4c4f-b11d-0445514a56b8"
      },
      "execution_count": 360,
      "outputs": [
        {
          "output_type": "stream",
          "name": "stdout",
          "text": [
            "       national_inv  in_transit_qty  forecast_3_month  forecast_6_month  \\\n",
            "0          0.040323        0.038081          0.032019          0.032232   \n",
            "1          0.066304        0.038081          0.032019          0.032232   \n",
            "2          0.007020        0.025468          0.030127          0.024354   \n",
            "3          0.057092        0.038081          0.032019          0.032232   \n",
            "4          0.067485        0.038081          0.031262          0.031618   \n",
            "...             ...             ...               ...               ...   \n",
            "61584      0.066540        0.038081          0.027479          0.029776   \n",
            "61585      0.037252        0.038081          0.024452          0.024047   \n",
            "61586      0.036071        0.038081          0.032019          0.032232   \n",
            "61587      0.053077        0.038081          0.032019          0.032232   \n",
            "61588      0.067957        0.038081          0.030505          0.031413   \n",
            "\n",
            "       forecast_9_month  sales_1_month  sales_3_month  sales_6_month  \\\n",
            "0              0.031938       0.032569       0.028849       0.030268   \n",
            "1              0.031938       0.032569       0.028849       0.031959   \n",
            "2              0.018982       0.000915       0.003585       0.003105   \n",
            "3              0.031938       0.031841       0.028466       0.031283   \n",
            "4              0.031234       0.031113       0.028466       0.031395   \n",
            "...                 ...            ...            ...            ...   \n",
            "61584          0.030248       0.032569       0.027509       0.030945   \n",
            "61585          0.022080       0.019466       0.008179       0.006035   \n",
            "61586          0.031938       0.025290       0.021193       0.024633   \n",
            "61587          0.031938       0.296447       0.299386       0.354078   \n",
            "61588          0.031374       0.032569       0.028657       0.031846   \n",
            "\n",
            "       sales_9_month  min_bank  pieces_past_due  perf_6_month_avg  \\\n",
            "0           0.031865  0.043859         0.037945          3.631330   \n",
            "1           0.033047  0.044901         0.037945          0.264870   \n",
            "2           0.004303  0.004077         0.037945          0.266437   \n",
            "3           0.032338  0.043859         0.037945          0.274660   \n",
            "4           0.032574  0.044901         0.037945          0.283275   \n",
            "...              ...       ...              ...               ...   \n",
            "61584       0.032102  0.043859         0.037945          0.283666   \n",
            "61585       0.008083  0.009470         0.037945          0.265262   \n",
            "61586       0.026038  0.042817         0.037945          0.284449   \n",
            "61587       0.349991  0.519914         0.037945          3.631330   \n",
            "61588       0.032968  0.044901         0.037945          0.276226   \n",
            "\n",
            "       perf_12_month_avg  local_bo_qty  \n",
            "0               3.748799      0.040204  \n",
            "1               0.247287      0.040204  \n",
            "2               0.264192      0.040204  \n",
            "3               0.272242      0.040204  \n",
            "4               0.273047      0.040204  \n",
            "...                  ...           ...  \n",
            "61584           0.275462      0.040204  \n",
            "61585           0.247287      0.040204  \n",
            "61586           0.275865      0.040204  \n",
            "61587           3.748799      0.006850  \n",
            "61588           0.267412      0.040204  \n",
            "\n",
            "[61589 rows x 14 columns]\n"
          ]
        }
      ]
    },
    {
      "cell_type": "code",
      "source": [
        "# Position of the outlier\n",
        "print(np.where(z > 3.5))\n",
        "print(np.where(z < -3.5))"
      ],
      "metadata": {
        "colab": {
          "base_uri": "https://localhost:8080/"
        },
        "id": "Ss3AwYb6uGed",
        "outputId": "96d53470-0056-417c-b722-0377b7030447"
      },
      "execution_count": 361,
      "outputs": [
        {
          "output_type": "stream",
          "name": "stdout",
          "text": [
            "(array([    0,     0,    10, ..., 61581, 61587, 61587]), array([11, 12, 11, ..., 12, 11, 12]))\n",
            "(array([], dtype=int64), array([], dtype=int64))\n"
          ]
        }
      ]
    },
    {
      "cell_type": "code",
      "source": [
        "#There is no outlier\n",
        "data= data[(z < 3.5).all(axis=1)]"
      ],
      "metadata": {
        "id": "IL96Cj3yuMtG"
      },
      "execution_count": 362,
      "outputs": []
    },
    {
      "cell_type": "code",
      "source": [
        "data.shape"
      ],
      "metadata": {
        "id": "EBL32S7Sbk6J",
        "colab": {
          "base_uri": "https://localhost:8080/"
        },
        "outputId": "478fa132-2281-44b8-e9e7-3ec8d6d435a8"
      },
      "execution_count": 363,
      "outputs": [
        {
          "output_type": "execute_result",
          "data": {
            "text/plain": [
              "(56800, 21)"
            ]
          },
          "metadata": {},
          "execution_count": 363
        }
      ]
    },
    {
      "cell_type": "code",
      "source": [
        "data.head()"
      ],
      "metadata": {
        "colab": {
          "base_uri": "https://localhost:8080/",
          "height": 299
        },
        "id": "dPg7W4tou5TT",
        "outputId": "7fb84c33-fb95-43e9-c749-ff02b984673c"
      },
      "execution_count": 364,
      "outputs": [
        {
          "output_type": "execute_result",
          "data": {
            "text/plain": [
              "   national_inv  in_transit_qty  forecast_3_month  forecast_6_month  \\\n",
              "1             7               0                 0                 0   \n",
              "2           258              10                10                77   \n",
              "3            46               0                 0                 0   \n",
              "4             2               0                 4                 6   \n",
              "5           297               0                 0                 0   \n",
              "\n",
              "   forecast_9_month  sales_1_month  sales_3_month  sales_6_month  \\\n",
              "1                 0              0              0              0   \n",
              "2               184             46            132            256   \n",
              "3                 0              1              2              6   \n",
              "4                10              2              2              5   \n",
              "5                 0              5              6             44   \n",
              "\n",
              "   sales_9_month  min_bank  ... pieces_past_due  perf_6_month_avg  \\\n",
              "1              0         0  ...               0              0.50   \n",
              "2            365        47  ...               0              0.54   \n",
              "3              9         1  ...               0              0.75   \n",
              "4              6         0  ...               0              0.97   \n",
              "5             57         3  ...               0              0.58   \n",
              "\n",
              "   perf_12_month_avg  local_bo_qty  deck_risk oe_constraint ppap_risk  \\\n",
              "1               0.28             0        Yes            No        No   \n",
              "2               0.70             0         No            No        No   \n",
              "3               0.90             0        Yes            No        No   \n",
              "4               0.92             0         No            No        No   \n",
              "5               0.75             0        Yes            No        No   \n",
              "\n",
              "  stop_auto_buy rev_stop went_on_backorder  \n",
              "1           Yes       No                No  \n",
              "2           Yes       No                No  \n",
              "3           Yes       No                No  \n",
              "4           Yes       No                No  \n",
              "5           Yes       No                No  \n",
              "\n",
              "[5 rows x 21 columns]"
            ],
            "text/html": [
              "\n",
              "  <div id=\"df-983b98e0-8b68-4799-8b9a-4543831f11fe\">\n",
              "    <div class=\"colab-df-container\">\n",
              "      <div>\n",
              "<style scoped>\n",
              "    .dataframe tbody tr th:only-of-type {\n",
              "        vertical-align: middle;\n",
              "    }\n",
              "\n",
              "    .dataframe tbody tr th {\n",
              "        vertical-align: top;\n",
              "    }\n",
              "\n",
              "    .dataframe thead th {\n",
              "        text-align: right;\n",
              "    }\n",
              "</style>\n",
              "<table border=\"1\" class=\"dataframe\">\n",
              "  <thead>\n",
              "    <tr style=\"text-align: right;\">\n",
              "      <th></th>\n",
              "      <th>national_inv</th>\n",
              "      <th>in_transit_qty</th>\n",
              "      <th>forecast_3_month</th>\n",
              "      <th>forecast_6_month</th>\n",
              "      <th>forecast_9_month</th>\n",
              "      <th>sales_1_month</th>\n",
              "      <th>sales_3_month</th>\n",
              "      <th>sales_6_month</th>\n",
              "      <th>sales_9_month</th>\n",
              "      <th>min_bank</th>\n",
              "      <th>...</th>\n",
              "      <th>pieces_past_due</th>\n",
              "      <th>perf_6_month_avg</th>\n",
              "      <th>perf_12_month_avg</th>\n",
              "      <th>local_bo_qty</th>\n",
              "      <th>deck_risk</th>\n",
              "      <th>oe_constraint</th>\n",
              "      <th>ppap_risk</th>\n",
              "      <th>stop_auto_buy</th>\n",
              "      <th>rev_stop</th>\n",
              "      <th>went_on_backorder</th>\n",
              "    </tr>\n",
              "  </thead>\n",
              "  <tbody>\n",
              "    <tr>\n",
              "      <th>1</th>\n",
              "      <td>7</td>\n",
              "      <td>0</td>\n",
              "      <td>0</td>\n",
              "      <td>0</td>\n",
              "      <td>0</td>\n",
              "      <td>0</td>\n",
              "      <td>0</td>\n",
              "      <td>0</td>\n",
              "      <td>0</td>\n",
              "      <td>0</td>\n",
              "      <td>...</td>\n",
              "      <td>0</td>\n",
              "      <td>0.50</td>\n",
              "      <td>0.28</td>\n",
              "      <td>0</td>\n",
              "      <td>Yes</td>\n",
              "      <td>No</td>\n",
              "      <td>No</td>\n",
              "      <td>Yes</td>\n",
              "      <td>No</td>\n",
              "      <td>No</td>\n",
              "    </tr>\n",
              "    <tr>\n",
              "      <th>2</th>\n",
              "      <td>258</td>\n",
              "      <td>10</td>\n",
              "      <td>10</td>\n",
              "      <td>77</td>\n",
              "      <td>184</td>\n",
              "      <td>46</td>\n",
              "      <td>132</td>\n",
              "      <td>256</td>\n",
              "      <td>365</td>\n",
              "      <td>47</td>\n",
              "      <td>...</td>\n",
              "      <td>0</td>\n",
              "      <td>0.54</td>\n",
              "      <td>0.70</td>\n",
              "      <td>0</td>\n",
              "      <td>No</td>\n",
              "      <td>No</td>\n",
              "      <td>No</td>\n",
              "      <td>Yes</td>\n",
              "      <td>No</td>\n",
              "      <td>No</td>\n",
              "    </tr>\n",
              "    <tr>\n",
              "      <th>3</th>\n",
              "      <td>46</td>\n",
              "      <td>0</td>\n",
              "      <td>0</td>\n",
              "      <td>0</td>\n",
              "      <td>0</td>\n",
              "      <td>1</td>\n",
              "      <td>2</td>\n",
              "      <td>6</td>\n",
              "      <td>9</td>\n",
              "      <td>1</td>\n",
              "      <td>...</td>\n",
              "      <td>0</td>\n",
              "      <td>0.75</td>\n",
              "      <td>0.90</td>\n",
              "      <td>0</td>\n",
              "      <td>Yes</td>\n",
              "      <td>No</td>\n",
              "      <td>No</td>\n",
              "      <td>Yes</td>\n",
              "      <td>No</td>\n",
              "      <td>No</td>\n",
              "    </tr>\n",
              "    <tr>\n",
              "      <th>4</th>\n",
              "      <td>2</td>\n",
              "      <td>0</td>\n",
              "      <td>4</td>\n",
              "      <td>6</td>\n",
              "      <td>10</td>\n",
              "      <td>2</td>\n",
              "      <td>2</td>\n",
              "      <td>5</td>\n",
              "      <td>6</td>\n",
              "      <td>0</td>\n",
              "      <td>...</td>\n",
              "      <td>0</td>\n",
              "      <td>0.97</td>\n",
              "      <td>0.92</td>\n",
              "      <td>0</td>\n",
              "      <td>No</td>\n",
              "      <td>No</td>\n",
              "      <td>No</td>\n",
              "      <td>Yes</td>\n",
              "      <td>No</td>\n",
              "      <td>No</td>\n",
              "    </tr>\n",
              "    <tr>\n",
              "      <th>5</th>\n",
              "      <td>297</td>\n",
              "      <td>0</td>\n",
              "      <td>0</td>\n",
              "      <td>0</td>\n",
              "      <td>0</td>\n",
              "      <td>5</td>\n",
              "      <td>6</td>\n",
              "      <td>44</td>\n",
              "      <td>57</td>\n",
              "      <td>3</td>\n",
              "      <td>...</td>\n",
              "      <td>0</td>\n",
              "      <td>0.58</td>\n",
              "      <td>0.75</td>\n",
              "      <td>0</td>\n",
              "      <td>Yes</td>\n",
              "      <td>No</td>\n",
              "      <td>No</td>\n",
              "      <td>Yes</td>\n",
              "      <td>No</td>\n",
              "      <td>No</td>\n",
              "    </tr>\n",
              "  </tbody>\n",
              "</table>\n",
              "<p>5 rows × 21 columns</p>\n",
              "</div>\n",
              "      <button class=\"colab-df-convert\" onclick=\"convertToInteractive('df-983b98e0-8b68-4799-8b9a-4543831f11fe')\"\n",
              "              title=\"Convert this dataframe to an interactive table.\"\n",
              "              style=\"display:none;\">\n",
              "        \n",
              "  <svg xmlns=\"http://www.w3.org/2000/svg\" height=\"24px\"viewBox=\"0 0 24 24\"\n",
              "       width=\"24px\">\n",
              "    <path d=\"M0 0h24v24H0V0z\" fill=\"none\"/>\n",
              "    <path d=\"M18.56 5.44l.94 2.06.94-2.06 2.06-.94-2.06-.94-.94-2.06-.94 2.06-2.06.94zm-11 1L8.5 8.5l.94-2.06 2.06-.94-2.06-.94L8.5 2.5l-.94 2.06-2.06.94zm10 10l.94 2.06.94-2.06 2.06-.94-2.06-.94-.94-2.06-.94 2.06-2.06.94z\"/><path d=\"M17.41 7.96l-1.37-1.37c-.4-.4-.92-.59-1.43-.59-.52 0-1.04.2-1.43.59L10.3 9.45l-7.72 7.72c-.78.78-.78 2.05 0 2.83L4 21.41c.39.39.9.59 1.41.59.51 0 1.02-.2 1.41-.59l7.78-7.78 2.81-2.81c.8-.78.8-2.07 0-2.86zM5.41 20L4 18.59l7.72-7.72 1.47 1.35L5.41 20z\"/>\n",
              "  </svg>\n",
              "      </button>\n",
              "      \n",
              "  <style>\n",
              "    .colab-df-container {\n",
              "      display:flex;\n",
              "      flex-wrap:wrap;\n",
              "      gap: 12px;\n",
              "    }\n",
              "\n",
              "    .colab-df-convert {\n",
              "      background-color: #E8F0FE;\n",
              "      border: none;\n",
              "      border-radius: 50%;\n",
              "      cursor: pointer;\n",
              "      display: none;\n",
              "      fill: #1967D2;\n",
              "      height: 32px;\n",
              "      padding: 0 0 0 0;\n",
              "      width: 32px;\n",
              "    }\n",
              "\n",
              "    .colab-df-convert:hover {\n",
              "      background-color: #E2EBFA;\n",
              "      box-shadow: 0px 1px 2px rgba(60, 64, 67, 0.3), 0px 1px 3px 1px rgba(60, 64, 67, 0.15);\n",
              "      fill: #174EA6;\n",
              "    }\n",
              "\n",
              "    [theme=dark] .colab-df-convert {\n",
              "      background-color: #3B4455;\n",
              "      fill: #D2E3FC;\n",
              "    }\n",
              "\n",
              "    [theme=dark] .colab-df-convert:hover {\n",
              "      background-color: #434B5C;\n",
              "      box-shadow: 0px 1px 3px 1px rgba(0, 0, 0, 0.15);\n",
              "      filter: drop-shadow(0px 1px 2px rgba(0, 0, 0, 0.3));\n",
              "      fill: #FFFFFF;\n",
              "    }\n",
              "  </style>\n",
              "\n",
              "      <script>\n",
              "        const buttonEl =\n",
              "          document.querySelector('#df-983b98e0-8b68-4799-8b9a-4543831f11fe button.colab-df-convert');\n",
              "        buttonEl.style.display =\n",
              "          google.colab.kernel.accessAllowed ? 'block' : 'none';\n",
              "\n",
              "        async function convertToInteractive(key) {\n",
              "          const element = document.querySelector('#df-983b98e0-8b68-4799-8b9a-4543831f11fe');\n",
              "          const dataTable =\n",
              "            await google.colab.kernel.invokeFunction('convertToInteractive',\n",
              "                                                     [key], {});\n",
              "          if (!dataTable) return;\n",
              "\n",
              "          const docLinkHtml = 'Like what you see? Visit the ' +\n",
              "            '<a target=\"_blank\" href=https://colab.research.google.com/notebooks/data_table.ipynb>data table notebook</a>'\n",
              "            + ' to learn more about interactive tables.';\n",
              "          element.innerHTML = '';\n",
              "          dataTable['output_type'] = 'display_data';\n",
              "          await google.colab.output.renderOutput(dataTable, element);\n",
              "          const docLink = document.createElement('div');\n",
              "          docLink.innerHTML = docLinkHtml;\n",
              "          element.appendChild(docLink);\n",
              "        }\n",
              "      </script>\n",
              "    </div>\n",
              "  </div>\n",
              "  "
            ]
          },
          "metadata": {},
          "execution_count": 364
        }
      ]
    },
    {
      "cell_type": "code",
      "source": [
        "#Finding the collinear columns\n",
        "cor_matrix = data.corr().abs()\n",
        "print(cor_matrix)"
      ],
      "metadata": {
        "colab": {
          "base_uri": "https://localhost:8080/"
        },
        "id": "4G70BuRp2wZ8",
        "outputId": "0f3f178c-3bf7-4899-9d02-4614b787880d"
      },
      "execution_count": 365,
      "outputs": [
        {
          "output_type": "stream",
          "name": "stdout",
          "text": [
            "                   national_inv  in_transit_qty  forecast_3_month  \\\n",
            "national_inv           1.000000        0.295015          0.328830   \n",
            "in_transit_qty         0.295015        1.000000          0.603760   \n",
            "forecast_3_month       0.328830        0.603760          1.000000   \n",
            "forecast_6_month       0.366461        0.633622          0.956406   \n",
            "forecast_9_month       0.374603        0.646219          0.938732   \n",
            "sales_1_month          0.370190        0.685275          0.792950   \n",
            "sales_3_month          0.387943        0.691395          0.801046   \n",
            "sales_6_month          0.413110        0.687814          0.795899   \n",
            "sales_9_month          0.418773        0.685710          0.788740   \n",
            "min_bank               0.403451        0.660879          0.757156   \n",
            "pieces_past_due        0.003493        0.060412          0.118576   \n",
            "perf_6_month_avg       0.052833        0.043532          0.024189   \n",
            "perf_12_month_avg      0.051223        0.044061          0.024082   \n",
            "local_bo_qty           0.004376        0.069450          0.122865   \n",
            "\n",
            "                   forecast_6_month  forecast_9_month  sales_1_month  \\\n",
            "national_inv               0.366461          0.374603       0.370190   \n",
            "in_transit_qty             0.633622          0.646219       0.685275   \n",
            "forecast_3_month           0.956406          0.938732       0.792950   \n",
            "forecast_6_month           1.000000          0.988551       0.827505   \n",
            "forecast_9_month           0.988551          1.000000       0.844536   \n",
            "sales_1_month              0.827505          0.844536       1.000000   \n",
            "sales_3_month              0.842023          0.860792       0.950922   \n",
            "sales_6_month              0.849096          0.867642       0.938349   \n",
            "sales_9_month              0.841022          0.855764       0.924364   \n",
            "min_bank                   0.792889          0.806212       0.849809   \n",
            "pieces_past_due            0.103394          0.100314       0.106878   \n",
            "perf_6_month_avg           0.035772          0.040522       0.044188   \n",
            "perf_12_month_avg          0.035109          0.039937       0.042265   \n",
            "local_bo_qty               0.101486          0.097223       0.129704   \n",
            "\n",
            "                   sales_3_month  sales_6_month  sales_9_month  min_bank  \\\n",
            "national_inv            0.387943       0.413110       0.418773  0.403451   \n",
            "in_transit_qty          0.691395       0.687814       0.685710  0.660879   \n",
            "forecast_3_month        0.801046       0.795899       0.788740  0.757156   \n",
            "forecast_6_month        0.842023       0.849096       0.841022  0.792889   \n",
            "forecast_9_month        0.860792       0.867642       0.855764  0.806212   \n",
            "sales_1_month           0.950922       0.938349       0.924364  0.849809   \n",
            "sales_3_month           1.000000       0.978947       0.956168  0.854068   \n",
            "sales_6_month           0.978947       1.000000       0.982439  0.860371   \n",
            "sales_9_month           0.956168       0.982439       1.000000  0.854409   \n",
            "min_bank                0.854068       0.860371       0.854409  1.000000   \n",
            "pieces_past_due         0.104860       0.098984       0.095239  0.111136   \n",
            "perf_6_month_avg        0.047321       0.048481       0.046784  0.049264   \n",
            "perf_12_month_avg       0.044789       0.045783       0.044341  0.047691   \n",
            "local_bo_qty            0.112408       0.100204       0.095393  0.102380   \n",
            "\n",
            "                   pieces_past_due  perf_6_month_avg  perf_12_month_avg  \\\n",
            "national_inv              0.003493          0.052833           0.051223   \n",
            "in_transit_qty            0.060412          0.043532           0.044061   \n",
            "forecast_3_month          0.118576          0.024189           0.024082   \n",
            "forecast_6_month          0.103394          0.035772           0.035109   \n",
            "forecast_9_month          0.100314          0.040522           0.039937   \n",
            "sales_1_month             0.106878          0.044188           0.042265   \n",
            "sales_3_month             0.104860          0.047321           0.044789   \n",
            "sales_6_month             0.098984          0.048481           0.045783   \n",
            "sales_9_month             0.095239          0.046784           0.044341   \n",
            "min_bank                  0.111136          0.049264           0.047691   \n",
            "pieces_past_due           1.000000          0.057996           0.057511   \n",
            "perf_6_month_avg          0.057996          1.000000           0.947432   \n",
            "perf_12_month_avg         0.057511          0.947432           1.000000   \n",
            "local_bo_qty              0.133034          0.051943           0.054074   \n",
            "\n",
            "                   local_bo_qty  \n",
            "national_inv           0.004376  \n",
            "in_transit_qty         0.069450  \n",
            "forecast_3_month       0.122865  \n",
            "forecast_6_month       0.101486  \n",
            "forecast_9_month       0.097223  \n",
            "sales_1_month          0.129704  \n",
            "sales_3_month          0.112408  \n",
            "sales_6_month          0.100204  \n",
            "sales_9_month          0.095393  \n",
            "min_bank               0.102380  \n",
            "pieces_past_due        0.133034  \n",
            "perf_6_month_avg       0.051943  \n",
            "perf_12_month_avg      0.054074  \n",
            "local_bo_qty           1.000000  \n"
          ]
        }
      ]
    },
    {
      "cell_type": "code",
      "source": [
        "#Building an upper triangular matrix to see the correaltion of the columns more clearly \n",
        "upper_tri = cor_matrix.where(np.triu(np.ones(cor_matrix.shape),k=1).astype('bool'))\n",
        "print(upper_tri)"
      ],
      "metadata": {
        "colab": {
          "base_uri": "https://localhost:8080/"
        },
        "id": "ksMvSy_r20cr",
        "outputId": "7dafd00b-86a4-4251-e0d5-58902797ae9e"
      },
      "execution_count": 366,
      "outputs": [
        {
          "output_type": "stream",
          "name": "stdout",
          "text": [
            "                   national_inv  in_transit_qty  forecast_3_month  \\\n",
            "national_inv                NaN        0.295015           0.32883   \n",
            "in_transit_qty              NaN             NaN           0.60376   \n",
            "forecast_3_month            NaN             NaN               NaN   \n",
            "forecast_6_month            NaN             NaN               NaN   \n",
            "forecast_9_month            NaN             NaN               NaN   \n",
            "sales_1_month               NaN             NaN               NaN   \n",
            "sales_3_month               NaN             NaN               NaN   \n",
            "sales_6_month               NaN             NaN               NaN   \n",
            "sales_9_month               NaN             NaN               NaN   \n",
            "min_bank                    NaN             NaN               NaN   \n",
            "pieces_past_due             NaN             NaN               NaN   \n",
            "perf_6_month_avg            NaN             NaN               NaN   \n",
            "perf_12_month_avg           NaN             NaN               NaN   \n",
            "local_bo_qty                NaN             NaN               NaN   \n",
            "\n",
            "                   forecast_6_month  forecast_9_month  sales_1_month  \\\n",
            "national_inv               0.366461          0.374603       0.370190   \n",
            "in_transit_qty             0.633622          0.646219       0.685275   \n",
            "forecast_3_month           0.956406          0.938732       0.792950   \n",
            "forecast_6_month                NaN          0.988551       0.827505   \n",
            "forecast_9_month                NaN               NaN       0.844536   \n",
            "sales_1_month                   NaN               NaN            NaN   \n",
            "sales_3_month                   NaN               NaN            NaN   \n",
            "sales_6_month                   NaN               NaN            NaN   \n",
            "sales_9_month                   NaN               NaN            NaN   \n",
            "min_bank                        NaN               NaN            NaN   \n",
            "pieces_past_due                 NaN               NaN            NaN   \n",
            "perf_6_month_avg                NaN               NaN            NaN   \n",
            "perf_12_month_avg               NaN               NaN            NaN   \n",
            "local_bo_qty                    NaN               NaN            NaN   \n",
            "\n",
            "                   sales_3_month  sales_6_month  sales_9_month  min_bank  \\\n",
            "national_inv            0.387943       0.413110       0.418773  0.403451   \n",
            "in_transit_qty          0.691395       0.687814       0.685710  0.660879   \n",
            "forecast_3_month        0.801046       0.795899       0.788740  0.757156   \n",
            "forecast_6_month        0.842023       0.849096       0.841022  0.792889   \n",
            "forecast_9_month        0.860792       0.867642       0.855764  0.806212   \n",
            "sales_1_month           0.950922       0.938349       0.924364  0.849809   \n",
            "sales_3_month                NaN       0.978947       0.956168  0.854068   \n",
            "sales_6_month                NaN            NaN       0.982439  0.860371   \n",
            "sales_9_month                NaN            NaN            NaN  0.854409   \n",
            "min_bank                     NaN            NaN            NaN       NaN   \n",
            "pieces_past_due              NaN            NaN            NaN       NaN   \n",
            "perf_6_month_avg             NaN            NaN            NaN       NaN   \n",
            "perf_12_month_avg            NaN            NaN            NaN       NaN   \n",
            "local_bo_qty                 NaN            NaN            NaN       NaN   \n",
            "\n",
            "                   pieces_past_due  perf_6_month_avg  perf_12_month_avg  \\\n",
            "national_inv              0.003493          0.052833           0.051223   \n",
            "in_transit_qty            0.060412          0.043532           0.044061   \n",
            "forecast_3_month          0.118576          0.024189           0.024082   \n",
            "forecast_6_month          0.103394          0.035772           0.035109   \n",
            "forecast_9_month          0.100314          0.040522           0.039937   \n",
            "sales_1_month             0.106878          0.044188           0.042265   \n",
            "sales_3_month             0.104860          0.047321           0.044789   \n",
            "sales_6_month             0.098984          0.048481           0.045783   \n",
            "sales_9_month             0.095239          0.046784           0.044341   \n",
            "min_bank                  0.111136          0.049264           0.047691   \n",
            "pieces_past_due                NaN          0.057996           0.057511   \n",
            "perf_6_month_avg               NaN               NaN           0.947432   \n",
            "perf_12_month_avg              NaN               NaN                NaN   \n",
            "local_bo_qty                   NaN               NaN                NaN   \n",
            "\n",
            "                   local_bo_qty  \n",
            "national_inv           0.004376  \n",
            "in_transit_qty         0.069450  \n",
            "forecast_3_month       0.122865  \n",
            "forecast_6_month       0.101486  \n",
            "forecast_9_month       0.097223  \n",
            "sales_1_month          0.129704  \n",
            "sales_3_month          0.112408  \n",
            "sales_6_month          0.100204  \n",
            "sales_9_month          0.095393  \n",
            "min_bank               0.102380  \n",
            "pieces_past_due        0.133034  \n",
            "perf_6_month_avg       0.051943  \n",
            "perf_12_month_avg      0.054074  \n",
            "local_bo_qty                NaN  \n"
          ]
        }
      ]
    },
    {
      "cell_type": "code",
      "source": [
        "#View the columns with high collinearity\n",
        "to_drop = [column for column in upper_tri.columns if any(upper_tri[column] > 0.95)]\n",
        "print(); print(to_drop)"
      ],
      "metadata": {
        "colab": {
          "base_uri": "https://localhost:8080/"
        },
        "id": "Lj7mtH1u232c",
        "outputId": "e4259153-62c5-4bd8-ce2d-f17becc6c571"
      },
      "execution_count": 367,
      "outputs": [
        {
          "output_type": "stream",
          "name": "stdout",
          "text": [
            "\n",
            "['forecast_6_month', 'forecast_9_month', 'sales_3_month', 'sales_6_month', 'sales_9_month']\n"
          ]
        }
      ]
    },
    {
      "cell_type": "code",
      "source": [
        "data = data.drop(data[to_drop], axis=1)\n",
        "print(); print(data.head())"
      ],
      "metadata": {
        "colab": {
          "base_uri": "https://localhost:8080/"
        },
        "id": "ievkJR7o2-GT",
        "outputId": "40b2e19d-c24a-41af-c2c8-3c24cbdde4ae"
      },
      "execution_count": 368,
      "outputs": [
        {
          "output_type": "stream",
          "name": "stdout",
          "text": [
            "\n",
            "   national_inv  in_transit_qty  forecast_3_month  sales_1_month  min_bank  \\\n",
            "1             7               0                 0              0         0   \n",
            "2           258              10                10             46        47   \n",
            "3            46               0                 0              1         1   \n",
            "4             2               0                 4              2         0   \n",
            "5           297               0                 0              5         3   \n",
            "\n",
            "  potential_issue  pieces_past_due  perf_6_month_avg  perf_12_month_avg  \\\n",
            "1              No                0              0.50               0.28   \n",
            "2              No                0              0.54               0.70   \n",
            "3              No                0              0.75               0.90   \n",
            "4              No                0              0.97               0.92   \n",
            "5              No                0              0.58               0.75   \n",
            "\n",
            "   local_bo_qty deck_risk oe_constraint ppap_risk stop_auto_buy rev_stop  \\\n",
            "1             0       Yes            No        No           Yes       No   \n",
            "2             0        No            No        No           Yes       No   \n",
            "3             0       Yes            No        No           Yes       No   \n",
            "4             0        No            No        No           Yes       No   \n",
            "5             0       Yes            No        No           Yes       No   \n",
            "\n",
            "  went_on_backorder  \n",
            "1                No  \n",
            "2                No  \n",
            "3                No  \n",
            "4                No  \n",
            "5                No  \n"
          ]
        }
      ]
    },
    {
      "cell_type": "code",
      "source": [
        "data.shape"
      ],
      "metadata": {
        "colab": {
          "base_uri": "https://localhost:8080/"
        },
        "id": "Qy-kjAsa3CPp",
        "outputId": "0b41b03f-ef3a-4d71-efea-d2cc133b5404"
      },
      "execution_count": 369,
      "outputs": [
        {
          "output_type": "execute_result",
          "data": {
            "text/plain": [
              "(56800, 16)"
            ]
          },
          "metadata": {},
          "execution_count": 369
        }
      ]
    },
    {
      "cell_type": "code",
      "source": [
        "#Converting the data types \n",
        "cat=data.select_dtypes(include='object').astype('category').columns\n",
        "data[cat]=data[cat].astype('category')\n",
        "data.dtypes\n"
      ],
      "metadata": {
        "id": "o968XpHFgBs0",
        "colab": {
          "base_uri": "https://localhost:8080/"
        },
        "outputId": "a52e1615-fbdd-40de-ab3d-9442c754f870"
      },
      "execution_count": 370,
      "outputs": [
        {
          "output_type": "execute_result",
          "data": {
            "text/plain": [
              "national_inv            int64\n",
              "in_transit_qty          int64\n",
              "forecast_3_month        int64\n",
              "sales_1_month           int64\n",
              "min_bank                int64\n",
              "potential_issue      category\n",
              "pieces_past_due         int64\n",
              "perf_6_month_avg      float64\n",
              "perf_12_month_avg     float64\n",
              "local_bo_qty            int64\n",
              "deck_risk            category\n",
              "oe_constraint        category\n",
              "ppap_risk            category\n",
              "stop_auto_buy        category\n",
              "rev_stop             category\n",
              "went_on_backorder    category\n",
              "dtype: object"
            ]
          },
          "metadata": {},
          "execution_count": 370
        }
      ]
    },
    {
      "cell_type": "code",
      "source": [
        "#Separating the num cols\n",
        "num=data.select_dtypes(include=['int64','float64']).columns\n",
        "data[num].astype('float64')\n"
      ],
      "metadata": {
        "id": "I_RDqHVogRHs",
        "colab": {
          "base_uri": "https://localhost:8080/",
          "height": 488
        },
        "outputId": "230ac992-5dfc-435a-f2e2-a96a9033b895"
      },
      "execution_count": 371,
      "outputs": [
        {
          "output_type": "execute_result",
          "data": {
            "text/plain": [
              "       national_inv  in_transit_qty  forecast_3_month  sales_1_month  \\\n",
              "1               7.0             0.0               0.0            0.0   \n",
              "2             258.0            10.0              10.0           46.0   \n",
              "3              46.0             0.0               0.0            1.0   \n",
              "4               2.0             0.0               4.0            2.0   \n",
              "5             297.0             0.0               0.0            5.0   \n",
              "...             ...             ...               ...            ...   \n",
              "61583          80.0             0.0               0.0            7.0   \n",
              "61584           6.0             0.0              24.0            0.0   \n",
              "61585         130.0             0.0              40.0           18.0   \n",
              "61586         135.0             0.0               0.0           10.0   \n",
              "61588           0.0             0.0               8.0            0.0   \n",
              "\n",
              "       min_bank  pieces_past_due  perf_6_month_avg  perf_12_month_avg  \\\n",
              "1           0.0              0.0              0.50               0.28   \n",
              "2          47.0              0.0              0.54               0.70   \n",
              "3           1.0              0.0              0.75               0.90   \n",
              "4           0.0              0.0              0.97               0.92   \n",
              "5           3.0              0.0              0.58               0.75   \n",
              "...         ...              ...               ...                ...   \n",
              "61583       3.0              0.0              1.00               0.91   \n",
              "61584       1.0              0.0              0.98               0.98   \n",
              "61585      34.0              0.0              0.51               0.28   \n",
              "61586       2.0              0.0              1.00               0.99   \n",
              "61588       0.0              0.0              0.79               0.78   \n",
              "\n",
              "       local_bo_qty  \n",
              "1               0.0  \n",
              "2               0.0  \n",
              "3               0.0  \n",
              "4               0.0  \n",
              "5               0.0  \n",
              "...             ...  \n",
              "61583           0.0  \n",
              "61584           0.0  \n",
              "61585           0.0  \n",
              "61586           0.0  \n",
              "61588           0.0  \n",
              "\n",
              "[56800 rows x 9 columns]"
            ],
            "text/html": [
              "\n",
              "  <div id=\"df-fa16d656-b072-4f44-90ed-4552c00df1ce\">\n",
              "    <div class=\"colab-df-container\">\n",
              "      <div>\n",
              "<style scoped>\n",
              "    .dataframe tbody tr th:only-of-type {\n",
              "        vertical-align: middle;\n",
              "    }\n",
              "\n",
              "    .dataframe tbody tr th {\n",
              "        vertical-align: top;\n",
              "    }\n",
              "\n",
              "    .dataframe thead th {\n",
              "        text-align: right;\n",
              "    }\n",
              "</style>\n",
              "<table border=\"1\" class=\"dataframe\">\n",
              "  <thead>\n",
              "    <tr style=\"text-align: right;\">\n",
              "      <th></th>\n",
              "      <th>national_inv</th>\n",
              "      <th>in_transit_qty</th>\n",
              "      <th>forecast_3_month</th>\n",
              "      <th>sales_1_month</th>\n",
              "      <th>min_bank</th>\n",
              "      <th>pieces_past_due</th>\n",
              "      <th>perf_6_month_avg</th>\n",
              "      <th>perf_12_month_avg</th>\n",
              "      <th>local_bo_qty</th>\n",
              "    </tr>\n",
              "  </thead>\n",
              "  <tbody>\n",
              "    <tr>\n",
              "      <th>1</th>\n",
              "      <td>7.0</td>\n",
              "      <td>0.0</td>\n",
              "      <td>0.0</td>\n",
              "      <td>0.0</td>\n",
              "      <td>0.0</td>\n",
              "      <td>0.0</td>\n",
              "      <td>0.50</td>\n",
              "      <td>0.28</td>\n",
              "      <td>0.0</td>\n",
              "    </tr>\n",
              "    <tr>\n",
              "      <th>2</th>\n",
              "      <td>258.0</td>\n",
              "      <td>10.0</td>\n",
              "      <td>10.0</td>\n",
              "      <td>46.0</td>\n",
              "      <td>47.0</td>\n",
              "      <td>0.0</td>\n",
              "      <td>0.54</td>\n",
              "      <td>0.70</td>\n",
              "      <td>0.0</td>\n",
              "    </tr>\n",
              "    <tr>\n",
              "      <th>3</th>\n",
              "      <td>46.0</td>\n",
              "      <td>0.0</td>\n",
              "      <td>0.0</td>\n",
              "      <td>1.0</td>\n",
              "      <td>1.0</td>\n",
              "      <td>0.0</td>\n",
              "      <td>0.75</td>\n",
              "      <td>0.90</td>\n",
              "      <td>0.0</td>\n",
              "    </tr>\n",
              "    <tr>\n",
              "      <th>4</th>\n",
              "      <td>2.0</td>\n",
              "      <td>0.0</td>\n",
              "      <td>4.0</td>\n",
              "      <td>2.0</td>\n",
              "      <td>0.0</td>\n",
              "      <td>0.0</td>\n",
              "      <td>0.97</td>\n",
              "      <td>0.92</td>\n",
              "      <td>0.0</td>\n",
              "    </tr>\n",
              "    <tr>\n",
              "      <th>5</th>\n",
              "      <td>297.0</td>\n",
              "      <td>0.0</td>\n",
              "      <td>0.0</td>\n",
              "      <td>5.0</td>\n",
              "      <td>3.0</td>\n",
              "      <td>0.0</td>\n",
              "      <td>0.58</td>\n",
              "      <td>0.75</td>\n",
              "      <td>0.0</td>\n",
              "    </tr>\n",
              "    <tr>\n",
              "      <th>...</th>\n",
              "      <td>...</td>\n",
              "      <td>...</td>\n",
              "      <td>...</td>\n",
              "      <td>...</td>\n",
              "      <td>...</td>\n",
              "      <td>...</td>\n",
              "      <td>...</td>\n",
              "      <td>...</td>\n",
              "      <td>...</td>\n",
              "    </tr>\n",
              "    <tr>\n",
              "      <th>61583</th>\n",
              "      <td>80.0</td>\n",
              "      <td>0.0</td>\n",
              "      <td>0.0</td>\n",
              "      <td>7.0</td>\n",
              "      <td>3.0</td>\n",
              "      <td>0.0</td>\n",
              "      <td>1.00</td>\n",
              "      <td>0.91</td>\n",
              "      <td>0.0</td>\n",
              "    </tr>\n",
              "    <tr>\n",
              "      <th>61584</th>\n",
              "      <td>6.0</td>\n",
              "      <td>0.0</td>\n",
              "      <td>24.0</td>\n",
              "      <td>0.0</td>\n",
              "      <td>1.0</td>\n",
              "      <td>0.0</td>\n",
              "      <td>0.98</td>\n",
              "      <td>0.98</td>\n",
              "      <td>0.0</td>\n",
              "    </tr>\n",
              "    <tr>\n",
              "      <th>61585</th>\n",
              "      <td>130.0</td>\n",
              "      <td>0.0</td>\n",
              "      <td>40.0</td>\n",
              "      <td>18.0</td>\n",
              "      <td>34.0</td>\n",
              "      <td>0.0</td>\n",
              "      <td>0.51</td>\n",
              "      <td>0.28</td>\n",
              "      <td>0.0</td>\n",
              "    </tr>\n",
              "    <tr>\n",
              "      <th>61586</th>\n",
              "      <td>135.0</td>\n",
              "      <td>0.0</td>\n",
              "      <td>0.0</td>\n",
              "      <td>10.0</td>\n",
              "      <td>2.0</td>\n",
              "      <td>0.0</td>\n",
              "      <td>1.00</td>\n",
              "      <td>0.99</td>\n",
              "      <td>0.0</td>\n",
              "    </tr>\n",
              "    <tr>\n",
              "      <th>61588</th>\n",
              "      <td>0.0</td>\n",
              "      <td>0.0</td>\n",
              "      <td>8.0</td>\n",
              "      <td>0.0</td>\n",
              "      <td>0.0</td>\n",
              "      <td>0.0</td>\n",
              "      <td>0.79</td>\n",
              "      <td>0.78</td>\n",
              "      <td>0.0</td>\n",
              "    </tr>\n",
              "  </tbody>\n",
              "</table>\n",
              "<p>56800 rows × 9 columns</p>\n",
              "</div>\n",
              "      <button class=\"colab-df-convert\" onclick=\"convertToInteractive('df-fa16d656-b072-4f44-90ed-4552c00df1ce')\"\n",
              "              title=\"Convert this dataframe to an interactive table.\"\n",
              "              style=\"display:none;\">\n",
              "        \n",
              "  <svg xmlns=\"http://www.w3.org/2000/svg\" height=\"24px\"viewBox=\"0 0 24 24\"\n",
              "       width=\"24px\">\n",
              "    <path d=\"M0 0h24v24H0V0z\" fill=\"none\"/>\n",
              "    <path d=\"M18.56 5.44l.94 2.06.94-2.06 2.06-.94-2.06-.94-.94-2.06-.94 2.06-2.06.94zm-11 1L8.5 8.5l.94-2.06 2.06-.94-2.06-.94L8.5 2.5l-.94 2.06-2.06.94zm10 10l.94 2.06.94-2.06 2.06-.94-2.06-.94-.94-2.06-.94 2.06-2.06.94z\"/><path d=\"M17.41 7.96l-1.37-1.37c-.4-.4-.92-.59-1.43-.59-.52 0-1.04.2-1.43.59L10.3 9.45l-7.72 7.72c-.78.78-.78 2.05 0 2.83L4 21.41c.39.39.9.59 1.41.59.51 0 1.02-.2 1.41-.59l7.78-7.78 2.81-2.81c.8-.78.8-2.07 0-2.86zM5.41 20L4 18.59l7.72-7.72 1.47 1.35L5.41 20z\"/>\n",
              "  </svg>\n",
              "      </button>\n",
              "      \n",
              "  <style>\n",
              "    .colab-df-container {\n",
              "      display:flex;\n",
              "      flex-wrap:wrap;\n",
              "      gap: 12px;\n",
              "    }\n",
              "\n",
              "    .colab-df-convert {\n",
              "      background-color: #E8F0FE;\n",
              "      border: none;\n",
              "      border-radius: 50%;\n",
              "      cursor: pointer;\n",
              "      display: none;\n",
              "      fill: #1967D2;\n",
              "      height: 32px;\n",
              "      padding: 0 0 0 0;\n",
              "      width: 32px;\n",
              "    }\n",
              "\n",
              "    .colab-df-convert:hover {\n",
              "      background-color: #E2EBFA;\n",
              "      box-shadow: 0px 1px 2px rgba(60, 64, 67, 0.3), 0px 1px 3px 1px rgba(60, 64, 67, 0.15);\n",
              "      fill: #174EA6;\n",
              "    }\n",
              "\n",
              "    [theme=dark] .colab-df-convert {\n",
              "      background-color: #3B4455;\n",
              "      fill: #D2E3FC;\n",
              "    }\n",
              "\n",
              "    [theme=dark] .colab-df-convert:hover {\n",
              "      background-color: #434B5C;\n",
              "      box-shadow: 0px 1px 3px 1px rgba(0, 0, 0, 0.15);\n",
              "      filter: drop-shadow(0px 1px 2px rgba(0, 0, 0, 0.3));\n",
              "      fill: #FFFFFF;\n",
              "    }\n",
              "  </style>\n",
              "\n",
              "      <script>\n",
              "        const buttonEl =\n",
              "          document.querySelector('#df-fa16d656-b072-4f44-90ed-4552c00df1ce button.colab-df-convert');\n",
              "        buttonEl.style.display =\n",
              "          google.colab.kernel.accessAllowed ? 'block' : 'none';\n",
              "\n",
              "        async function convertToInteractive(key) {\n",
              "          const element = document.querySelector('#df-fa16d656-b072-4f44-90ed-4552c00df1ce');\n",
              "          const dataTable =\n",
              "            await google.colab.kernel.invokeFunction('convertToInteractive',\n",
              "                                                     [key], {});\n",
              "          if (!dataTable) return;\n",
              "\n",
              "          const docLinkHtml = 'Like what you see? Visit the ' +\n",
              "            '<a target=\"_blank\" href=https://colab.research.google.com/notebooks/data_table.ipynb>data table notebook</a>'\n",
              "            + ' to learn more about interactive tables.';\n",
              "          element.innerHTML = '';\n",
              "          dataTable['output_type'] = 'display_data';\n",
              "          await google.colab.output.renderOutput(dataTable, element);\n",
              "          const docLink = document.createElement('div');\n",
              "          docLink.innerHTML = docLinkHtml;\n",
              "          element.appendChild(docLink);\n",
              "        }\n",
              "      </script>\n",
              "    </div>\n",
              "  </div>\n",
              "  "
            ]
          },
          "metadata": {},
          "execution_count": 371
        }
      ]
    },
    {
      "cell_type": "code",
      "source": [
        "#Removing the low variance\n",
        "from sklearn.feature_selection import VarianceThreshold\n",
        "var_thr = VarianceThreshold(threshold = 0.25) #Removing both constant and quasi-constant\n",
        "var_thr.fit(data[num])\n",
        "var_thr.get_support()"
      ],
      "metadata": {
        "colab": {
          "base_uri": "https://localhost:8080/"
        },
        "id": "YyAI-NxX3sWT",
        "outputId": "e2b98290-a5b3-4d7b-93c9-dc97e51d2119"
      },
      "execution_count": 372,
      "outputs": [
        {
          "output_type": "execute_result",
          "data": {
            "text/plain": [
              "array([ True,  True,  True,  True,  True,  True, False, False,  True])"
            ]
          },
          "metadata": {},
          "execution_count": 372
        }
      ]
    },
    {
      "cell_type": "code",
      "source": [
        "concol = [column for column in data[num].columns \n",
        "          if column not in data[num].columns[var_thr.get_support()]]\n",
        "\n",
        "for features in concol:\n",
        "    print(features)"
      ],
      "metadata": {
        "id": "HLaLOV2134u6",
        "colab": {
          "base_uri": "https://localhost:8080/"
        },
        "outputId": "eeaf07cf-ae31-4785-de60-4a6ee725f2f2"
      },
      "execution_count": 373,
      "outputs": [
        {
          "output_type": "stream",
          "name": "stdout",
          "text": [
            "perf_6_month_avg\n",
            "perf_12_month_avg\n"
          ]
        }
      ]
    },
    {
      "cell_type": "code",
      "source": [
        "num=num.drop(concol)\n",
        "num"
      ],
      "metadata": {
        "colab": {
          "base_uri": "https://localhost:8080/"
        },
        "id": "tRNEEc7N4E8J",
        "outputId": "9c006d3f-9502-4ff5-ffe0-32da064d7ac9"
      },
      "execution_count": 374,
      "outputs": [
        {
          "output_type": "execute_result",
          "data": {
            "text/plain": [
              "Index(['national_inv', 'in_transit_qty', 'forecast_3_month', 'sales_1_month',\n",
              "       'min_bank', 'pieces_past_due', 'local_bo_qty'],\n",
              "      dtype='object')"
            ]
          },
          "metadata": {},
          "execution_count": 374
        }
      ]
    },
    {
      "cell_type": "code",
      "source": [
        "data.shape"
      ],
      "metadata": {
        "colab": {
          "base_uri": "https://localhost:8080/"
        },
        "id": "okehE9324GKQ",
        "outputId": "1731a2b0-efe6-40c2-a906-6ffd8cf2a6fb"
      },
      "execution_count": 375,
      "outputs": [
        {
          "output_type": "execute_result",
          "data": {
            "text/plain": [
              "(56800, 16)"
            ]
          },
          "metadata": {},
          "execution_count": 375
        }
      ]
    },
    {
      "cell_type": "code",
      "source": [
        "#Train and Test Split\n",
        "X_train,X_test,y_train,y_test=train_test_split(data.loc[:, data.columns!='went_on_backorder'], data['went_on_backorder'], test_size=0.3, random_state=100,stratify=data['went_on_backorder'])"
      ],
      "metadata": {
        "id": "Pws8xiHNlfwi"
      },
      "execution_count": 376,
      "outputs": []
    },
    {
      "cell_type": "code",
      "source": [
        "#Checking the value counts of the target variable\n",
        "y_train.value_counts()"
      ],
      "metadata": {
        "colab": {
          "base_uri": "https://localhost:8080/"
        },
        "id": "Ev-z1-sLFndQ",
        "outputId": "9ce87a48-1546-4c45-bb00-f241d25fbc75"
      },
      "execution_count": 377,
      "outputs": [
        {
          "output_type": "execute_result",
          "data": {
            "text/plain": [
              "No     32245\n",
              "Yes     7515\n",
              "Name: went_on_backorder, dtype: int64"
            ]
          },
          "metadata": {},
          "execution_count": 377
        }
      ]
    },
    {
      "cell_type": "code",
      "source": [],
      "metadata": {
        "id": "pF6Dei5lIcwa"
      },
      "execution_count": 377,
      "outputs": []
    },
    {
      "cell_type": "code",
      "source": [
        "cat=cat.drop('went_on_backorder')\n",
        "X_train_num=X_train[num]\n",
        "X_test_num=X_test[num]\n",
        "X_train_cat=X_train[cat]\n",
        "X_test_cat=X_test[cat]\n"
      ],
      "metadata": {
        "id": "pBmn58eRm7iJ"
      },
      "execution_count": 378,
      "outputs": []
    },
    {
      "cell_type": "code",
      "source": [
        "#Imputing the null values\n",
        "sim_num=SimpleImputer(strategy='mean')\n",
        "sim_cat=SimpleImputer(strategy='most_frequent')\n",
        "X_train_num=pd.DataFrame(sim_num.fit_transform(X_train_num),columns=X_train_num.columns)\n",
        "X_test_num=pd.DataFrame(sim_num.transform(X_test_num),columns=X_test_num.columns)\n",
        "X_train_cat=pd.DataFrame(sim_cat.fit_transform(X_train_cat),columns=X_train_cat.columns)\n",
        "X_test_cat=pd.DataFrame(sim_cat.transform(X_test_cat),columns=X_test_cat.columns)"
      ],
      "metadata": {
        "id": "fYrLleMtlt8R"
      },
      "execution_count": 379,
      "outputs": []
    },
    {
      "cell_type": "code",
      "source": [
        "X_train_num.isnull().sum()\n",
        "X_train_cat.isnull().sum()"
      ],
      "metadata": {
        "id": "5xix3I54nptv",
        "colab": {
          "base_uri": "https://localhost:8080/"
        },
        "outputId": "0c4e7787-6c0c-4636-bc49-f5410d27201b"
      },
      "execution_count": 380,
      "outputs": [
        {
          "output_type": "execute_result",
          "data": {
            "text/plain": [
              "potential_issue    0\n",
              "deck_risk          0\n",
              "oe_constraint      0\n",
              "ppap_risk          0\n",
              "stop_auto_buy      0\n",
              "rev_stop           0\n",
              "dtype: int64"
            ]
          },
          "metadata": {},
          "execution_count": 380
        }
      ]
    },
    {
      "cell_type": "code",
      "source": [
        "#Standardizing the data\n",
        "std=StandardScaler()\n",
        "X_train_num=pd.DataFrame(std.fit_transform(X_train_num),columns=X_train_num.columns)\n",
        "X_test_num=pd.DataFrame(std.transform(X_test_num),columns=X_test_num.columns)"
      ],
      "metadata": {
        "id": "7-E1tjpdmcR3"
      },
      "execution_count": 381,
      "outputs": []
    },
    {
      "cell_type": "code",
      "source": [
        "# #Initiating PCA to reduce dimentions aka features to 3\n",
        "# pca = PCA(n_components=5)\n",
        "# pca.fit(X_train[num])\n",
        "# PCA_train = pd.DataFrame(pca.fit_transform(X_train[num]), columns=([\"col1\",\"col2\", \"col3\",\"col4\",\"col5\"]))\n",
        "# PCA_train.describe()"
      ],
      "metadata": {
        "id": "6IcrkyR_SGi4"
      },
      "execution_count": 382,
      "outputs": []
    },
    {
      "cell_type": "code",
      "source": [
        "# pca = PCA(n_components=5)\n",
        "# pca.fit(X_test[num])\n",
        "# PCA_test = pd.DataFrame(pca.transform(X_test[num]), columns=([\"col1\",\"col2\", \"col3\",\"col4\",\"col5\"]))\n",
        "# PCA_test.describe()"
      ],
      "metadata": {
        "id": "hL8BPq_tS0SP"
      },
      "execution_count": 383,
      "outputs": []
    },
    {
      "cell_type": "code",
      "source": [
        "X_train_cat"
      ],
      "metadata": {
        "colab": {
          "base_uri": "https://localhost:8080/",
          "height": 424
        },
        "id": "whIroc5w-HT7",
        "outputId": "70399b3b-eee8-49a2-adb0-d57425dee5b0"
      },
      "execution_count": 384,
      "outputs": [
        {
          "output_type": "execute_result",
          "data": {
            "text/plain": [
              "      potential_issue deck_risk oe_constraint ppap_risk stop_auto_buy rev_stop\n",
              "0                  No        No            No       Yes           Yes       No\n",
              "1                  No        No            No        No           Yes       No\n",
              "2                  No        No            No        No           Yes       No\n",
              "3                  No        No            No        No           Yes       No\n",
              "4                  No        No            No        No           Yes       No\n",
              "...               ...       ...           ...       ...           ...      ...\n",
              "39755              No        No            No        No           Yes       No\n",
              "39756              No        No            No        No           Yes       No\n",
              "39757              No       Yes            No        No            No       No\n",
              "39758              No        No            No        No           Yes       No\n",
              "39759              No        No            No        No           Yes       No\n",
              "\n",
              "[39760 rows x 6 columns]"
            ],
            "text/html": [
              "\n",
              "  <div id=\"df-fe511c35-27af-4827-91b3-1d393db3cb93\">\n",
              "    <div class=\"colab-df-container\">\n",
              "      <div>\n",
              "<style scoped>\n",
              "    .dataframe tbody tr th:only-of-type {\n",
              "        vertical-align: middle;\n",
              "    }\n",
              "\n",
              "    .dataframe tbody tr th {\n",
              "        vertical-align: top;\n",
              "    }\n",
              "\n",
              "    .dataframe thead th {\n",
              "        text-align: right;\n",
              "    }\n",
              "</style>\n",
              "<table border=\"1\" class=\"dataframe\">\n",
              "  <thead>\n",
              "    <tr style=\"text-align: right;\">\n",
              "      <th></th>\n",
              "      <th>potential_issue</th>\n",
              "      <th>deck_risk</th>\n",
              "      <th>oe_constraint</th>\n",
              "      <th>ppap_risk</th>\n",
              "      <th>stop_auto_buy</th>\n",
              "      <th>rev_stop</th>\n",
              "    </tr>\n",
              "  </thead>\n",
              "  <tbody>\n",
              "    <tr>\n",
              "      <th>0</th>\n",
              "      <td>No</td>\n",
              "      <td>No</td>\n",
              "      <td>No</td>\n",
              "      <td>Yes</td>\n",
              "      <td>Yes</td>\n",
              "      <td>No</td>\n",
              "    </tr>\n",
              "    <tr>\n",
              "      <th>1</th>\n",
              "      <td>No</td>\n",
              "      <td>No</td>\n",
              "      <td>No</td>\n",
              "      <td>No</td>\n",
              "      <td>Yes</td>\n",
              "      <td>No</td>\n",
              "    </tr>\n",
              "    <tr>\n",
              "      <th>2</th>\n",
              "      <td>No</td>\n",
              "      <td>No</td>\n",
              "      <td>No</td>\n",
              "      <td>No</td>\n",
              "      <td>Yes</td>\n",
              "      <td>No</td>\n",
              "    </tr>\n",
              "    <tr>\n",
              "      <th>3</th>\n",
              "      <td>No</td>\n",
              "      <td>No</td>\n",
              "      <td>No</td>\n",
              "      <td>No</td>\n",
              "      <td>Yes</td>\n",
              "      <td>No</td>\n",
              "    </tr>\n",
              "    <tr>\n",
              "      <th>4</th>\n",
              "      <td>No</td>\n",
              "      <td>No</td>\n",
              "      <td>No</td>\n",
              "      <td>No</td>\n",
              "      <td>Yes</td>\n",
              "      <td>No</td>\n",
              "    </tr>\n",
              "    <tr>\n",
              "      <th>...</th>\n",
              "      <td>...</td>\n",
              "      <td>...</td>\n",
              "      <td>...</td>\n",
              "      <td>...</td>\n",
              "      <td>...</td>\n",
              "      <td>...</td>\n",
              "    </tr>\n",
              "    <tr>\n",
              "      <th>39755</th>\n",
              "      <td>No</td>\n",
              "      <td>No</td>\n",
              "      <td>No</td>\n",
              "      <td>No</td>\n",
              "      <td>Yes</td>\n",
              "      <td>No</td>\n",
              "    </tr>\n",
              "    <tr>\n",
              "      <th>39756</th>\n",
              "      <td>No</td>\n",
              "      <td>No</td>\n",
              "      <td>No</td>\n",
              "      <td>No</td>\n",
              "      <td>Yes</td>\n",
              "      <td>No</td>\n",
              "    </tr>\n",
              "    <tr>\n",
              "      <th>39757</th>\n",
              "      <td>No</td>\n",
              "      <td>Yes</td>\n",
              "      <td>No</td>\n",
              "      <td>No</td>\n",
              "      <td>No</td>\n",
              "      <td>No</td>\n",
              "    </tr>\n",
              "    <tr>\n",
              "      <th>39758</th>\n",
              "      <td>No</td>\n",
              "      <td>No</td>\n",
              "      <td>No</td>\n",
              "      <td>No</td>\n",
              "      <td>Yes</td>\n",
              "      <td>No</td>\n",
              "    </tr>\n",
              "    <tr>\n",
              "      <th>39759</th>\n",
              "      <td>No</td>\n",
              "      <td>No</td>\n",
              "      <td>No</td>\n",
              "      <td>No</td>\n",
              "      <td>Yes</td>\n",
              "      <td>No</td>\n",
              "    </tr>\n",
              "  </tbody>\n",
              "</table>\n",
              "<p>39760 rows × 6 columns</p>\n",
              "</div>\n",
              "      <button class=\"colab-df-convert\" onclick=\"convertToInteractive('df-fe511c35-27af-4827-91b3-1d393db3cb93')\"\n",
              "              title=\"Convert this dataframe to an interactive table.\"\n",
              "              style=\"display:none;\">\n",
              "        \n",
              "  <svg xmlns=\"http://www.w3.org/2000/svg\" height=\"24px\"viewBox=\"0 0 24 24\"\n",
              "       width=\"24px\">\n",
              "    <path d=\"M0 0h24v24H0V0z\" fill=\"none\"/>\n",
              "    <path d=\"M18.56 5.44l.94 2.06.94-2.06 2.06-.94-2.06-.94-.94-2.06-.94 2.06-2.06.94zm-11 1L8.5 8.5l.94-2.06 2.06-.94-2.06-.94L8.5 2.5l-.94 2.06-2.06.94zm10 10l.94 2.06.94-2.06 2.06-.94-2.06-.94-.94-2.06-.94 2.06-2.06.94z\"/><path d=\"M17.41 7.96l-1.37-1.37c-.4-.4-.92-.59-1.43-.59-.52 0-1.04.2-1.43.59L10.3 9.45l-7.72 7.72c-.78.78-.78 2.05 0 2.83L4 21.41c.39.39.9.59 1.41.59.51 0 1.02-.2 1.41-.59l7.78-7.78 2.81-2.81c.8-.78.8-2.07 0-2.86zM5.41 20L4 18.59l7.72-7.72 1.47 1.35L5.41 20z\"/>\n",
              "  </svg>\n",
              "      </button>\n",
              "      \n",
              "  <style>\n",
              "    .colab-df-container {\n",
              "      display:flex;\n",
              "      flex-wrap:wrap;\n",
              "      gap: 12px;\n",
              "    }\n",
              "\n",
              "    .colab-df-convert {\n",
              "      background-color: #E8F0FE;\n",
              "      border: none;\n",
              "      border-radius: 50%;\n",
              "      cursor: pointer;\n",
              "      display: none;\n",
              "      fill: #1967D2;\n",
              "      height: 32px;\n",
              "      padding: 0 0 0 0;\n",
              "      width: 32px;\n",
              "    }\n",
              "\n",
              "    .colab-df-convert:hover {\n",
              "      background-color: #E2EBFA;\n",
              "      box-shadow: 0px 1px 2px rgba(60, 64, 67, 0.3), 0px 1px 3px 1px rgba(60, 64, 67, 0.15);\n",
              "      fill: #174EA6;\n",
              "    }\n",
              "\n",
              "    [theme=dark] .colab-df-convert {\n",
              "      background-color: #3B4455;\n",
              "      fill: #D2E3FC;\n",
              "    }\n",
              "\n",
              "    [theme=dark] .colab-df-convert:hover {\n",
              "      background-color: #434B5C;\n",
              "      box-shadow: 0px 1px 3px 1px rgba(0, 0, 0, 0.15);\n",
              "      filter: drop-shadow(0px 1px 2px rgba(0, 0, 0, 0.3));\n",
              "      fill: #FFFFFF;\n",
              "    }\n",
              "  </style>\n",
              "\n",
              "      <script>\n",
              "        const buttonEl =\n",
              "          document.querySelector('#df-fe511c35-27af-4827-91b3-1d393db3cb93 button.colab-df-convert');\n",
              "        buttonEl.style.display =\n",
              "          google.colab.kernel.accessAllowed ? 'block' : 'none';\n",
              "\n",
              "        async function convertToInteractive(key) {\n",
              "          const element = document.querySelector('#df-fe511c35-27af-4827-91b3-1d393db3cb93');\n",
              "          const dataTable =\n",
              "            await google.colab.kernel.invokeFunction('convertToInteractive',\n",
              "                                                     [key], {});\n",
              "          if (!dataTable) return;\n",
              "\n",
              "          const docLinkHtml = 'Like what you see? Visit the ' +\n",
              "            '<a target=\"_blank\" href=https://colab.research.google.com/notebooks/data_table.ipynb>data table notebook</a>'\n",
              "            + ' to learn more about interactive tables.';\n",
              "          element.innerHTML = '';\n",
              "          dataTable['output_type'] = 'display_data';\n",
              "          await google.colab.output.renderOutput(dataTable, element);\n",
              "          const docLink = document.createElement('div');\n",
              "          docLink.innerHTML = docLinkHtml;\n",
              "          element.appendChild(docLink);\n",
              "        }\n",
              "      </script>\n",
              "    </div>\n",
              "  </div>\n",
              "  "
            ]
          },
          "metadata": {},
          "execution_count": 384
        }
      ]
    },
    {
      "cell_type": "code",
      "source": [
        "#Encoding the categorical columns\n",
        "ohe=OneHotEncoder()\n",
        "X_train_cat=X_train_cat.astype('category')\n",
        "X_test_cat=X_test_cat.astype('category')\n",
        "X_train_cat=pd.DataFrame(ohe.fit_transform(X_train_cat).todense(),columns=ohe.get_feature_names_out())\n",
        "X_test_cat=pd.DataFrame(ohe.fit_transform(X_test_cat).todense(),columns=ohe.get_feature_names_out())\n",
        "X_train_cat\n",
        "\n"
      ],
      "metadata": {
        "id": "BOP-r8U3txvt",
        "colab": {
          "base_uri": "https://localhost:8080/",
          "height": 488
        },
        "outputId": "9299c5a3-06f1-45a4-abed-43c1fcf06ae0"
      },
      "execution_count": 385,
      "outputs": [
        {
          "output_type": "execute_result",
          "data": {
            "text/plain": [
              "       potential_issue_No  potential_issue_Yes  deck_risk_No  deck_risk_Yes  \\\n",
              "0                     1.0                  0.0           1.0            0.0   \n",
              "1                     1.0                  0.0           1.0            0.0   \n",
              "2                     1.0                  0.0           1.0            0.0   \n",
              "3                     1.0                  0.0           1.0            0.0   \n",
              "4                     1.0                  0.0           1.0            0.0   \n",
              "...                   ...                  ...           ...            ...   \n",
              "39755                 1.0                  0.0           1.0            0.0   \n",
              "39756                 1.0                  0.0           1.0            0.0   \n",
              "39757                 1.0                  0.0           0.0            1.0   \n",
              "39758                 1.0                  0.0           1.0            0.0   \n",
              "39759                 1.0                  0.0           1.0            0.0   \n",
              "\n",
              "       oe_constraint_No  oe_constraint_Yes  ppap_risk_No  ppap_risk_Yes  \\\n",
              "0                   1.0                0.0           0.0            1.0   \n",
              "1                   1.0                0.0           1.0            0.0   \n",
              "2                   1.0                0.0           1.0            0.0   \n",
              "3                   1.0                0.0           1.0            0.0   \n",
              "4                   1.0                0.0           1.0            0.0   \n",
              "...                 ...                ...           ...            ...   \n",
              "39755               1.0                0.0           1.0            0.0   \n",
              "39756               1.0                0.0           1.0            0.0   \n",
              "39757               1.0                0.0           1.0            0.0   \n",
              "39758               1.0                0.0           1.0            0.0   \n",
              "39759               1.0                0.0           1.0            0.0   \n",
              "\n",
              "       stop_auto_buy_No  stop_auto_buy_Yes  rev_stop_No  rev_stop_Yes  \n",
              "0                   0.0                1.0          1.0           0.0  \n",
              "1                   0.0                1.0          1.0           0.0  \n",
              "2                   0.0                1.0          1.0           0.0  \n",
              "3                   0.0                1.0          1.0           0.0  \n",
              "4                   0.0                1.0          1.0           0.0  \n",
              "...                 ...                ...          ...           ...  \n",
              "39755               0.0                1.0          1.0           0.0  \n",
              "39756               0.0                1.0          1.0           0.0  \n",
              "39757               1.0                0.0          1.0           0.0  \n",
              "39758               0.0                1.0          1.0           0.0  \n",
              "39759               0.0                1.0          1.0           0.0  \n",
              "\n",
              "[39760 rows x 12 columns]"
            ],
            "text/html": [
              "\n",
              "  <div id=\"df-520c6a36-6c07-4329-8906-5be4606b8e64\">\n",
              "    <div class=\"colab-df-container\">\n",
              "      <div>\n",
              "<style scoped>\n",
              "    .dataframe tbody tr th:only-of-type {\n",
              "        vertical-align: middle;\n",
              "    }\n",
              "\n",
              "    .dataframe tbody tr th {\n",
              "        vertical-align: top;\n",
              "    }\n",
              "\n",
              "    .dataframe thead th {\n",
              "        text-align: right;\n",
              "    }\n",
              "</style>\n",
              "<table border=\"1\" class=\"dataframe\">\n",
              "  <thead>\n",
              "    <tr style=\"text-align: right;\">\n",
              "      <th></th>\n",
              "      <th>potential_issue_No</th>\n",
              "      <th>potential_issue_Yes</th>\n",
              "      <th>deck_risk_No</th>\n",
              "      <th>deck_risk_Yes</th>\n",
              "      <th>oe_constraint_No</th>\n",
              "      <th>oe_constraint_Yes</th>\n",
              "      <th>ppap_risk_No</th>\n",
              "      <th>ppap_risk_Yes</th>\n",
              "      <th>stop_auto_buy_No</th>\n",
              "      <th>stop_auto_buy_Yes</th>\n",
              "      <th>rev_stop_No</th>\n",
              "      <th>rev_stop_Yes</th>\n",
              "    </tr>\n",
              "  </thead>\n",
              "  <tbody>\n",
              "    <tr>\n",
              "      <th>0</th>\n",
              "      <td>1.0</td>\n",
              "      <td>0.0</td>\n",
              "      <td>1.0</td>\n",
              "      <td>0.0</td>\n",
              "      <td>1.0</td>\n",
              "      <td>0.0</td>\n",
              "      <td>0.0</td>\n",
              "      <td>1.0</td>\n",
              "      <td>0.0</td>\n",
              "      <td>1.0</td>\n",
              "      <td>1.0</td>\n",
              "      <td>0.0</td>\n",
              "    </tr>\n",
              "    <tr>\n",
              "      <th>1</th>\n",
              "      <td>1.0</td>\n",
              "      <td>0.0</td>\n",
              "      <td>1.0</td>\n",
              "      <td>0.0</td>\n",
              "      <td>1.0</td>\n",
              "      <td>0.0</td>\n",
              "      <td>1.0</td>\n",
              "      <td>0.0</td>\n",
              "      <td>0.0</td>\n",
              "      <td>1.0</td>\n",
              "      <td>1.0</td>\n",
              "      <td>0.0</td>\n",
              "    </tr>\n",
              "    <tr>\n",
              "      <th>2</th>\n",
              "      <td>1.0</td>\n",
              "      <td>0.0</td>\n",
              "      <td>1.0</td>\n",
              "      <td>0.0</td>\n",
              "      <td>1.0</td>\n",
              "      <td>0.0</td>\n",
              "      <td>1.0</td>\n",
              "      <td>0.0</td>\n",
              "      <td>0.0</td>\n",
              "      <td>1.0</td>\n",
              "      <td>1.0</td>\n",
              "      <td>0.0</td>\n",
              "    </tr>\n",
              "    <tr>\n",
              "      <th>3</th>\n",
              "      <td>1.0</td>\n",
              "      <td>0.0</td>\n",
              "      <td>1.0</td>\n",
              "      <td>0.0</td>\n",
              "      <td>1.0</td>\n",
              "      <td>0.0</td>\n",
              "      <td>1.0</td>\n",
              "      <td>0.0</td>\n",
              "      <td>0.0</td>\n",
              "      <td>1.0</td>\n",
              "      <td>1.0</td>\n",
              "      <td>0.0</td>\n",
              "    </tr>\n",
              "    <tr>\n",
              "      <th>4</th>\n",
              "      <td>1.0</td>\n",
              "      <td>0.0</td>\n",
              "      <td>1.0</td>\n",
              "      <td>0.0</td>\n",
              "      <td>1.0</td>\n",
              "      <td>0.0</td>\n",
              "      <td>1.0</td>\n",
              "      <td>0.0</td>\n",
              "      <td>0.0</td>\n",
              "      <td>1.0</td>\n",
              "      <td>1.0</td>\n",
              "      <td>0.0</td>\n",
              "    </tr>\n",
              "    <tr>\n",
              "      <th>...</th>\n",
              "      <td>...</td>\n",
              "      <td>...</td>\n",
              "      <td>...</td>\n",
              "      <td>...</td>\n",
              "      <td>...</td>\n",
              "      <td>...</td>\n",
              "      <td>...</td>\n",
              "      <td>...</td>\n",
              "      <td>...</td>\n",
              "      <td>...</td>\n",
              "      <td>...</td>\n",
              "      <td>...</td>\n",
              "    </tr>\n",
              "    <tr>\n",
              "      <th>39755</th>\n",
              "      <td>1.0</td>\n",
              "      <td>0.0</td>\n",
              "      <td>1.0</td>\n",
              "      <td>0.0</td>\n",
              "      <td>1.0</td>\n",
              "      <td>0.0</td>\n",
              "      <td>1.0</td>\n",
              "      <td>0.0</td>\n",
              "      <td>0.0</td>\n",
              "      <td>1.0</td>\n",
              "      <td>1.0</td>\n",
              "      <td>0.0</td>\n",
              "    </tr>\n",
              "    <tr>\n",
              "      <th>39756</th>\n",
              "      <td>1.0</td>\n",
              "      <td>0.0</td>\n",
              "      <td>1.0</td>\n",
              "      <td>0.0</td>\n",
              "      <td>1.0</td>\n",
              "      <td>0.0</td>\n",
              "      <td>1.0</td>\n",
              "      <td>0.0</td>\n",
              "      <td>0.0</td>\n",
              "      <td>1.0</td>\n",
              "      <td>1.0</td>\n",
              "      <td>0.0</td>\n",
              "    </tr>\n",
              "    <tr>\n",
              "      <th>39757</th>\n",
              "      <td>1.0</td>\n",
              "      <td>0.0</td>\n",
              "      <td>0.0</td>\n",
              "      <td>1.0</td>\n",
              "      <td>1.0</td>\n",
              "      <td>0.0</td>\n",
              "      <td>1.0</td>\n",
              "      <td>0.0</td>\n",
              "      <td>1.0</td>\n",
              "      <td>0.0</td>\n",
              "      <td>1.0</td>\n",
              "      <td>0.0</td>\n",
              "    </tr>\n",
              "    <tr>\n",
              "      <th>39758</th>\n",
              "      <td>1.0</td>\n",
              "      <td>0.0</td>\n",
              "      <td>1.0</td>\n",
              "      <td>0.0</td>\n",
              "      <td>1.0</td>\n",
              "      <td>0.0</td>\n",
              "      <td>1.0</td>\n",
              "      <td>0.0</td>\n",
              "      <td>0.0</td>\n",
              "      <td>1.0</td>\n",
              "      <td>1.0</td>\n",
              "      <td>0.0</td>\n",
              "    </tr>\n",
              "    <tr>\n",
              "      <th>39759</th>\n",
              "      <td>1.0</td>\n",
              "      <td>0.0</td>\n",
              "      <td>1.0</td>\n",
              "      <td>0.0</td>\n",
              "      <td>1.0</td>\n",
              "      <td>0.0</td>\n",
              "      <td>1.0</td>\n",
              "      <td>0.0</td>\n",
              "      <td>0.0</td>\n",
              "      <td>1.0</td>\n",
              "      <td>1.0</td>\n",
              "      <td>0.0</td>\n",
              "    </tr>\n",
              "  </tbody>\n",
              "</table>\n",
              "<p>39760 rows × 12 columns</p>\n",
              "</div>\n",
              "      <button class=\"colab-df-convert\" onclick=\"convertToInteractive('df-520c6a36-6c07-4329-8906-5be4606b8e64')\"\n",
              "              title=\"Convert this dataframe to an interactive table.\"\n",
              "              style=\"display:none;\">\n",
              "        \n",
              "  <svg xmlns=\"http://www.w3.org/2000/svg\" height=\"24px\"viewBox=\"0 0 24 24\"\n",
              "       width=\"24px\">\n",
              "    <path d=\"M0 0h24v24H0V0z\" fill=\"none\"/>\n",
              "    <path d=\"M18.56 5.44l.94 2.06.94-2.06 2.06-.94-2.06-.94-.94-2.06-.94 2.06-2.06.94zm-11 1L8.5 8.5l.94-2.06 2.06-.94-2.06-.94L8.5 2.5l-.94 2.06-2.06.94zm10 10l.94 2.06.94-2.06 2.06-.94-2.06-.94-.94-2.06-.94 2.06-2.06.94z\"/><path d=\"M17.41 7.96l-1.37-1.37c-.4-.4-.92-.59-1.43-.59-.52 0-1.04.2-1.43.59L10.3 9.45l-7.72 7.72c-.78.78-.78 2.05 0 2.83L4 21.41c.39.39.9.59 1.41.59.51 0 1.02-.2 1.41-.59l7.78-7.78 2.81-2.81c.8-.78.8-2.07 0-2.86zM5.41 20L4 18.59l7.72-7.72 1.47 1.35L5.41 20z\"/>\n",
              "  </svg>\n",
              "      </button>\n",
              "      \n",
              "  <style>\n",
              "    .colab-df-container {\n",
              "      display:flex;\n",
              "      flex-wrap:wrap;\n",
              "      gap: 12px;\n",
              "    }\n",
              "\n",
              "    .colab-df-convert {\n",
              "      background-color: #E8F0FE;\n",
              "      border: none;\n",
              "      border-radius: 50%;\n",
              "      cursor: pointer;\n",
              "      display: none;\n",
              "      fill: #1967D2;\n",
              "      height: 32px;\n",
              "      padding: 0 0 0 0;\n",
              "      width: 32px;\n",
              "    }\n",
              "\n",
              "    .colab-df-convert:hover {\n",
              "      background-color: #E2EBFA;\n",
              "      box-shadow: 0px 1px 2px rgba(60, 64, 67, 0.3), 0px 1px 3px 1px rgba(60, 64, 67, 0.15);\n",
              "      fill: #174EA6;\n",
              "    }\n",
              "\n",
              "    [theme=dark] .colab-df-convert {\n",
              "      background-color: #3B4455;\n",
              "      fill: #D2E3FC;\n",
              "    }\n",
              "\n",
              "    [theme=dark] .colab-df-convert:hover {\n",
              "      background-color: #434B5C;\n",
              "      box-shadow: 0px 1px 3px 1px rgba(0, 0, 0, 0.15);\n",
              "      filter: drop-shadow(0px 1px 2px rgba(0, 0, 0, 0.3));\n",
              "      fill: #FFFFFF;\n",
              "    }\n",
              "  </style>\n",
              "\n",
              "      <script>\n",
              "        const buttonEl =\n",
              "          document.querySelector('#df-520c6a36-6c07-4329-8906-5be4606b8e64 button.colab-df-convert');\n",
              "        buttonEl.style.display =\n",
              "          google.colab.kernel.accessAllowed ? 'block' : 'none';\n",
              "\n",
              "        async function convertToInteractive(key) {\n",
              "          const element = document.querySelector('#df-520c6a36-6c07-4329-8906-5be4606b8e64');\n",
              "          const dataTable =\n",
              "            await google.colab.kernel.invokeFunction('convertToInteractive',\n",
              "                                                     [key], {});\n",
              "          if (!dataTable) return;\n",
              "\n",
              "          const docLinkHtml = 'Like what you see? Visit the ' +\n",
              "            '<a target=\"_blank\" href=https://colab.research.google.com/notebooks/data_table.ipynb>data table notebook</a>'\n",
              "            + ' to learn more about interactive tables.';\n",
              "          element.innerHTML = '';\n",
              "          dataTable['output_type'] = 'display_data';\n",
              "          await google.colab.output.renderOutput(dataTable, element);\n",
              "          const docLink = document.createElement('div');\n",
              "          docLink.innerHTML = docLinkHtml;\n",
              "          element.appendChild(docLink);\n",
              "        }\n",
              "      </script>\n",
              "    </div>\n",
              "  </div>\n",
              "  "
            ]
          },
          "metadata": {},
          "execution_count": 385
        }
      ]
    },
    {
      "cell_type": "code",
      "source": [
        "#Encoding the target variable\n",
        "from sklearn.preprocessing import LabelEncoder\n",
        "lab=LabelEncoder()\n",
        "y_train=lab.fit_transform(y_train)\n",
        "y_test=lab.transform(y_test)\n",
        "y_train"
      ],
      "metadata": {
        "id": "Vrh8_gjnw-Km",
        "colab": {
          "base_uri": "https://localhost:8080/"
        },
        "outputId": "8f8b91fc-d467-4c13-8b6f-b2af739d3d2f"
      },
      "execution_count": 386,
      "outputs": [
        {
          "output_type": "execute_result",
          "data": {
            "text/plain": [
              "array([0, 0, 0, ..., 0, 0, 0])"
            ]
          },
          "metadata": {},
          "execution_count": 386
        }
      ]
    },
    {
      "cell_type": "code",
      "source": [
        "#joining the cat and num\n",
        "X_train=pd.concat([X_train_num.reset_index(drop=True),X_train_cat.reset_index(drop=True)],axis=1)\n",
        "X_test=pd.concat([X_test_num.reset_index(drop=True),X_test_cat.reset_index(drop=True)],axis=1)\n",
        "X_train.isnull().sum()\n",
        "X_train.shape"
      ],
      "metadata": {
        "id": "BIdE8uoYnHRe",
        "colab": {
          "base_uri": "https://localhost:8080/"
        },
        "outputId": "13dff4b6-b7bc-4350-84cd-828cf36f61a7"
      },
      "execution_count": 387,
      "outputs": [
        {
          "output_type": "execute_result",
          "data": {
            "text/plain": [
              "(39760, 19)"
            ]
          },
          "metadata": {},
          "execution_count": 387
        }
      ]
    },
    {
      "cell_type": "code",
      "source": [
        "#Checking the value counts of the target variable\n",
        "np.unique(y_train,return_counts=True)"
      ],
      "metadata": {
        "colab": {
          "base_uri": "https://localhost:8080/"
        },
        "id": "299RY13RNrTZ",
        "outputId": "fb75a967-88e2-41e7-d2e0-9d5f38799d27"
      },
      "execution_count": 388,
      "outputs": [
        {
          "output_type": "execute_result",
          "data": {
            "text/plain": [
              "(array([0, 1]), array([32245,  7515]))"
            ]
          },
          "metadata": {},
          "execution_count": 388
        }
      ]
    },
    {
      "cell_type": "code",
      "source": [
        "#There is a class imbalance\n",
        "from imblearn.combine import SMOTEENN\n",
        "sm = SMOTEENN(random_state=30)\n",
        "X_train,y_train=sm.fit_resample(X_train,y_train.ravel())\n",
        "X_test,y_test=sm.fit_resample(X_test,y_test.ravel())\n",
        "np.unique(y_train,return_counts=True)"
      ],
      "metadata": {
        "colab": {
          "base_uri": "https://localhost:8080/"
        },
        "id": "Xd3Rr5AuKPz1",
        "outputId": "9a02b039-1e26-41cf-a10a-9807401111c0"
      },
      "execution_count": 389,
      "outputs": [
        {
          "output_type": "execute_result",
          "data": {
            "text/plain": [
              "(array([0, 1]), array([23671, 25658]))"
            ]
          },
          "metadata": {},
          "execution_count": 389
        }
      ]
    },
    {
      "cell_type": "code",
      "source": [
        "#Model building\n",
        "model=LogisticRegressionCV(max_iter=1000,penalty='l2',solver='newton-cg',class_weight='balanced')\n",
        "log=model.fit(X_train,y_train.ravel())"
      ],
      "metadata": {
        "id": "XXqFNM90nFDN"
      },
      "execution_count": 390,
      "outputs": []
    },
    {
      "cell_type": "code",
      "source": [
        "#Metrics\n",
        "train_pred=log.predict(X_train)\n",
        "test_pred=log.predict(X_test)"
      ],
      "metadata": {
        "id": "xhvAU5K9nWfb"
      },
      "execution_count": 391,
      "outputs": []
    },
    {
      "cell_type": "code",
      "source": [
        "print(confusion_matrix(train_pred,y_train))\n",
        "print(confusion_matrix(test_pred,y_test))\n",
        "print(classification_report(train_pred,y_train))\n",
        "print(classification_report(test_pred,y_test))"
      ],
      "metadata": {
        "id": "M_0Hv2cevdLp",
        "colab": {
          "base_uri": "https://localhost:8080/"
        },
        "outputId": "3e3d18d1-6ad9-449a-da46-0a72999fbb03"
      },
      "execution_count": 392,
      "outputs": [
        {
          "output_type": "stream",
          "name": "stdout",
          "text": [
            "[[18870  1460]\n",
            " [ 4801 24198]]\n",
            "[[ 8096   662]\n",
            " [ 2454 10256]]\n",
            "              precision    recall  f1-score   support\n",
            "\n",
            "           0       0.80      0.93      0.86     20330\n",
            "           1       0.94      0.83      0.89     28999\n",
            "\n",
            "    accuracy                           0.87     49329\n",
            "   macro avg       0.87      0.88      0.87     49329\n",
            "weighted avg       0.88      0.87      0.87     49329\n",
            "\n",
            "              precision    recall  f1-score   support\n",
            "\n",
            "           0       0.77      0.92      0.84      8758\n",
            "           1       0.94      0.81      0.87     12710\n",
            "\n",
            "    accuracy                           0.85     21468\n",
            "   macro avg       0.85      0.87      0.85     21468\n",
            "weighted avg       0.87      0.85      0.86     21468\n",
            "\n"
          ]
        }
      ]
    },
    {
      "cell_type": "code",
      "source": [
        "X_train.shape"
      ],
      "metadata": {
        "id": "1RNxRap1wdQQ",
        "colab": {
          "base_uri": "https://localhost:8080/"
        },
        "outputId": "2b2b73a4-baf1-4e58-cfc1-7ef73a849a44"
      },
      "execution_count": 393,
      "outputs": [
        {
          "output_type": "execute_result",
          "data": {
            "text/plain": [
              "(49329, 19)"
            ]
          },
          "metadata": {},
          "execution_count": 393
        }
      ]
    },
    {
      "cell_type": "code",
      "source": [
        "\n",
        "#Building the neural network\n",
        "import tensorflow as tf\n",
        "from tensorflow.keras.models import Sequential \n",
        "from tensorflow.keras.layers import Dense"
      ],
      "metadata": {
        "id": "lUZz85VDveup"
      },
      "execution_count": 394,
      "outputs": []
    },
    {
      "cell_type": "code",
      "source": [
        "model=Sequential()\n",
        "model.add(Dense(10,input_dim=19, activation='relu'))\n",
        "model.add(Dense(5,activation='relu'))       \n",
        "model.add(Dense(1, activation='sigmoid'))  "
      ],
      "metadata": {
        "id": "AeJZYFCSDtsd"
      },
      "execution_count": 395,
      "outputs": []
    },
    {
      "cell_type": "code",
      "source": [
        "from tensorflow.keras.optimizers import SGD \n",
        "customized_optimizer=SGD(learning_rate=0.01)"
      ],
      "metadata": {
        "id": "eov74WzLwOu2"
      },
      "execution_count": 396,
      "outputs": []
    },
    {
      "cell_type": "code",
      "source": [
        "model.compile(loss='binary_crossentropy',optimizer=customized_optimizer,metrics=['accuracy'])"
      ],
      "metadata": {
        "id": "I7YWAtdpwRIL"
      },
      "execution_count": 397,
      "outputs": []
    },
    {
      "cell_type": "code",
      "source": [
        "history = model.fit(X_train, y_train.ravel(),\n",
        "                    batch_size=32,\n",
        "                    validation_split=0.2,\n",
        "                    epochs= 30)"
      ],
      "metadata": {
        "id": "irgEptx7wTz3",
        "colab": {
          "base_uri": "https://localhost:8080/"
        },
        "outputId": "d093d85f-1e01-44c8-e9fe-769287312aa8"
      },
      "execution_count": 398,
      "outputs": [
        {
          "output_type": "stream",
          "name": "stdout",
          "text": [
            "Epoch 1/30\n",
            "1234/1234 [==============================] - 3s 2ms/step - loss: 0.6671 - accuracy: 0.6088 - val_loss: 0.8931 - val_accuracy: 0.1099\n",
            "Epoch 2/30\n",
            "1234/1234 [==============================] - 3s 2ms/step - loss: 0.6436 - accuracy: 0.6306 - val_loss: 0.8973 - val_accuracy: 0.1368\n",
            "Epoch 3/30\n",
            "1234/1234 [==============================] - 3s 2ms/step - loss: 0.6026 - accuracy: 0.6648 - val_loss: 0.8337 - val_accuracy: 0.2119\n",
            "Epoch 4/30\n",
            "1234/1234 [==============================] - 3s 2ms/step - loss: 0.5504 - accuracy: 0.6950 - val_loss: 0.6709 - val_accuracy: 0.3221\n",
            "Epoch 5/30\n",
            "1234/1234 [==============================] - 3s 2ms/step - loss: 0.5061 - accuracy: 0.7325 - val_loss: 0.6651 - val_accuracy: 0.3688\n",
            "Epoch 6/30\n",
            "1234/1234 [==============================] - 3s 2ms/step - loss: 0.4670 - accuracy: 0.7797 - val_loss: 0.8065 - val_accuracy: 0.3167\n",
            "Epoch 7/30\n",
            "1234/1234 [==============================] - 3s 2ms/step - loss: 0.4342 - accuracy: 0.8097 - val_loss: 0.2584 - val_accuracy: 0.9844\n",
            "Epoch 8/30\n",
            "1234/1234 [==============================] - 3s 2ms/step - loss: 0.4060 - accuracy: 0.8307 - val_loss: 0.4533 - val_accuracy: 0.8331\n",
            "Epoch 9/30\n",
            "1234/1234 [==============================] - 3s 2ms/step - loss: 0.3834 - accuracy: 0.8353 - val_loss: 0.2816 - val_accuracy: 0.9724\n",
            "Epoch 10/30\n",
            "1234/1234 [==============================] - 3s 2ms/step - loss: 0.3644 - accuracy: 0.8438 - val_loss: 1.2281 - val_accuracy: 0.3432\n",
            "Epoch 11/30\n",
            "1234/1234 [==============================] - 3s 2ms/step - loss: 0.3559 - accuracy: 0.8395 - val_loss: 1.4833 - val_accuracy: 0.3265\n",
            "Epoch 12/30\n",
            "1234/1234 [==============================] - 3s 2ms/step - loss: 0.3480 - accuracy: 0.8419 - val_loss: 0.0798 - val_accuracy: 0.9935\n",
            "Epoch 13/30\n",
            "1234/1234 [==============================] - 3s 2ms/step - loss: 0.3413 - accuracy: 0.8454 - val_loss: 0.0740 - val_accuracy: 0.9937\n",
            "Epoch 14/30\n",
            "1234/1234 [==============================] - 3s 2ms/step - loss: 0.3409 - accuracy: 0.8444 - val_loss: 0.1444 - val_accuracy: 0.9856\n",
            "Epoch 15/30\n",
            "1234/1234 [==============================] - 3s 2ms/step - loss: 0.3298 - accuracy: 0.8527 - val_loss: 0.5284 - val_accuracy: 0.6708\n",
            "Epoch 16/30\n",
            "1234/1234 [==============================] - 3s 2ms/step - loss: 0.3247 - accuracy: 0.8519 - val_loss: 1.3185 - val_accuracy: 0.4082\n",
            "Epoch 17/30\n",
            "1234/1234 [==============================] - 3s 2ms/step - loss: 0.3223 - accuracy: 0.8525 - val_loss: 0.9443 - val_accuracy: 0.5057\n",
            "Epoch 18/30\n",
            "1234/1234 [==============================] - 4s 3ms/step - loss: 0.3133 - accuracy: 0.8606 - val_loss: 0.3099 - val_accuracy: 0.9018\n",
            "Epoch 19/30\n",
            "1234/1234 [==============================] - 3s 2ms/step - loss: 0.3078 - accuracy: 0.8606 - val_loss: 2.2175 - val_accuracy: 0.3227\n",
            "Epoch 20/30\n",
            "1234/1234 [==============================] - 3s 3ms/step - loss: 0.3089 - accuracy: 0.8618 - val_loss: 1.1810 - val_accuracy: 0.4726\n",
            "Epoch 21/30\n",
            "1234/1234 [==============================] - 3s 3ms/step - loss: 0.2980 - accuracy: 0.8715 - val_loss: 0.9283 - val_accuracy: 0.5311\n",
            "Epoch 22/30\n",
            "1234/1234 [==============================] - 5s 4ms/step - loss: 0.2936 - accuracy: 0.8782 - val_loss: 0.4413 - val_accuracy: 0.7502\n",
            "Epoch 23/30\n",
            "1234/1234 [==============================] - 3s 2ms/step - loss: 0.2919 - accuracy: 0.8776 - val_loss: 0.6551 - val_accuracy: 0.6387\n",
            "Epoch 24/30\n",
            "1234/1234 [==============================] - 3s 2ms/step - loss: 0.2878 - accuracy: 0.8813 - val_loss: 0.3486 - val_accuracy: 0.8422\n",
            "Epoch 25/30\n",
            "1234/1234 [==============================] - 3s 2ms/step - loss: 0.2796 - accuracy: 0.8833 - val_loss: 0.9510 - val_accuracy: 0.5567\n",
            "Epoch 26/30\n",
            "1234/1234 [==============================] - 3s 2ms/step - loss: 0.2868 - accuracy: 0.8787 - val_loss: 0.1961 - val_accuracy: 0.9616\n",
            "Epoch 27/30\n",
            "1234/1234 [==============================] - 3s 2ms/step - loss: 0.2849 - accuracy: 0.8815 - val_loss: 1.1569 - val_accuracy: 0.5160\n",
            "Epoch 28/30\n",
            "1234/1234 [==============================] - 3s 2ms/step - loss: 0.2745 - accuracy: 0.8834 - val_loss: 0.1224 - val_accuracy: 0.9812\n",
            "Epoch 29/30\n",
            "1234/1234 [==============================] - 3s 2ms/step - loss: 0.2747 - accuracy: 0.8851 - val_loss: 2.0070 - val_accuracy: 0.3814\n",
            "Epoch 30/30\n",
            "1234/1234 [==============================] - 3s 2ms/step - loss: 0.2652 - accuracy: 0.8919 - val_loss: 0.2571 - val_accuracy: 0.9234\n"
          ]
        }
      ]
    },
    {
      "cell_type": "code",
      "source": [
        "print(model.evaluate(X_train,y_train))\n",
        "print(model.evaluate(X_test,y_test))"
      ],
      "metadata": {
        "colab": {
          "base_uri": "https://localhost:8080/"
        },
        "id": "DH93AAKQ5Oxf",
        "outputId": "05eeace1-77b1-4249-c71b-1c903116becb"
      },
      "execution_count": 399,
      "outputs": [
        {
          "output_type": "stream",
          "name": "stdout",
          "text": [
            "1542/1542 [==============================] - 3s 2ms/step - loss: 0.2325 - accuracy: 0.9356\n",
            "[0.23251694440841675, 0.9356362223625183]\n",
            "671/671 [==============================] - 1s 2ms/step - loss: 0.2359 - accuracy: 0.9390\n",
            "[0.23586179316043854, 0.9389789700508118]\n"
          ]
        }
      ]
    },
    {
      "cell_type": "code",
      "source": [
        "y_train_Pred = (model.predict(X_train)>0.5).astype(\"int32\")\n",
        "y_test_Pred = (model.predict(X_test)>0.5).astype(\"int32\")"
      ],
      "metadata": {
        "colab": {
          "base_uri": "https://localhost:8080/"
        },
        "id": "BGY7O3QU67SU",
        "outputId": "88fd5531-a310-42bf-e07f-4b2f66f625df"
      },
      "execution_count": 400,
      "outputs": [
        {
          "output_type": "stream",
          "name": "stdout",
          "text": [
            "1542/1542 [==============================] - 2s 1ms/step\n",
            "671/671 [==============================] - 1s 1ms/step\n"
          ]
        }
      ]
    },
    {
      "cell_type": "code",
      "source": [
        "# Function for Classification Report\n",
        "from sklearn.metrics import accuracy_score,classification_report\n",
        "def classifcation_report_train_test(y_train, y_train_pred, y_test, y_test_pred):\n",
        "\n",
        "    print('''\n",
        "            =========================================\n",
        "               CLASSIFICATION REPORT FOR TRAIN DATA\n",
        "            =========================================\n",
        "            ''')\n",
        "    print(classification_report(y_train, y_train_pred, digits=4))\n",
        "\n",
        "    print('''\n",
        "            =========================================\n",
        "               CLASSIFICATION REPORT FOR TEST DATA\n",
        "            =========================================\n",
        "            ''')\n",
        "    print(classification_report(y_test, y_test_pred, digits=4))"
      ],
      "metadata": {
        "id": "PTmOq_5s6Pga"
      },
      "execution_count": 401,
      "outputs": []
    },
    {
      "cell_type": "code",
      "source": [
        "classifcation_report_train_test(y_train, y_train_Pred, y_test, y_test_Pred)"
      ],
      "metadata": {
        "colab": {
          "base_uri": "https://localhost:8080/"
        },
        "id": "KPBfQ4Pk6txJ",
        "outputId": "7305f953-bb6c-42b3-acaf-5789aaa59871"
      },
      "execution_count": 402,
      "outputs": [
        {
          "output_type": "stream",
          "name": "stdout",
          "text": [
            "\n",
            "            =========================================\n",
            "               CLASSIFICATION REPORT FOR TRAIN DATA\n",
            "            =========================================\n",
            "            \n",
            "              precision    recall  f1-score   support\n",
            "\n",
            "           0     0.9193    0.9492    0.9340     23671\n",
            "           1     0.9517    0.9231    0.9372     25658\n",
            "\n",
            "    accuracy                         0.9356     49329\n",
            "   macro avg     0.9355    0.9362    0.9356     49329\n",
            "weighted avg     0.9361    0.9356    0.9357     49329\n",
            "\n",
            "\n",
            "            =========================================\n",
            "               CLASSIFICATION REPORT FOR TEST DATA\n",
            "            =========================================\n",
            "            \n",
            "              precision    recall  f1-score   support\n",
            "\n",
            "           0     0.9217    0.9572    0.9391     10550\n",
            "           1     0.9570    0.9214    0.9389     10918\n",
            "\n",
            "    accuracy                         0.9390     21468\n",
            "   macro avg     0.9393    0.9393    0.9390     21468\n",
            "weighted avg     0.9396    0.9390    0.9390     21468\n",
            "\n"
          ]
        }
      ]
    },
    {
      "cell_type": "code",
      "source": [],
      "metadata": {
        "id": "PFj1Ab6vE3W7"
      },
      "execution_count": 402,
      "outputs": []
    }
  ]
}